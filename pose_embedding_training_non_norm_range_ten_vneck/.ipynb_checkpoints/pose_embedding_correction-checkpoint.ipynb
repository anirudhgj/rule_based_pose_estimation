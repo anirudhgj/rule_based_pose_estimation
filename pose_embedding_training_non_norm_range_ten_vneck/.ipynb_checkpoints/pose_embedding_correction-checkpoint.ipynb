{
 "cells": [
  {
   "cell_type": "code",
   "execution_count": 1,
   "metadata": {},
   "outputs": [
    {
     "name": "stdout",
     "output_type": "stream",
     "text": [
      "Tensor(\"Const:0\", shape=(3,), dtype=float32)\n",
      "Tensor(\"Const_1:0\", shape=(17, 3), dtype=float32)\n"
     ]
    }
   ],
   "source": [
    "%load_ext autoreload\n",
    "%autoreload 2\n",
    "\n",
    "import matplotlib\n",
    "matplotlib.use(\"Agg\")\n",
    "import scipy.io as sio\n",
    "\n",
    "# from other_utils import np_utils, sk_utils\n",
    "import numpy as np\n",
    "import tensorflow as tf\n",
    "import os\n",
    "from termcolor import colored\n",
    "import matplotlib.pyplot as plt\n",
    "import matplotlib.image as mimg\n",
    "import matplotlib.gridspec as gridspec\n",
    " \n",
    "\n",
    "import model_componets as comps\n",
    "from data_loader import DataLoader\n",
    "from commons import transform_util as tr_util\n",
    "from model_componets import *\n",
    "import vis_image as vis\n",
    "\n",
    "import random\n"
   ]
  },
  {
   "cell_type": "code",
   "execution_count": 15,
   "metadata": {},
   "outputs": [],
   "source": [
    "limb_parents = [0, 0, 1, 2, 3, 1, 5, 6, 1, 0, 9, 10, 11, 0, 13, 14, 15]\n",
    "\n",
    "\n",
    "os.environ['CUDA_VISIBLE_DEVICES'] = \"1\"\n",
    "config = tf.ConfigProto()\n",
    "config.gpu_options.allow_growth = True\n",
    "sess = tf.InteractiveSession(config=config)\n",
    "\n",
    "def get_network_params(scope):\n",
    "    return tf.get_collection(tf.GraphKeys.GLOBAL_VARIABLES, scope=scope)\n",
    "\n",
    "\n",
    "def get_ax(joints_3d, fig, az=0, ele=10, subplot='111'):\n",
    "    x, y, z = subplot\n",
    "    ax = fig.add_subplot(subplot, projection='3d')\n",
    "\n",
    "    lim = np.max(np.abs(joints_3d))\n",
    "    ax.view_init(azim=az, elev=ele)\n",
    "\n",
    "    ax.set_xlim(-lim, lim)\n",
    "    ax.set_ylim(-lim, lim)\n",
    "    ax.set_zlim(-lim, lim)\n",
    "    ax.set_xlabel('x')\n",
    "    ax.set_ylabel('y')\n",
    "    ax.set_zlabel('z')\n",
    "\n",
    "    return ax\n",
    "\n",
    "def plot_skeleton(ax, ske,color_ours,az, ground_size=0.5):\n",
    "        lcolor = color_ours[0]\n",
    "        rcolor = color_ours[1]\n",
    "        ax.grid(False)\n",
    "#         # Hide axes ticks\n",
    "#         ax.set_xticks([])\n",
    "#         ax.set_yticks([])\n",
    "#         ax.set_zticks([])\n",
    "#         plt.axis('off')\n",
    "#         ax.set_aspect('equal')\n",
    "        ax.elev = 10\n",
    "        ax.azim = az\n",
    "#         ax.azim = 0 \n",
    "#         ax.dist = 9\n",
    "#         ax.set_xlim(-10, 10)\n",
    "#         ax.set_ylim(-10, 10)\n",
    "#         ax.set_zlim(-10, 10)\n",
    "        \n",
    "        \n",
    "# \n",
    "        lim = np.max(np.abs(ske))\n",
    "#         ax.view_init(azim=az, elev=ele)\n",
    "\n",
    "        ax.set_xlim(-lim, lim)\n",
    "        ax.set_ylim(-lim, lim)\n",
    "        ax.set_zlim(-lim, lim)\n",
    "        \n",
    "        ax.set_xlabel('x',labelpad=-8)\n",
    "        ax.set_ylabel('y',labelpad=-8)\n",
    "        ax.set_zlabel('z',labelpad = -10)\n",
    "        ax.set_yticklabels([])\n",
    "        ax.set_xticklabels([])\n",
    "        ax.set_zticklabels([])\n",
    "        ax.axis('off')       \n",
    "\n",
    "\n",
    "\n",
    "\n",
    "        # ax.set_aspect('equal')\n",
    "\n",
    "#         ax.view_init(azim=90, elev=10)\n",
    "\n",
    "        C = [{0: lcolor,  1: rcolor}[flag] for flag in lr_flags]\n",
    "        P = limb_parents\n",
    "\n",
    "        # Make connection matrix\n",
    "#         joint_lines = []\n",
    "        for i in range(ske.shape[0]):\n",
    "            x = [ske[i, 0], ske[P[i], 0]]\n",
    "            y = [ske[i, 1], ske[P[i], 1]]\n",
    "            z = [ske[i, 2], ske[P[i], 2]]\n",
    "#             x = [ske[i, 0]*1.2, ske[P[i]*1.2, 0]]\n",
    "#             y = [ske[i, 1]*1.2, ske[P[i]*1.2, 1]]\n",
    "#             z = [ske[i, 2]*1.2, ske[P[i]*1.2, 2]]\n",
    "            \n",
    "            # print x,y,z\n",
    "            ax.plot(x, y, z, lw=4, c=C[i])\n",
    "\n",
    "\n",
    "\n",
    "# color_ours = ['blue',  'green']\n",
    "# color_ours = ['#5879ff',  '#cc2520']\n",
    "\n",
    "lr_flags = [\n",
    "    1, 1,\n",
    "    1, 1, 1,\n",
    "    0, 0, 0,\n",
    "    1,\n",
    "    1, 1, 1, 1,\n",
    "    0, 0, 0, 0,\n",
    "]\n",
    "\n",
    "\n",
    "\n",
    "\n",
    "def get_all_plots_images(skeleton_strips):\n",
    "    m = 15\n",
    "    fig=plt.figure(figsize=(1.77 * 4 * 45 , 4))\n",
    "    gs = gridspec.GridSpec(1, m)\n",
    "    gs.update(wspace=0.05, hspace=0.4, left = None, right = 0.6, bottom = 0.1, top = 0.9) \n",
    "\n",
    "    for j in range(m):\n",
    "        idx = j\n",
    "        ax = plt.subplot(gs[idx])\n",
    "        k=mpimg.imread(skeleton_strips[j])\n",
    "        ax.imshow(k)\n",
    "        ax.axis('off')    \n",
    "\n",
    "    return fig  \n",
    "\n",
    "\n",
    "def get_all_plots(skeleton_strips_male,az):\n",
    "    \n",
    "#     l = len(os.listdir('./pose_grid_4/grid_plots/')) + 1\n",
    "#     os.makedirs('./pose_grid_4/grid_plots/plot_{}/'.format(str(l)))\n",
    "#     sio.savemat('./pose_grid_4/grid_plots/plot_{}/artifacts.mat'.format(str(l)),{'gt':x_inputs,'embedding':grid_flat,'grid':pred_ops})\n",
    "    \n",
    "#     fig=plt.figure(figsize=(4  * 15 , 4 * 15))#width , height\n",
    "    fig=plt.figure(figsize=(4  , 5))#width , height\n",
    "    gs = gridspec.GridSpec(1, 1) #rows and columns\n",
    "#     gs.update(wspace=0.05, hspace=0.0005) # set the spacing between axes. \n",
    "    gs.update(wspace=0.05, hspace=0.4, left = None, right = 0.6, bottom = 0.1, top = 0.9) \n",
    "    cnt = 0\n",
    "    for i in range (10):\n",
    "    #     lcolor, rcolor = colors\n",
    "        for j in range(11):\n",
    "            idx = j\n",
    "#             ax = plt.subplot(gs[idx], projection='3d')\n",
    "#     #         color_ours = ['blue',  'green']\n",
    "#             color_ours = ['k','m']\n",
    "\n",
    "#             plot_skeleton(ax, skeleton_strips_male[j],color_ours,az)\n",
    "    #         color_ours = ['#5879ff',  '#cc2520']\n",
    "    #         color_ours = ['k','m']\n",
    "    #         plot_skeleton(ax, skeleton_strips_female[j],color_ours)\n",
    "            ax = plt.subplot(gs[0], projection='3d')\n",
    "            color_ours = ['k','m']\n",
    "            plot_skeleton(ax, skeleton_strips_male[cnt],color_ours,az)\n",
    "            cnt = cnt + 1\n",
    "\n",
    "#             plt.savefig(\"{}{}.png\".format(path,i),bbox_inches = 'tight',dpi=350, transparent = True);\n",
    "            plt.savefig(\"./pose_grid_4/grid_plots/plot_4/single-{}{}.png\".format(i,j),bbox_inches = 'tight',dpi=350, transparent = True);\n",
    "\n",
    "    return fig\n",
    "\n",
    "\n",
    "\n",
    "# def get_tmp_plots(skeleton_strips_male,az):\n",
    "    \n",
    "#     l = len(os.listdir('./pose_grid_4/corner_plots/')) + 1\n",
    "#     os.makedirs('./pose_grid_4/corner_plots/plot_{}/'.format(str(l)))\n",
    "#     sio.savemat('./pose_grid_4/corner_plots/plot_{}/corner_artifacts.mat'.format(str(l)),{'corner_poses':final_poses})\n",
    "\n",
    "# #     fig=plt.figure(figsize=(4  * 15 , 4 * 15))#width , height\n",
    "#     fig=plt.figure(figsize=(4  * 10 , 5))#width , height\n",
    "#     gs = gridspec.GridSpec(1, 10) #rows and columns\n",
    "# #     gs.update(wspace=0.05, hspace=0.0005) # set the spacing between axes. \n",
    "#     gs.update(wspace=0.05, hspace=0.4, left = None, right = 0.6, bottom = 0.1, top = 0.9) \n",
    "#     cnt = 0\n",
    "#     for i in range (2):\n",
    "#     #     lcolor, rcolor = colors\n",
    "#         for j in range(2):\n",
    "#             idx = j\n",
    "# #             ax = plt.subplot(gs[idx], projection='3d')\n",
    "# #     #         color_ours = ['blue',  'green']\n",
    "# #             color_ours = ['k','m']\n",
    "\n",
    "# #             plot_skeleton(ax, skeleton_strips_male[j],color_ours,az)\n",
    "#     #         color_ours = ['#5879ff',  '#cc2520']\n",
    "#     #         color_ours = ['k','m']\n",
    "#     #         plot_skeleton(ax, skeleton_strips_female[j],color_ours)\n",
    "#             ax = plt.subplot(gs[j], projection='3d')\n",
    "#             color_ours = ['k','m']\n",
    "#             plot_skeleton(ax, skeleton_strips_male[cnt],color_ours,az)\n",
    "#             cnt = cnt + 1\n",
    "#             plt.savefig(\"./pose_grid_4/corner_plots/plot_{}/grid{}.png\".format(str(l),i),bbox_inches = 'tight',dpi=350, transparent = True);\n",
    "# #             plt.savefig(\"{}{}.png\".format(path,i),bbox_inches = 'tight',dpi=350, transparent = True);\n",
    "        \n",
    "#     return fig\n",
    "\n"
   ]
  },
  {
   "cell_type": "code",
   "execution_count": 3,
   "metadata": {},
   "outputs": [],
   "source": [
    "data = '/data/vcl/anirudh_rule_based/codes_2020/pose_embedding_training_non_norm_range_ten_vneck/pose_grid_4/grid_plots/plot_4/artifacts.mat'"
   ]
  },
  {
   "cell_type": "code",
   "execution_count": 4,
   "metadata": {},
   "outputs": [],
   "source": [
    "mat_file = sio.loadmat(data)\n",
    "\n",
    "grid = mat_file['grid']"
   ]
  },
  {
   "cell_type": "code",
   "execution_count": 5,
   "metadata": {},
   "outputs": [
    {
     "name": "stdout",
     "output_type": "stream",
     "text": [
      "(100, 17, 3)\n"
     ]
    }
   ],
   "source": [
    "print grid.shape"
   ]
  },
  {
   "cell_type": "code",
   "execution_count": 128,
   "metadata": {},
   "outputs": [
    {
     "data": {
      "image/png": "[encoded data removed]",
      "text/plain": [
       "<Figure size 2880x360 with 10 Axes>"
      ]
     },
     "metadata": {},
     "output_type": "display_data"
    }
   ],
   "source": [
    "%matplotlib inline \n",
    "fig=plt.figure(figsize=(4  * 10 , 5))#width , height\n",
    "gs = gridspec.GridSpec(1, 10) #rows and columns\n",
    "#     gs.update(wspace=0.05, hspace=0.0005) # set the spacing between axes. \n",
    "gs.update(wspace=0.05, hspace=0.4, left = None, right = 0.6, bottom = 0.1, top = 0.9) \n",
    "cnt = 0 \n",
    "tmp = grid[20:30]\n",
    "for j in range(0,10):\n",
    "    ax = plt.subplot(gs[cnt], projection='3d')\n",
    "    color_ours = ['k','m']\n",
    "    plot_skeleton(ax, tmp[j],color_ours,az = 0)\n",
    "    cnt =cnt + 1 "
   ]
  },
  {
   "cell_type": "code",
   "execution_count": 6,
   "metadata": {},
   "outputs": [],
   "source": [
    "t= np.reshape(grid,(-1,10,17,3))"
   ]
  },
  {
   "cell_type": "code",
   "execution_count": 7,
   "metadata": {
    "scrolled": true
   },
   "outputs": [
    {
     "name": "stdout",
     "output_type": "stream",
     "text": [
      "(10, 1, 17, 3)\n"
     ]
    }
   ],
   "source": [
    "l = np.linspace(t[:,[3]],t[:,[4]],3)\n",
    "print l[1].shape"
   ]
  },
  {
   "cell_type": "code",
   "execution_count": 8,
   "metadata": {},
   "outputs": [],
   "source": [
    "k=[]\n",
    "index = 4\n",
    "for j in range(10) :\n",
    "    arr = []\n",
    "    for i in range(10):\n",
    "        if i == index : \n",
    "            arr.append(np.squeeze(l[1][j]))\n",
    "            arr.append(t[j][i])\n",
    "        else :\n",
    "            arr.append(t[j][i])\n",
    "    k.append(arr)\n",
    "    \n",
    "k = np.array(k)"
   ]
  },
  {
   "cell_type": "code",
   "execution_count": 9,
   "metadata": {},
   "outputs": [],
   "source": [
    "k[3,3] = k[4,3]"
   ]
  },
  {
   "cell_type": "code",
   "execution_count": 11,
   "metadata": {},
   "outputs": [
    {
     "ename": "ValueError",
     "evalue": "input operand has more dimensions than allowed by the axis remapping",
     "output_type": "error",
     "traceback": [
      "\u001b[0;31m---------------------------------------------------------------------------\u001b[0m",
      "\u001b[0;31mValueError\u001b[0m                                Traceback (most recent call last)",
      "\u001b[0;32m<ipython-input-11-6a26d0b45376>\u001b[0m in \u001b[0;36m<module>\u001b[0;34m()\u001b[0m\n\u001b[1;32m      9\u001b[0m         \u001b[0max\u001b[0m \u001b[0;34m=\u001b[0m \u001b[0mplt\u001b[0m\u001b[0;34m.\u001b[0m\u001b[0msubplot\u001b[0m\u001b[0;34m(\u001b[0m\u001b[0mgs\u001b[0m\u001b[0;34m[\u001b[0m\u001b[0mi\u001b[0m\u001b[0;34m]\u001b[0m\u001b[0;34m,\u001b[0m \u001b[0mprojection\u001b[0m\u001b[0;34m=\u001b[0m\u001b[0;34m'3d'\u001b[0m\u001b[0;34m)\u001b[0m\u001b[0;34m\u001b[0m\u001b[0m\n\u001b[1;32m     10\u001b[0m         \u001b[0mcolor_ours\u001b[0m \u001b[0;34m=\u001b[0m \u001b[0;34m[\u001b[0m\u001b[0;34m'k'\u001b[0m\u001b[0;34m,\u001b[0m\u001b[0;34m'm'\u001b[0m\u001b[0;34m]\u001b[0m\u001b[0;34m\u001b[0m\u001b[0m\n\u001b[0;32m---> 11\u001b[0;31m         \u001b[0mplot_skeleton\u001b[0m\u001b[0;34m(\u001b[0m\u001b[0max\u001b[0m\u001b[0;34m,\u001b[0m \u001b[0mk\u001b[0m\u001b[0;34m[\u001b[0m\u001b[0mcnt\u001b[0m\u001b[0;34m]\u001b[0m\u001b[0;34m,\u001b[0m\u001b[0mcolor_ours\u001b[0m\u001b[0;34m,\u001b[0m\u001b[0maz\u001b[0m \u001b[0;34m=\u001b[0m \u001b[0;36m0\u001b[0m\u001b[0;34m)\u001b[0m\u001b[0;34m\u001b[0m\u001b[0m\n\u001b[0m\u001b[1;32m     12\u001b[0m         \u001b[0mcnt\u001b[0m \u001b[0;34m=\u001b[0m\u001b[0mcnt\u001b[0m \u001b[0;34m+\u001b[0m \u001b[0;36m1\u001b[0m\u001b[0;34m\u001b[0m\u001b[0m\n",
      "\u001b[0;32m<ipython-input-2-6f5336db4b0f>\u001b[0m in \u001b[0;36mplot_skeleton\u001b[0;34m(ax, ske, color_ours, az, ground_size)\u001b[0m\n\u001b[1;32m     83\u001b[0m \u001b[0;34m\u001b[0m\u001b[0m\n\u001b[1;32m     84\u001b[0m             \u001b[0;31m# print x,y,z\u001b[0m\u001b[0;34m\u001b[0m\u001b[0;34m\u001b[0m\u001b[0m\n\u001b[0;32m---> 85\u001b[0;31m             \u001b[0max\u001b[0m\u001b[0;34m.\u001b[0m\u001b[0mplot\u001b[0m\u001b[0;34m(\u001b[0m\u001b[0mx\u001b[0m\u001b[0;34m,\u001b[0m \u001b[0my\u001b[0m\u001b[0;34m,\u001b[0m \u001b[0mz\u001b[0m\u001b[0;34m,\u001b[0m \u001b[0mlw\u001b[0m\u001b[0;34m=\u001b[0m\u001b[0;36m4\u001b[0m\u001b[0;34m,\u001b[0m \u001b[0mc\u001b[0m\u001b[0;34m=\u001b[0m\u001b[0mC\u001b[0m\u001b[0;34m[\u001b[0m\u001b[0mi\u001b[0m\u001b[0;34m]\u001b[0m\u001b[0;34m)\u001b[0m\u001b[0;34m\u001b[0m\u001b[0m\n\u001b[0m\u001b[1;32m     86\u001b[0m \u001b[0;34m\u001b[0m\u001b[0m\n\u001b[1;32m     87\u001b[0m \u001b[0;34m\u001b[0m\u001b[0m\n",
      "\u001b[0;32m/usr/local/lib/python2.7/dist-packages/mpl_toolkits/mplot3d/axes3d.pyc\u001b[0m in \u001b[0;36mplot\u001b[0;34m(self, xs, ys, *args, **kwargs)\u001b[0m\n\u001b[1;32m   1563\u001b[0m \u001b[0;34m\u001b[0m\u001b[0m\n\u001b[1;32m   1564\u001b[0m         \u001b[0;31m# Match length\u001b[0m\u001b[0;34m\u001b[0m\u001b[0;34m\u001b[0m\u001b[0m\n\u001b[0;32m-> 1565\u001b[0;31m         \u001b[0mzs\u001b[0m \u001b[0;34m=\u001b[0m \u001b[0m_backports\u001b[0m\u001b[0;34m.\u001b[0m\u001b[0mbroadcast_to\u001b[0m\u001b[0;34m(\u001b[0m\u001b[0mzs\u001b[0m\u001b[0;34m,\u001b[0m \u001b[0mlen\u001b[0m\u001b[0;34m(\u001b[0m\u001b[0mxs\u001b[0m\u001b[0;34m)\u001b[0m\u001b[0;34m)\u001b[0m\u001b[0;34m\u001b[0m\u001b[0m\n\u001b[0m\u001b[1;32m   1566\u001b[0m \u001b[0;34m\u001b[0m\u001b[0m\n\u001b[1;32m   1567\u001b[0m         \u001b[0mlines\u001b[0m \u001b[0;34m=\u001b[0m \u001b[0msuper\u001b[0m\u001b[0;34m(\u001b[0m\u001b[0mAxes3D\u001b[0m\u001b[0;34m,\u001b[0m \u001b[0mself\u001b[0m\u001b[0;34m)\u001b[0m\u001b[0;34m.\u001b[0m\u001b[0mplot\u001b[0m\u001b[0;34m(\u001b[0m\u001b[0mxs\u001b[0m\u001b[0;34m,\u001b[0m \u001b[0mys\u001b[0m\u001b[0;34m,\u001b[0m \u001b[0;34m*\u001b[0m\u001b[0margs\u001b[0m\u001b[0;34m,\u001b[0m \u001b[0;34m**\u001b[0m\u001b[0mkwargs\u001b[0m\u001b[0;34m)\u001b[0m\u001b[0;34m\u001b[0m\u001b[0m\n",
      "\u001b[0;32m/usr/local/lib/python2.7/dist-packages/matplotlib/cbook/_backports.pyc\u001b[0m in \u001b[0;36mbroadcast_to\u001b[0;34m(array, shape, subok)\u001b[0m\n\u001b[1;32m    145\u001b[0m            [1, 2, 3]])\n\u001b[1;32m    146\u001b[0m     \"\"\"\n\u001b[0;32m--> 147\u001b[0;31m     \u001b[0;32mreturn\u001b[0m \u001b[0m_broadcast_to\u001b[0m\u001b[0;34m(\u001b[0m\u001b[0marray\u001b[0m\u001b[0;34m,\u001b[0m \u001b[0mshape\u001b[0m\u001b[0;34m,\u001b[0m \u001b[0msubok\u001b[0m\u001b[0;34m=\u001b[0m\u001b[0msubok\u001b[0m\u001b[0;34m,\u001b[0m \u001b[0mreadonly\u001b[0m\u001b[0;34m=\u001b[0m\u001b[0mTrue\u001b[0m\u001b[0;34m)\u001b[0m\u001b[0;34m\u001b[0m\u001b[0m\n\u001b[0m",
      "\u001b[0;32m/usr/local/lib/python2.7/dist-packages/matplotlib/cbook/_backports.pyc\u001b[0m in \u001b[0;36m_broadcast_to\u001b[0;34m(array, shape, subok, readonly)\u001b[0m\n\u001b[1;32m     99\u001b[0m     broadcast = np.nditer(\n\u001b[1;32m    100\u001b[0m         \u001b[0;34m(\u001b[0m\u001b[0marray\u001b[0m\u001b[0;34m,\u001b[0m\u001b[0;34m)\u001b[0m\u001b[0;34m,\u001b[0m \u001b[0mflags\u001b[0m\u001b[0;34m=\u001b[0m\u001b[0;34m[\u001b[0m\u001b[0;34m'multi_index'\u001b[0m\u001b[0;34m,\u001b[0m \u001b[0;34m'refs_ok'\u001b[0m\u001b[0;34m,\u001b[0m \u001b[0;34m'zerosize_ok'\u001b[0m\u001b[0;34m]\u001b[0m \u001b[0;34m+\u001b[0m \u001b[0mextras\u001b[0m\u001b[0;34m,\u001b[0m\u001b[0;34m\u001b[0m\u001b[0m\n\u001b[0;32m--> 101\u001b[0;31m         op_flags=[op_flag], itershape=shape, order='C').itviews[0]\n\u001b[0m\u001b[1;32m    102\u001b[0m     \u001b[0mresult\u001b[0m \u001b[0;34m=\u001b[0m \u001b[0m_maybe_view_as_subclass\u001b[0m\u001b[0;34m(\u001b[0m\u001b[0marray\u001b[0m\u001b[0;34m,\u001b[0m \u001b[0mbroadcast\u001b[0m\u001b[0;34m)\u001b[0m\u001b[0;34m\u001b[0m\u001b[0m\n\u001b[1;32m    103\u001b[0m     \u001b[0;32mif\u001b[0m \u001b[0mneeds_writeable\u001b[0m \u001b[0;32mand\u001b[0m \u001b[0;32mnot\u001b[0m \u001b[0mresult\u001b[0m\u001b[0;34m.\u001b[0m\u001b[0mflags\u001b[0m\u001b[0;34m.\u001b[0m\u001b[0mwriteable\u001b[0m\u001b[0;34m:\u001b[0m\u001b[0;34m\u001b[0m\u001b[0m\n",
      "\u001b[0;31mValueError\u001b[0m: input operand has more dimensions than allowed by the axis remapping"
     ]
    },
    {
     "data": {
      "image/png": "[encoded data removed]",
      "text/plain": [
       "<Figure size 3168x2520 with 1 Axes>"
      ]
     },
     "metadata": {},
     "output_type": "display_data"
    }
   ],
   "source": [
    "%matplotlib inline \n",
    "fig=plt.figure(figsize=(4  * 11 , 5 * 7))#width , height\n",
    "gs = gridspec.GridSpec(1, 11) #rows and columns\n",
    "#     gs.update(wspace=0.05, hspace=0.0005) # set the spacing between axes. \n",
    "gs.update(wspace=0.05, hspace=0.4, left = None, right = 0.6, bottom = 0.1, top = 0.9) \n",
    "cnt = 0 \n",
    "for i in range(10):\n",
    "    for j in range(0,11):\n",
    "        ax = plt.subplot(gs[i], projection='3d')\n",
    "        color_ours = ['k','m']\n",
    "        plot_skeleton(ax, k[cnt],color_ours,az = 0)\n",
    "        cnt =cnt + 1 "
   ]
  },
  {
   "cell_type": "code",
   "execution_count": 16,
   "metadata": {},
   "outputs": [
    {
     "data": {
      "image/png": "[encoded data removed]",
      "text/plain": [
       "<Figure size 288x360 with 1 Axes>"
      ]
     },
     "execution_count": 16,
     "metadata": {},
     "output_type": "execute_result"
    },
    {
     "data": {
      "image/png": "[encoded data removed]",
      "text/plain": [
       "<Figure size 288x360 with 1 Axes>"
      ]
     },
     "metadata": {},
     "output_type": "display_data"
    }
   ],
   "source": [
    "get_all_plots(k.reshape((-1,17,3)),az = 0)"
   ]
  },
  {
   "cell_type": "code",
   "execution_count": 197,
   "metadata": {},
   "outputs": [
    {
     "data": {
      "text/plain": [
       "(110, 17, 3)"
      ]
     },
     "execution_count": 197,
     "metadata": {},
     "output_type": "execute_result"
    }
   ],
   "source": [
    "k.reshape((-1,17,3)).shape"
   ]
  },
  {
   "cell_type": "code",
   "execution_count": 13,
   "metadata": {},
   "outputs": [
    {
     "data": {
      "text/plain": [
       "(10, 11, 17, 3)"
      ]
     },
     "execution_count": 13,
     "metadata": {},
     "output_type": "execute_result"
    }
   ],
   "source": [
    "k.shape"
   ]
  },
  {
   "cell_type": "code",
   "execution_count": null,
   "metadata": {},
   "outputs": [],
   "source": []
  }
 ],
 "metadata": {
  "kernelspec": {
   "display_name": "Python 2",
   "language": "python",
   "name": "python2"
  },
  "language_info": {
   "codemirror_mode": {
    "name": "ipython",
    "version": 2
   },
   "file_extension": ".py",
   "mimetype": "text/x-python",
   "name": "python",
   "nbconvert_exporter": "python",
   "pygments_lexer": "ipython2",
   "version": "2.7.12"
  }
 },
 "nbformat": 4,
 "nbformat_minor": 2
}
