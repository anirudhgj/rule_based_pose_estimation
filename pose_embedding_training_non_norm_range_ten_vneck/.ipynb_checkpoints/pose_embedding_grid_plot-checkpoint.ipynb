{
 "cells": [
  {
   "cell_type": "code",
   "execution_count": 1,
   "metadata": {},
   "outputs": [
    {
     "name": "stdout",
     "output_type": "stream",
     "text": [
      "Tensor(\"Const:0\", shape=(3,), dtype=float32)\n",
      "Tensor(\"Const_1:0\", shape=(17, 3), dtype=float32)\n"
     ]
    }
   ],
   "source": [
    "%load_ext autoreload\n",
    "%autoreload 2\n",
    "\n",
    "import matplotlib\n",
    "matplotlib.use(\"Agg\")\n",
    "import scipy.io as sio\n",
    "\n",
    "# from other_utils import np_utils, sk_utils\n",
    "import numpy as np\n",
    "import tensorflow as tf\n",
    "import os\n",
    "from termcolor import colored\n",
    "import matplotlib.pyplot as plt\n",
    "import matplotlib.image as mimg\n",
    "import matplotlib.gridspec as gridspec\n",
    " \n",
    "\n",
    "import model_componets as comps\n",
    "from data_loader import DataLoader\n",
    "from commons import transform_util as tr_util\n",
    "from model_componets import *\n",
    "import vis_image as vis\n",
    "\n",
    "import random\n"
   ]
  },
  {
   "cell_type": "code",
   "execution_count": 2,
   "metadata": {
    "scrolled": true
   },
   "outputs": [],
   "source": [
    "\n",
    "# data_loader = DataLoader()\n",
    "\n",
    "# train_batch_size, test_batch_size = 2, 2\n",
    "lr_disc, lr_encoder, lr_decoder = 0.000002, 0.000002, 0.000002\n",
    "disp_step_save, disp_step_valid = 1000, 500\n",
    "\n",
    "# num_batches_train = data_loader.get_num_batches('train', 2 * train_batch_size)\n",
    "# num_batches_test = data_loader.get_num_batches('test', 2 * test_batch_size)\n",
    "\n",
    "os.environ['CUDA_VISIBLE_DEVICES'] = \"1\"\n",
    "config = tf.ConfigProto()\n",
    "config.gpu_options.allow_growth = True\n",
    "sess = tf.InteractiveSession(config=config)\n",
    "\n",
    "def get_network_params(scope):\n",
    "    return tf.get_collection(tf.GraphKeys.GLOBAL_VARIABLES, scope=scope)\n",
    "\n"
   ]
  },
  {
   "cell_type": "code",
   "execution_count": 3,
   "metadata": {},
   "outputs": [
    {
     "name": "stdout",
     "output_type": "stream",
     "text": [
      "INFO:tensorflow:Restoring parameters from ./pretrained_weights/encoder_iter-1475001\n",
      "INFO:tensorflow:Restoring parameters from ./pretrained_weights/decoder_iter-1475001\n"
     ]
    }
   ],
   "source": [
    "input_pose = tf.placeholder(tf.float32, shape = [None,17,3], name='input_x')\n",
    "\n",
    "x_real = input_pose #root relative \n",
    "\n",
    "x_view_norm_real, x_local_real = comps.root_relative_to_local(x_real)\n",
    "\n",
    "encoder_real = EncoderNet(x_local_real) #local\n",
    "\n",
    "z_real = encoder_real['z_joints']\n",
    "\n",
    "decoder_real = DecoderNet(z_real)\n",
    "\n",
    "x_local_recon = decoder_real['full_body_x']#local\n",
    "\n",
    "x_recon = comps.local_to_root_relative(x_local_recon)#root relative\n",
    "\n",
    "\n",
    "loss = tf.reduce_mean(tf.abs(x_real - x_recon))\n",
    "\n",
    "param_encoder = get_network_params(scope='Encoder_net')\n",
    "param_decoder = get_network_params(scope='Decoder_net')\n",
    "\n",
    "\n",
    "tf.train.Saver(param_encoder).restore(sess,'./pretrained_weights/encoder_iter-1475001')\n",
    "tf.train.Saver(param_decoder).restore(sess,'./pretrained_weights/decoder_iter-1475001')\n",
    "\n",
    "# tf.train.Saver(param_encoder).restore(sess,'../pose_embedding_training_non_norm_range_one_vneck/pretrained_weights/encoder_iter-1230001')\n",
    "# tf.train.Saver(param_decoder).restore(sess,'../pose_embedding_training_non_norm_range_one_vneck/pretrained_weights/decoder_iter-1230001')"
   ]
  },
  {
   "cell_type": "code",
   "execution_count": 4,
   "metadata": {},
   "outputs": [
    {
     "name": "stdout",
     "output_type": "stream",
     "text": [
      "S7_Greeting\n",
      "S1_Sitting\n",
      "S6_Directions\n",
      "S6_Sitting\n"
     ]
    }
   ],
   "source": [
    "\n",
    "# data_loader.shuffle_data('train')\n",
    "# batch_idx = random.choice(np.arange(train_batch_size))\n",
    "# x_inputs = data_loader.get_train_data_batch(train_batch_size, batch_idx)[:90]\n",
    "# print(x_inputs.shape)\n",
    "# feed_dict  = {input_pose : x_inputs}\n",
    "# pose_loss,predictions,pose_recon = sess.run([loss,z_real,x_recon] , feed_dict = feed_dict)\n",
    "# print (predictions.shape)\n",
    "\n",
    "k=sio.loadmat('/data/vcl/anirudh_rule_based/codes_2020/data/vneck/split/corrected_human36_train_data_center_crops_17j_vneck.mat')\n",
    "\n",
    "\n",
    "g = ['_'.join(i.split('/')[-2].split(' ')[0].split('_')[:2]) for i in k['images_path']]\n",
    "from collections import Counter\n",
    "c = dict(Counter(g))\n",
    "video_seq1 = str(np.random.choice(c.keys()))\n",
    "video_seq2 = str(np.random.choice(c.keys()))\n",
    "video_seq3 = str(np.random.choice(c.keys()))\n",
    "video_seq4 = str(np.random.choice(c.keys()))\n",
    "\n",
    "print(video_seq1)\n",
    "print(video_seq2)\n",
    "print(video_seq3)\n",
    "print(video_seq4)\n",
    "\n",
    "poses = k['poses_3d']\n",
    "\n",
    "def gen_image_seq(video_seq):\n",
    "    m = [(c,i) for c,i in enumerate(k['images_path']) if video_seq in i]\n",
    "    l = [i for i in m if \"58860488_video_0_90_0\" in i[-1]]\n",
    "    n = [i for i in m if \"58860488_video_90_180_2\" in i[-1]]\n",
    "    o = [i for i in m if \"58860488_video_180_270_4\" in i[-1]]\n",
    "    p = [i for i in m if \"58860488_video_270_360_6\" in i[-1]]\n",
    "    q = [i for i in m if \"58860488_video_360_450_8\" in i[-1]]\n",
    "    r = [i for i in m if \"58860488_video_450_540_10\" in i[-1]]\n",
    "\n",
    "    def getint(name):\n",
    "        name = name[1]\n",
    "        basename = name.split('_')[-1]\n",
    "        num = basename.split('.')[0]\n",
    "        return int(num)\n",
    "\n",
    "    l.sort(key=getint)\n",
    "    l_sor = list(np.array(l).copy())\n",
    "\n",
    "    n.sort(key=getint)\n",
    "    n_sor = list(np.array(n).copy())\n",
    "\n",
    "    o.sort(key=getint)\n",
    "    o_sor = list(np.array(o).copy())\n",
    "\n",
    "    p.sort(key=getint)\n",
    "    p_sor = list(np.array(p).copy())\n",
    "\n",
    "\n",
    "    q.sort(key=getint)\n",
    "    q_sor = list(np.array(q).copy())\n",
    "\n",
    "    r.sort(key=getint)\n",
    "    r_sor = list(np.array(r).copy())\n",
    "\n",
    "    lnop=np.concatenate([l_sor,n_sor,o_sor,p_sor,q_sor,r_sor])\n",
    "    return lnop\n",
    "\n",
    "v = np.random.choice(np.arange(540-120),1)[0]\n",
    "image_seq1 =  gen_image_seq(video_seq1)[v:v+120][::12]\n",
    "image_seq2 =  gen_image_seq(video_seq2)[v:v+120][::12]\n",
    "image_seq3 =  gen_image_seq(video_seq3)[v:v+120][::12]\n",
    "image_seq4 =  gen_image_seq(video_seq4)[v:v+120][::12]\n",
    "\n",
    "# # lnop = lnop[::8]\n",
    "# # x_inputs=[poses[int(lnop[0*len(lnop)][0])],\n",
    "# #           poses[int(lnop[int(0.2*len(lnop))][0])],\n",
    "# #           poses[int(lnop[int(0.4*len(lnop))][0])],\n",
    "# #           poses[int(lnop[int(0.6*len(lnop))][0])],\n",
    "# #           poses[int(lnop[int(0.8*len(lnop))][0])],\n",
    "# #           poses[int(lnop[-1][0])]]\n",
    "\n",
    "# # x_inputs= [poses[int(l_sor[0][0])],poses[int(n_sor[-1][0])]]\n",
    "# # x_inputs = [poses[int(i[0])] for i in lnop]\n",
    "\n",
    "# used earlier\n",
    "'''\n",
    "x_inputs = [poses[int(i[0])] for i in image_seq1] + [poses[int(i[0])] for i in image_seq2] + [poses[int(i[0])] for i in image_seq3] + [poses[int(i[0])] for i in image_seq4]\n",
    "feed_dict  = {input_pose : x_inputs}\n",
    "pose_loss,predictions,pose_recon = sess.run([loss,z_real,x_recon] , feed_dict = feed_dict)\n",
    "'''\n",
    "\n",
    "x_inputs = sio.loadmat('./pose_grid_4/corner_plots/plot_4/corner_artifacts.mat')['corner_poses']\n",
    "\n",
    "\n"
   ]
  },
  {
   "cell_type": "code",
   "execution_count": 5,
   "metadata": {},
   "outputs": [
    {
     "data": {
      "image/png": "[encoded data removed]",
      "text/plain": [
       "<Figure size 576x576 with 1 Axes>"
      ]
     },
     "metadata": {},
     "output_type": "display_data"
    }
   ],
   "source": [
    "%matplotlib inline \n",
    "\n",
    "fig = vis.get_figure()\n",
    "idx=0\n",
    "ax = vis.get_ax(x_inputs[idx], fig)\n",
    "\n",
    "vis.plot_skeleton_and_scatter(x_inputs[idx], ax)\n",
    "\n",
    "'''\n",
    "0 --> top left \n",
    "1 --> top right \n",
    "2 --> bottom left\n",
    "3 --> bottom right\n",
    "'''\n",
    "\n",
    "joint_names = [\n",
    "    'pelvis', 'neck',  # 2\n",
    "    'right_shoulder', 'right_elbow', 'right_wrist',  # 5\n",
    "    'left_shoulder', 'left_elbow', 'left_wrist',  # 8\n",
    "    'head_top',  # 9\n",
    "    'right_hip', 'right_knee', 'right_ankle', 'right_foot',  # 13\n",
    "    'left_hip', 'left_knee', 'left_ankle', 'left_foot'  # 17\n",
    "]\n"
   ]
  },
  {
   "cell_type": "code",
   "execution_count": 6,
   "metadata": {},
   "outputs": [
    {
     "data": {
      "image/png": "[encoded data removed]",
      "text/plain": [
       "<Figure size 576x576 with 1 Axes>"
      ]
     },
     "metadata": {},
     "output_type": "display_data"
    }
   ],
   "source": [
    "def pose_rotate(points, theta, batch_size):\n",
    "    theta = theta * np.pi / 180.0\n",
    "    cos_vals = np.cos(theta)\n",
    "    sin_vals = np.sin(theta)\n",
    "    row_1 = np.concatenate([cos_vals, -sin_vals], axis=1)# 90 x 2\n",
    "    row_2 = np.concatenate([sin_vals, cos_vals], axis=1)# 90 x 2\n",
    "    row_12 = np.stack((row_1, row_2), axis=1)#90 x 2 x 2\n",
    "    zero_size_row1x2 = np.zeros([batch_size, 1, 2])#90 x 1 x 2\n",
    "    r1x2xZero = np.concatenate([row_12, zero_size_row1x2], axis=1)\n",
    "    stacker = np.array([0.0, 0.0, 1.0])\n",
    "    third_cols = np.reshape(np.tile(stacker, batch_size), [batch_size, 3])\n",
    "    third_cols = np.expand_dims(third_cols, 2)\n",
    "    rotation_matrix = np.concatenate([r1x2xZero, third_cols], axis=2)\n",
    "    return np.matmul(points.reshape([points.shape[0], 17, 3]), rotation_matrix)\n",
    "\n",
    "\n",
    "def rotate_y_axis(points,theta,batch_size):\n",
    "    theta = theta * np.pi / 180\n",
    "    cos_vals = np.cos(theta)#90 x 1\n",
    "    sin_vals = np.sin(theta)\n",
    "    zero_vals = np.zeros((batch_size,1))\n",
    "    ones_vals = np.ones((batch_size,1))\n",
    "    row_1 = np.concatenate([cos_vals, zero_vals],axis =1)#90 x2\n",
    "    row_2 = np.concatenate([zero_vals ,ones_vals],axis=1)# 90 x 2\n",
    "    row_12 = np.stack((row_1, row_2), axis=1)#90 x 2 x 2\n",
    "    temp_3 = np.stack((-sin_vals,zero_vals),axis =2)#90 x 1 x 2\n",
    "    temp_32 = np.concatenate([row_12,temp_3],axis = 1)#90 x 3 x 2\n",
    "    third_cols = np.concatenate([sin_vals,zero_vals,cos_vals],axis=1)#90 x 3\n",
    "    third_cols = np.expand_dims(third_cols, 2)\n",
    "    rotation_matrix = np.concatenate([temp_32, third_cols], axis=2)\n",
    "    return np.matmul(points.reshape([points.shape[0], 17, 3]), rotation_matrix)\n",
    "\n",
    "\n",
    "def augment_pose_seq(pose_seq,z_limit=(0,360),y_limit=(-90,90)):\n",
    "    pose_seq = np.expand_dims(pose_seq, axis=1)\n",
    "    thetas = np.random.uniform(z_limit[0],z_limit[1], pose_seq.shape[0])\n",
    "    thetas = np.stack([thetas]*pose_seq.shape[1], 1)\n",
    "    k=[]\n",
    "    for ct, xx in enumerate(thetas):\n",
    "        k.append(pose_rotate(pose_seq[ct], np.expand_dims(thetas[ct], 1), pose_seq[ct].shape[0]))\n",
    "    k = np.stack(k, 0)\n",
    "\n",
    "    thetas = np.random.uniform(y_limit[0],y_limit[1], k.shape[0])\n",
    "    thetas = np.stack([thetas]*k.shape[1], 1)\n",
    "    p=[]\n",
    "    for ct, xx in enumerate(thetas):\n",
    "        p.append(rotate_y_axis(k[ct], np.expand_dims(thetas[ct], 1), k[ct].shape[0]))\n",
    "    p = np.stack(p, 0)\n",
    "    return k\n",
    "\n",
    "\n",
    "def x_flip(sk_17,neg):\n",
    "    left_indices = [2, 3, 4, 9, 10, 11, 12]\n",
    "    right_indices = [5, 6, 7, 13, 14, 15, 16]\n",
    "    sk_17_flip = sk_17.copy()\n",
    "    l_idx, r_idx = left_indices, right_indices\n",
    "    sk_17_flip[:, l_idx] = sk_17[:, r_idx]\n",
    "    sk_17_flip[:, r_idx] = sk_17[:, l_idx]\n",
    "    sk_17_flip[:, :, 0] *= neg\n",
    "    sk_17 = sk_17_flip\n",
    "    return sk_17\n",
    "\n",
    "x_inputs_flip = x_flip(x_inputs,-1)\n",
    "x_inputs_flip = np.squeeze(augment_pose_seq(x_inputs_flip , z_limit=(180,180),y_limit=(0,0)))\n",
    "# x_inputs_flip = x_flip(x_inputs_flip,-1)\n",
    "\n",
    "from commons import skeleton_utils\n",
    "\n",
    "x_inputs_flip = [skeleton_utils.fit_skeleton_frame(i) for i in x_inputs_flip ]\n",
    "\n",
    "fig = vis.get_figure()\n",
    "ax = vis.get_ax(x_inputs_flip[idx], fig )\n",
    "\n",
    "vis.plot_skeleton_and_scatter(x_inputs_flip[idx], ax)\n"
   ]
  },
  {
   "cell_type": "code",
   "execution_count": 7,
   "metadata": {},
   "outputs": [],
   "source": [
    "x_inputs = [x_inputs[0] , x_inputs_flip[0] , x_inputs[2] , x_inputs[3]]\n",
    "feed_dict  = {input_pose : x_inputs}\n",
    "pose_loss,predictions,pose_recon = sess.run([loss,z_real,x_recon] , feed_dict = feed_dict)"
   ]
  },
  {
   "cell_type": "code",
   "execution_count": 8,
   "metadata": {},
   "outputs": [],
   "source": [
    "# mean = np.mean(predictions, axis=0)\n",
    "# std = np.std(predictions,axis=0)\n",
    "\n",
    "# print mean.shape\n",
    "# print std.shape\n",
    "\n",
    "# # x_pred = dms.decode(predictions)\n",
    "# # x_pred.shape\n",
    "\n",
    "# # imgs = sk_utils.get_skeleton_images(x_pred[0], title_prefix='p')\n",
    "# # len(imgs)\n",
    "# print('minimum vaue of mean ', min(mean))\n",
    "# print('minimum value of std ', min(std))\n",
    "# print('maximum value of mean', max(mean))\n",
    "# print('maximum value of std', max(std))\n",
    "sample_1 = np.reshape(predictions[0] , (1,32)) # top left \n",
    "\n",
    "sample_2 = np.reshape(predictions[1] , (1,32)) # top right \n",
    "\n",
    "sample_3 = np.reshape(predictions[2] , (1,32)) # bottom left \n",
    "\n",
    "sample_4 = np.reshape(predictions[3] , (1,32)) # bottom right "
   ]
  },
  {
   "cell_type": "code",
   "execution_count": 9,
   "metadata": {},
   "outputs": [],
   "source": [
    "# sample_1 = mean + (4*std)\n",
    "# sample_2 = mean -(4*std)\n",
    "# sample_1 = np.reshape(sample_1 , (1,32))\n",
    "# sample_2 = np.reshape(sample_2 , (1,32))\n",
    "# map_d = 10\n"
   ]
  },
  {
   "cell_type": "code",
   "execution_count": 10,
   "metadata": {},
   "outputs": [],
   "source": [
    "'''\n",
    "sample_1 = predictions[:10][np.random.choice(10)]\n",
    "sample_1 = np.reshape(sample_1 , (1,32))\n",
    "\n",
    "sample_2 = predictions[10:20][np.random.choice(10)]\n",
    "sample_2 = np.reshape(sample_2 , (1,32))\n",
    "\n",
    "sample_3 = predictions[20:30][np.random.choice(10)]\n",
    "sample_3 = np.reshape(sample_3 , (1,32))\n",
    "\n",
    "sample_4 = predictions[30:40][np.random.choice(10)]\n",
    "sample_4 = np.reshape(sample_4 , (1,32))\n",
    "\n",
    "'''\n",
    "\n",
    "# sample_5 = predictions[4]\n",
    "# sample_5 = np.reshape(sample_5 , (1,32))\n",
    "\n",
    "# sample_6 = predictions[5]\n",
    "# sample_6 = np.reshape(sample_6 , (1,32))\n",
    "\n",
    "\n",
    "map_d = 10"
   ]
  },
  {
   "cell_type": "code",
   "execution_count": 11,
   "metadata": {},
   "outputs": [],
   "source": [
    "# -sample1 to +sample1 to -sample2 to +sample2\n",
    "# 3+3+3+3\n",
    "\n",
    "sub_map_d = 10\n",
    "a = np.linspace(0,1, sub_map_d)\n",
    "a = np.reshape(a, (sub_map_d,1))\n",
    "vertical1 = a* (sample_2) + (1-a)*sample_1\n",
    "\n",
    "b = np.linspace(0,1, sub_map_d)\n",
    "b = np.reshape(b, (sub_map_d,1))\n",
    "vertical2 = b* (sample_4) + (1-b)*(sample_3)\n",
    "\n",
    "c = np.linspace(0,1, sub_map_d)\n",
    "c = np.reshape(c, (sub_map_d,1,1))\n",
    "grid= c* (vertical2) + (1-c)*(vertical1)\n",
    "\n",
    "# print (vertical1.shape,vertical1.shape)\n",
    "\n",
    "# vertical = np.concatenate([vertical1,vertical2],axis = 0)\n",
    "\n",
    "\n",
    "# print vertical.shape\n",
    "\n",
    "\n",
    "\n",
    "# b = np.linspace(0,1, sub_map_d)\n",
    "# a = np.reshape(a, (sub_map_d,1))\n",
    "\n",
    "\n",
    "\n",
    "# a.shape\n",
    "# b = np.reshape(a,(map_d,1,1))"
   ]
  },
  {
   "cell_type": "code",
   "execution_count": 12,
   "metadata": {},
   "outputs": [],
   "source": [
    "# sub_map_d = 10\n",
    "# a = np.linspace(0,1, sub_map_d)\n",
    "# a = np.reshape(a, (sub_map_d,1))\n",
    "# horizontal1 = a* (sample_4) + (1-a)*sample_5\n",
    "\n",
    "# b = np.linspace(0,1, sub_map_d)\n",
    "# b = np.reshape(b, (sub_map_d,1))\n",
    "# horizontal2 = b* (sample_5) + (1-b)*(sample_6)\n",
    "\n",
    "\n",
    "\n",
    "# print (horizontal1.shape,horizontal2.shape)\n",
    "\n",
    "# horizontal = np.concatenate([horizontal1,horizontal2],axis = 0)\n",
    "\n",
    "\n",
    "# print horizontal.shape\n",
    "\n",
    "\n",
    "# d = np.linspace(0,1, map_d)\n",
    "# e = np.reshape(d,(map_d,1,1))\n",
    "# grid = e*predictions[:10] + (1-e)*predictions[10:]"
   ]
  },
  {
   "cell_type": "code",
   "execution_count": 13,
   "metadata": {},
   "outputs": [],
   "source": [
    "# vertical = a*sample_1[:,:16] + (1-a)*sample_2[:,:16]\n",
    "\n",
    "# assert (vertical[0] == sample_2[0,:16]).all()\n",
    "# vertical = a*sample_1 + (1-a)*sample_2\n",
    "# vertical1 = a*sample_3 + (1-a)*sample_4\n",
    "\n",
    "\n"
   ]
  },
  {
   "cell_type": "code",
   "execution_count": 14,
   "metadata": {},
   "outputs": [
    {
     "data": {
      "text/plain": [
       "(10, 10, 32)"
      ]
     },
     "execution_count": 14,
     "metadata": {},
     "output_type": "execute_result"
    }
   ],
   "source": [
    "grid.shape"
   ]
  },
  {
   "cell_type": "code",
   "execution_count": 15,
   "metadata": {},
   "outputs": [],
   "source": [
    "# horizontal = a*sample_1[:,16:] + (1-a)*sample_2[:,16:]\n",
    "\n",
    "# assert (horizontal[0] == sample_2[0,16:]).all()\n",
    "\n",
    "# print horizontal.shape"
   ]
  },
  {
   "cell_type": "code",
   "execution_count": 16,
   "metadata": {},
   "outputs": [],
   "source": [
    "# grid = np.empty((map_d,map_d,32))"
   ]
  },
  {
   "cell_type": "code",
   "execution_count": 17,
   "metadata": {},
   "outputs": [],
   "source": [
    "# for i in range(map_d):\n",
    "#     for j in range(map_d):\n",
    "#         grid[i,j] = np.concatenate((vertical[i], horizontal[j]))\n",
    "# grid = vertical2"
   ]
  },
  {
   "cell_type": "code",
   "execution_count": 18,
   "metadata": {},
   "outputs": [
    {
     "data": {
      "text/plain": [
       "(10, 10, 32)"
      ]
     },
     "execution_count": 18,
     "metadata": {},
     "output_type": "execute_result"
    }
   ],
   "source": [
    "grid.shape"
   ]
  },
  {
   "cell_type": "code",
   "execution_count": 19,
   "metadata": {},
   "outputs": [
    {
     "name": "stdout",
     "output_type": "stream",
     "text": [
      "(100, 32)\n"
     ]
    }
   ],
   "source": [
    "grid_flat = np.reshape(grid, (-1,32))\n",
    "\n",
    "#print grid.shape\n",
    "print grid_flat.shape"
   ]
  },
  {
   "cell_type": "code",
   "execution_count": 24,
   "metadata": {},
   "outputs": [
    {
     "name": "stdout",
     "output_type": "stream",
     "text": [
      "INFO:tensorflow:Restoring parameters from ./pretrained_weights/decoder_iter-1475001\n"
     ]
    }
   ],
   "source": [
    "\n",
    "#sess = tf.InteractiveSession(config=config)\n",
    "\n",
    "state_ph = tf.placeholder(tf.float32 , shape = [None ,32] ,name = \"pose_embedding\")\n",
    "\n",
    "def decode_pose(state_ph) :\n",
    "    decoder_real = DecoderNet(state_ph)\n",
    "\n",
    "    x_local_recon = decoder_real['full_body_x']#local\n",
    "\n",
    "    x_recon = comps.local_to_root_relative(x_local_recon)#root relative\n",
    "    \n",
    "    return x_recon\n",
    "\n",
    "pose_preds = decode_pose(state_ph)\n",
    "\n",
    "param_decoder = get_network_params(scope='Decoder_net')\n",
    "tf.train.Saver(param_decoder).restore(sess,'./pretrained_weights/decoder_iter-1475001')\n",
    "# tf.train.Saver(param_decoder).restore(sess,'../pose_embedding_training_non_norm_range_one_vneck/pretrained_weights/decoder_iter-1230001')\n",
    "\n",
    "feed_dict = {state_ph :grid_flat}\n",
    "pred_ops = sess.run(pose_preds , feed_dict=feed_dict )"
   ]
  },
  {
   "cell_type": "code",
   "execution_count": 25,
   "metadata": {},
   "outputs": [],
   "source": [
    "# predictions = np.mean(predictions, axis=-1)\n",
    "# predictions = np.mean(predictions, axis=-1)\n",
    "\n",
    "# print predictions.shape\n",
    "\n",
    "# square_shaped = pred_ops.reshape((10,10,15,3))\n",
    "# print square_shaped.shape"
   ]
  },
  {
   "cell_type": "code",
   "execution_count": 26,
   "metadata": {},
   "outputs": [],
   "source": [
    "# pred_resh = pred_ops.reshape((10,10,17,3))\n"
   ]
  },
  {
   "cell_type": "code",
   "execution_count": 27,
   "metadata": {
    "scrolled": true
   },
   "outputs": [],
   "source": [
    "# import glob\n",
    "# data = glob.glob('./pose_grid_4/grid_plots/*/artifacts.mat')\n",
    "# for i in data :\n",
    "#     grid = sio.loadmat(i)['grid']\n",
    "# #     grid = grid.reshape((10,10,17,3))\n",
    "# #     final_poses = [grid[0][0],grid[0][9],grid[9][0],grid[9][9]]\n",
    "#     image_path = i.replace('artifacts.mat','grid')\n",
    "#     print (image_path)\n",
    "#     get_all_plots(grid,image_path,az = 0)\n",
    "\n"
   ]
  },
  {
   "cell_type": "code",
   "execution_count": 28,
   "metadata": {},
   "outputs": [],
   "source": [
    "# %matplotlib inline \n",
    "# import vis_image as vis\n",
    "# fig = vis.get_figure()\n",
    "# ax = vis.get_ax(grid[9][9],fig,az = 0)\n",
    "# vis.plot_skeleton_and_scatter(grid[9][9],ax)"
   ]
  },
  {
   "cell_type": "code",
   "execution_count": 29,
   "metadata": {},
   "outputs": [],
   "source": [
    "limb_parents = [0, 0, 1, 2, 3, 1, 5, 6, 1, 0, 9, 10, 11, 0, 13, 14, 15]\n",
    "\n",
    "\n",
    "def get_ax(joints_3d, fig, az=0, ele=10, subplot='111'):\n",
    "    x, y, z = subplot\n",
    "    ax = fig.add_subplot(subplot, projection='3d')\n",
    "\n",
    "    lim = np.max(np.abs(joints_3d))\n",
    "    ax.view_init(azim=az, elev=ele)\n",
    "\n",
    "    ax.set_xlim(-lim, lim)\n",
    "    ax.set_ylim(-lim, lim)\n",
    "    ax.set_zlim(-lim, lim)\n",
    "    ax.set_xlabel('x')\n",
    "    ax.set_ylabel('y')\n",
    "    ax.set_zlabel('z')\n",
    "\n",
    "    return ax\n",
    "\n",
    "def plot_skeleton(ax, ske,color_ours,az, ground_size=0.5):\n",
    "        lcolor = color_ours[0]\n",
    "        rcolor = color_ours[1]\n",
    "        ax.grid(False)\n",
    "#         # Hide axes ticks\n",
    "#         ax.set_xticks([])\n",
    "#         ax.set_yticks([])\n",
    "#         ax.set_zticks([])\n",
    "#         plt.axis('off')\n",
    "#         ax.set_aspect('equal')\n",
    "        ax.elev = 10\n",
    "        ax.azim = az\n",
    "#         ax.azim = 0 \n",
    "#         ax.dist = 9\n",
    "#         ax.set_xlim(-10, 10)\n",
    "#         ax.set_ylim(-10, 10)\n",
    "#         ax.set_zlim(-10, 10)\n",
    "        \n",
    "        \n",
    "# \n",
    "        lim = np.max(np.abs(ske))\n",
    "#         ax.view_init(azim=az, elev=ele)\n",
    "\n",
    "        ax.set_xlim(-lim, lim)\n",
    "        ax.set_ylim(-lim, lim)\n",
    "        ax.set_zlim(-lim, lim)\n",
    "        \n",
    "        ax.set_xlabel('x',labelpad=-8)\n",
    "        ax.set_ylabel('y',labelpad=-8)\n",
    "        ax.set_zlabel('z',labelpad = -10)\n",
    "        ax.set_yticklabels([])\n",
    "        ax.set_xticklabels([])\n",
    "        ax.set_zticklabels([])\n",
    "        ax.axis('off')       \n",
    "        ax.patch.set_alpha(0.5)\n",
    "\n",
    "\n",
    "\n",
    "\n",
    "        # ax.set_aspect('equal')\n",
    "\n",
    "#         ax.view_init(azim=90, elev=10)\n",
    "\n",
    "        C = [{0: lcolor,  1: rcolor}[flag] for flag in lr_flags]\n",
    "        P = limb_parents\n",
    "\n",
    "        # Make connection matrix\n",
    "#         joint_lines = []\n",
    "        for i in range(ske.shape[0]):\n",
    "            x = [ske[i, 0], ske[P[i], 0]]\n",
    "            y = [ske[i, 1], ske[P[i], 1]]\n",
    "            z = [ske[i, 2], ske[P[i], 2]]\n",
    "#             x = [ske[i, 0]*1.2, ske[P[i]*1.2, 0]]\n",
    "#             y = [ske[i, 1]*1.2, ske[P[i]*1.2, 1]]\n",
    "#             z = [ske[i, 2]*1.2, ske[P[i]*1.2, 2]]\n",
    "            \n",
    "            # print x,y,z\n",
    "            ax.plot(x, y, z, lw=4, c=C[i])\n",
    "\n",
    "\n",
    "\n",
    "# color_ours = ['blue',  'green']\n",
    "# color_ours = ['#5879ff',  '#cc2520']\n",
    "\n",
    "lr_flags = [\n",
    "    1, 1,\n",
    "    1, 1, 1,\n",
    "    0, 0, 0,\n",
    "    1,\n",
    "    1, 1, 1, 1,\n",
    "    0, 0, 0, 0,\n",
    "]\n",
    "\n",
    "\n",
    "\n",
    "\n",
    "def get_all_plots_images(skeleton_strips):\n",
    "    m = 15\n",
    "    fig=plt.figure(figsize=(1.77 * 4 * 45 , 4))\n",
    "    gs = gridspec.GridSpec(1, m)\n",
    "    gs.update(wspace=0.05, hspace=0.4, left = None, right = 0.6, bottom = 0.1, top = 0.9) \n",
    "\n",
    "    for j in range(m):\n",
    "        idx = j\n",
    "        ax = plt.subplot(gs[idx])\n",
    "        k=mpimg.imread(skeleton_strips[j])\n",
    "        ax.imshow(k)\n",
    "        ax.axis('off')    \n",
    "\n",
    "    return fig  \n",
    "\n",
    "\n",
    "def get_all_plots(skeleton_strips_male,az):\n",
    "    \n",
    "#     l = len(os.listdir('./pose_grid_4/grid_plots/')) + 1\n",
    "#     os.makedirs('./pose_grid_4/grid_plots/plot_{}/'.format(str(l)))\n",
    "    path = './pose_grid_4/grid_plots/plot_flipped/'\n",
    "    if not os.path.exists(path):\n",
    "        os.makedirs(path)\n",
    "\n",
    "    sio.savemat('./pose_grid_4/grid_plots/plot_flipped/artifacts.mat',{'gt':x_inputs,'embedding':grid_flat,'grid':pred_ops})\n",
    "\n",
    "#     fig=plt.figure(figsize=(4  * 15 , 4 * 15))#width , height\n",
    "    fig=plt.figure(figsize=(4  * 1 , 5))#width , height\n",
    "    gs = gridspec.GridSpec(1, 1) #rows and columns\n",
    "#     gs.update(wspace=0.05, hspace=0.0005) # set the spacing between axes. \n",
    "    gs.update(wspace=0.05, hspace=0.4, left = None, right = 0.6, bottom = 0.1, top = 0.9) \n",
    "    cnt = 0\n",
    "    for i in range (10):\n",
    "    #     lcolor, rcolor = colors\n",
    "        for j in range(10):\n",
    "            idx = j\n",
    "#             ax = plt.subplot(gs[idx], projection='3d')\n",
    "#     #         color_ours = ['blue',  'green']\n",
    "#             color_ours = ['k','m']\n",
    "\n",
    "#             plot_skeleton(ax, skeleton_strips_male[j],color_ours,az)\n",
    "    #         color_ours = ['#5879ff',  '#cc2520']\n",
    "    #         color_ours = ['k','m']\n",
    "    #         plot_skeleton(ax, skeleton_strips_female[j],color_ours)\n",
    "            ax = plt.subplot(gs[0], projection='3d')\n",
    "            color_ours = ['k','m']\n",
    "            plot_skeleton(ax, skeleton_strips_male[cnt],color_ours,az)\n",
    "            cnt = cnt + 1\n",
    "#             plt.savefig(\"./pose_grid_4/grid_plots/plot_{}/grid{}.png\".format(str(l),i),bbox_inches = 'tight',dpi=350, transparent = True);\n",
    "            plt.savefig(\"./pose_grid_4/grid_plots/plot_flipped/{}_{}.png\".format(i,j),bbox_inches = 'tight',dpi=350, transparent = True);\n",
    "#         plt.savefig(\"./pose_grid_4/grid_plots/plot_flipped/grid{}.png\".format(i),bbox_inches = 'tight',dpi=350, transparent = True);\n",
    "\n",
    "        \n",
    "    return fig\n",
    "\n",
    "\n",
    "def get_all_plots_together(skeleton_strips_male,az):\n",
    "    \n",
    "#     l = len(os.listdir('./pose_grid_4/grid_plots/')) + 1\n",
    "#     os.makedirs('./pose_grid_4/grid_plots/plot_{}/'.format(str(l)))\n",
    "#     os.makedirs('./pose_grid_4/grid_plots/plot_flipped/')\n",
    "\n",
    "#     sio.savemat('./pose_grid_4/grid_plots/plot_{}/artifacts.mat'.format(str(l)),{'gt':x_inputs,'embedding':grid_flat,'grid':pred_ops})\n",
    "\n",
    "#     fig=plt.figure(figsize=(4  * 15 , 4 * 15))#width , height\n",
    "    fig=plt.figure(figsize=(4  * 10 , 5 * 10))#width , height\n",
    "    gs = gridspec.GridSpec(10, 10) #rows and columns\n",
    "#     gs.update(wspace=0.05, hspace=0.0005) # set the spacing between axes. \n",
    "    gs.update(wspace=0.05, hspace=0.4, left = None, right = 0.6, bottom = 0.1, top = 0.9) \n",
    "    cnt = 0\n",
    "    for i in range (100):\n",
    "    #     lcolor, rcolor = colors\n",
    "        idx = i\n",
    "#             ax = plt.subplot(gs[idx], projection='3d')\n",
    "#     #         color_ours = ['blue',  'green']\n",
    "#             color_ours = ['k','m']\n",
    "\n",
    "#             plot_skeleton(ax, skeleton_strips_male[j],color_ours,az)\n",
    "#         color_ours = ['#5879ff',  '#cc2520']\n",
    "#         color_ours = ['k','m']\n",
    "#         plot_skeleton(ax, skeleton_strips_female[j],color_ours)\n",
    "        ax = plt.subplot(gs[i], projection='3d')\n",
    "        color_ours = ['k','m']\n",
    "        plot_skeleton(ax, skeleton_strips_male[i],color_ours,az)\n",
    "        cnt = cnt + 1\n",
    "#             plt.savefig(\"./pose_grid_4/grid_plots/plot_{}/grid{}.png\".format(str(l),i),bbox_inches = 'tight',dpi=350, transparent = True);\n",
    "#             plt.savefig(\"{}{}.png\".format(path,i),bbox_inches = 'tight',dpi=350, transparent = True);\n",
    "#         plt.savefig(\"./pose_grid_4/grid_plots/plot_flipped/grid{}.png\".format(i),bbox_inches = 'tight',dpi=350, transparent = True);\n",
    "\n",
    "        \n",
    "    return fig\n",
    "\n",
    "\n",
    "\n",
    "def get_tmp_plots(skeleton_strips_male,az):\n",
    "    \n",
    "    l = len(os.listdir('./pose_grid_4/corner_plots/')) + 1\n",
    "    os.makedirs('./pose_grid_4/corner_plots/plot_{}/'.format(str(l)))\n",
    "    sio.savemat('./pose_grid_4/corner_plots/plot_{}/corner_artifacts.mat'.format(str(l)),{'corner_poses':final_poses})\n",
    "\n",
    "#     fig=plt.figure(figsize=(4  * 15 , 4 * 15))#width , height\n",
    "    fig=plt.figure(figsize=(4  * 10 , 5))#width , height\n",
    "    gs = gridspec.GridSpec(1, 10) #rows and columns\n",
    "#     gs.update(wspace=0.05, hspace=0.0005) # set the spacing between axes. \n",
    "    gs.update(wspace=0.05, hspace=0.4, left = None, right = 0.6, bottom = 0.1, top = 0.9) \n",
    "    cnt = 0\n",
    "    for i in range (2):\n",
    "    #     lcolor, rcolor = colors\n",
    "        for j in range(2):\n",
    "            idx = j\n",
    "#             ax = plt.subplot(gs[idx], projection='3d')\n",
    "#     #         color_ours = ['blue',  'green']\n",
    "#             color_ours = ['k','m']\n",
    "\n",
    "#             plot_skeleton(ax, skeleton_strips_male[j],color_ours,az)\n",
    "    #         color_ours = ['#5879ff',  '#cc2520']\n",
    "    #         color_ours = ['k','m']\n",
    "    #         plot_skeleton(ax, skeleton_strips_female[j],color_ours)\n",
    "            ax = plt.subplot(gs[j], projection='3d')\n",
    "            color_ours = ['k','m']\n",
    "            plot_skeleton(ax, skeleton_strips_male[cnt],color_ours,az)\n",
    "            cnt = cnt + 1\n",
    "            plt.savefig(\"./pose_grid_4/corner_plots/plot_{}/grid{}.png\".format(str(l),i),bbox_inches = 'tight',dpi=350, transparent = True);\n",
    "#             plt.savefig(\"{}{}.png\".format(path,i),bbox_inches = 'tight',dpi=350, transparent = True);\n",
    "        \n",
    "    return fig\n",
    "\n"
   ]
  },
  {
   "cell_type": "code",
   "execution_count": 30,
   "metadata": {},
   "outputs": [],
   "source": [
    "%matplotlib inline"
   ]
  },
  {
   "cell_type": "code",
   "execution_count": null,
   "metadata": {},
   "outputs": [],
   "source": []
  },
  {
   "cell_type": "code",
   "execution_count": 31,
   "metadata": {
    "scrolled": false
   },
   "outputs": [
    {
     "data": {
      "image/png": "[encoded data removed]",
      "text/plain": [
       "<Figure size 288x360 with 1 Axes>"
      ]
     },
     "metadata": {},
     "output_type": "display_data"
    }
   ],
   "source": [
    "# import os \n",
    "# if not os.path.exists('./pose_grid_4/corner_plots/'):\n",
    "#     os.makedirs('./pose_grid_4/corner_plots')\n",
    "    \n",
    "# if not os.path.exists('./pose_grid_4/grid_plots/'):\n",
    "#     os.makedirs('./pose_grid_4/grid_plots/')\n",
    "# # for i in range(100):\n",
    "#     #pred_ops = tr_util.local_to_view_norm_skeleton_batch(pred_ops)\n",
    "fig = get_all_plots(pred_ops,az = 0)\n",
    "# fig = get_all_plots_together(pred_ops,az = 0)\n",
    "\n",
    "\n",
    "# fig = get_tmp_plots(final_poses,az = 0)\n",
    "# #plt.savefig(\"./pose_grid/\"+str(i)+\".png\",bbox_inches = 'tight',dpi=350);\n",
    "\n",
    "# print pred_ops.shape"
   ]
  },
  {
   "cell_type": "code",
   "execution_count": null,
   "metadata": {},
   "outputs": [],
   "source": []
  },
  {
   "cell_type": "code",
   "execution_count": 28,
   "metadata": {},
   "outputs": [],
   "source": [
    "# import matplotlib.pyplot as plt\n",
    "# %matplotlib inline  "
   ]
  },
  {
   "cell_type": "code",
   "execution_count": 29,
   "metadata": {},
   "outputs": [],
   "source": [
    "# plt.imshow(speed, cmap='hot', interpolation='nearest')\n",
    "# plt.savefig(\"test.svg\", format=\"svg\")\n",
    "# plt.show()"
   ]
  },
  {
   "cell_type": "code",
   "execution_count": 30,
   "metadata": {},
   "outputs": [],
   "source": [
    "# a = np.argmax(speed)\n",
    "\n",
    "# c  = np.unravel_index(a, speed.shape)\n",
    "\n",
    "# print c"
   ]
  },
  {
   "cell_type": "code",
   "execution_count": 31,
   "metadata": {},
   "outputs": [],
   "source": [
    "# for i in range(-4,5):\n",
    "#     l = mean + i*std\n",
    "#     l = np.reshape(l, (1,128))\n",
    "#     x_pred = sess.run(pred_ops_ph,feed_dict={state_ph : l})\n",
    "#     imgs = sk_utils.get_skeleton_images(x_pred[0], title_prefix='p')\n",
    "#     writer = imageio.get_writer('./predictions/op_{}.mp4'.format(i), fps=30)\n",
    "#     for j, im in enumerate(imgs):\n",
    "#         writer.append_data(im)\n",
    "#         if j % 10 == 0:\n",
    "#             print 'done with %d frames' % j\n",
    "#     writer.close()\n",
    "\n"
   ]
  },
  {
   "cell_type": "code",
   "execution_count": 32,
   "metadata": {},
   "outputs": [],
   "source": [
    "# # !rm -rf pose_grid/plot_4/\n",
    "# !ls pose_grid/\n",
    "\n"
   ]
  },
  {
   "cell_type": "code",
   "execution_count": 33,
   "metadata": {},
   "outputs": [],
   "source": [
    "# %matplotlib inline"
   ]
  },
  {
   "cell_type": "code",
   "execution_count": 34,
   "metadata": {},
   "outputs": [],
   "source": [
    "# fig = plt.figure()\n",
    "# ax = vis.get_ax(poses[int(l_sor[0][0])], fig, az=0)\n",
    "# vis.plot_skeleton_and_scatter(poses[int(l_sor[0][0])], ax)"
   ]
  },
  {
   "cell_type": "code",
   "execution_count": 35,
   "metadata": {},
   "outputs": [],
   "source": [
    "# fig = plt.figure()\n",
    "# ax = vis.get_ax(poses[int(n_sor[-1][0])], fig, az=0)\n",
    "# vis.plot_skeleton_and_scatter(poses[int(n_sor[-1][0])], ax)"
   ]
  },
  {
   "cell_type": "code",
   "execution_count": 36,
   "metadata": {},
   "outputs": [],
   "source": [
    "# m = [(c,i) for c,i in enumerate(k['images_path']) if \"\" in i]\n"
   ]
  },
  {
   "cell_type": "code",
   "execution_count": 37,
   "metadata": {},
   "outputs": [],
   "source": [
    "# print (m[:10])\n"
   ]
  },
  {
   "cell_type": "code",
   "execution_count": 38,
   "metadata": {},
   "outputs": [],
   "source": [
    "# m = [(c,i) for c,i in enumerate(k['images_path']) if \"S7_Eating\" in i]\n",
    "# l = [i for i in m if \"58860488_video_0_90_0\" in i[-1]]\n",
    "# n = [i for i in m if \"58860488_video_90_180_2\" in i[-1]]\n",
    "# o = [i for i in m if \"58860488_video_180_270_4\" in i[-1]]\n",
    "# p = [i for i in m if \"58860488_video_270_360_6\" in i[-1]]\n",
    "\n",
    "\n"
   ]
  },
  {
   "cell_type": "code",
   "execution_count": 39,
   "metadata": {},
   "outputs": [],
   "source": [
    "# from collections import Counter"
   ]
  },
  {
   "cell_type": "code",
   "execution_count": 40,
   "metadata": {},
   "outputs": [],
   "source": [
    "# tmp = [ '_'.join(i[1].split('/')[7].replace(' ','_').split('_')[:2]) for i in m]"
   ]
  },
  {
   "cell_type": "code",
   "execution_count": 41,
   "metadata": {},
   "outputs": [],
   "source": [
    "# Counter(tmp)"
   ]
  },
  {
   "cell_type": "code",
   "execution_count": null,
   "metadata": {},
   "outputs": [],
   "source": []
  }
 ],
 "metadata": {
  "kernelspec": {
   "display_name": "Python 2",
   "language": "python",
   "name": "python2"
  },
  "language_info": {
   "codemirror_mode": {
    "name": "ipython",
    "version": 2
   },
   "file_extension": ".py",
   "mimetype": "text/x-python",
   "name": "python",
   "nbconvert_exporter": "python",
   "pygments_lexer": "ipython2",
   "version": "2.7.12"
  },
  "varInspector": {
   "cols": {
    "lenName": 16,
    "lenType": 16,
    "lenVar": 40
   },
   "kernels_config": {
    "python": {
     "delete_cmd_postfix": "",
     "delete_cmd_prefix": "del ",
     "library": "var_list.py",
     "varRefreshCmd": "print(var_dic_list())"
    },
    "r": {
     "delete_cmd_postfix": ") ",
     "delete_cmd_prefix": "rm(",
     "library": "var_list.r",
     "varRefreshCmd": "cat(var_dic_list()) "
    }
   },
   "types_to_exclude": [
    "module",
    "function",
    "builtin_function_or_method",
    "instance",
    "_Feature"
   ],
   "window_display": false
  }
 },
 "nbformat": 4,
 "nbformat_minor": 2
}
