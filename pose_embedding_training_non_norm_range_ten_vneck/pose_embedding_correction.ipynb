{
 "cells": [
  {
   "cell_type": "code",
   "execution_count": 1,
   "metadata": {
    "scrolled": true
   },
   "outputs": [],
   "source": [
    "%load_ext autoreload\n",
    "%autoreload 2\n"
   ]
  },
  {
   "cell_type": "code",
   "execution_count": 2,
   "metadata": {},
   "outputs": [
    {
     "name": "stdout",
     "output_type": "stream",
     "text": [
      "Tensor(\"Const:0\", shape=(3,), dtype=float32)\n",
      "Tensor(\"Const_1:0\", shape=(17, 3), dtype=float32)\n"
     ]
    }
   ],
   "source": [
    "import matplotlib\n",
    "matplotlib.use(\"Agg\")\n",
    "import scipy.io as sio\n",
    "\n",
    "# from other_utils import np_utils, sk_utils\n",
    "import numpy as np\n",
    "import tensorflow as tf\n",
    "from termcolor import colored\n",
    "import matplotlib.pyplot as plt\n",
    "import matplotlib.image as mimg\n",
    "import matplotlib.gridspec as gridspec\n",
    " \n",
    "\n",
    "import model_componets as comps\n",
    "from data_loader import DataLoader\n",
    "from commons import transform_util as tr_util\n",
    "from model_componets import *\n",
    "import vis_image as vis\n",
    "\n",
    "import random\n"
   ]
  },
  {
   "cell_type": "code",
   "execution_count": 3,
   "metadata": {},
   "outputs": [],
   "source": [
    "limb_parents = [0, 0, 1, 2, 3, 1, 5, 6, 1, 0, 9, 10, 11, 0, 13, 14, 15]\n",
    "\n",
    "\n",
    "# os.environ['CUDA_VISIBLE_DEVICES'] = \"1\"\n",
    "# config = tf.ConfigProto()\n",
    "# config.gpu_options.allow_growth = True\n",
    "# sess = tf.InteractiveSession(config=config)\n",
    "\n",
    "sess = tf.InteractiveSession()\n",
    "\n",
    "def get_network_params(scope):\n",
    "    return tf.get_collection(tf.GraphKeys.GLOBAL_VARIABLES, scope=scope)\n",
    "\n",
    "\n",
    "def get_ax(joints_3d, fig, az=0, ele=10, subplot='111'):\n",
    "    x, y, z = subplot\n",
    "    ax = fig.add_subplot(subplot, projection='3d')\n",
    "\n",
    "    lim = np.max(np.abs(joints_3d))\n",
    "    ax.view_init(azim=az, elev=ele)\n",
    "\n",
    "    ax.set_xlim(-lim, lim)\n",
    "    ax.set_ylim(-lim, lim)\n",
    "    ax.set_zlim(-lim, lim)\n",
    "    ax.set_xlabel('x')\n",
    "    ax.set_ylabel('y')\n",
    "    ax.set_zlabel('z')\n",
    "\n",
    "    return ax\n",
    "\n",
    "def plot_skeleton(ax, ske,color_ours,az, ground_size=0.5):\n",
    "        lcolor = color_ours[0]\n",
    "        rcolor = color_ours[1]\n",
    "        ax.grid(False)\n",
    "#         # Hide axes ticks\n",
    "#         ax.set_xticks([])\n",
    "#         ax.set_yticks([])\n",
    "#         ax.set_zticks([])\n",
    "#         plt.axis('off')\n",
    "#         ax.set_aspect('equal')\n",
    "        ax.elev = 10\n",
    "        ax.azim = az\n",
    "#         ax.azim = 0 \n",
    "#         ax.dist = 9\n",
    "#         ax.set_xlim(-10, 10)\n",
    "#         ax.set_ylim(-10, 10)\n",
    "#         ax.set_zlim(-10, 10)\n",
    "        \n",
    "        \n",
    "# \n",
    "        lim = np.max(np.abs(ske))\n",
    "#         ax.view_init(azim=az, elev=ele)\n",
    "\n",
    "        ax.set_xlim(-lim, lim)\n",
    "        ax.set_ylim(-lim, lim)\n",
    "        ax.set_zlim(-lim, lim)\n",
    "        \n",
    "        ax.set_xlabel('x',labelpad=-8)\n",
    "        ax.set_ylabel('y',labelpad=-8)\n",
    "        ax.set_zlabel('z',labelpad = -10)\n",
    "        ax.set_yticklabels([])\n",
    "        ax.set_xticklabels([])\n",
    "        ax.set_zticklabels([])\n",
    "        ax.axis('off')       \n",
    "\n",
    "\n",
    "\n",
    "\n",
    "        # ax.set_aspect('equal')\n",
    "\n",
    "#         ax.view_init(azim=90, elev=10)\n",
    "\n",
    "        C = [{0: lcolor,  1: rcolor}[flag] for flag in lr_flags]\n",
    "        P = limb_parents\n",
    "\n",
    "        # Make connection matrix\n",
    "#         joint_lines = []\n",
    "        for i in range(ske.shape[0]):\n",
    "            x = [ske[i, 0], ske[P[i], 0]]\n",
    "            y = [ske[i, 1], ske[P[i], 1]]\n",
    "            z = [ske[i, 2], ske[P[i], 2]]\n",
    "#             x = [ske[i, 0]*1.2, ske[P[i]*1.2, 0]]\n",
    "#             y = [ske[i, 1]*1.2, ske[P[i]*1.2, 1]]\n",
    "#             z = [ske[i, 2]*1.2, ske[P[i]*1.2, 2]]\n",
    "            \n",
    "            # print x,y,z\n",
    "            ax.plot(x, y, z, lw=4, c=C[i])\n",
    "\n",
    "\n",
    "\n",
    "# color_ours = ['blue',  'green']\n",
    "# color_ours = ['#5879ff',  '#cc2520']\n",
    "\n",
    "lr_flags = [\n",
    "    1, 1,\n",
    "    1, 1, 1,\n",
    "    0, 0, 0,\n",
    "    1,\n",
    "    1, 1, 1, 1,\n",
    "    0, 0, 0, 0,\n",
    "]\n",
    "\n",
    "\n",
    "\n",
    "\n",
    "def get_all_plots_images(skeleton_strips):\n",
    "    m = 15\n",
    "    fig=plt.figure(figsize=(1.77 * 4 * 45 , 4))\n",
    "    gs = gridspec.GridSpec(1, m)\n",
    "    gs.update(wspace=0.05, hspace=0.4, left = None, right = 0.6, bottom = 0.1, top = 0.9) \n",
    "\n",
    "    for j in range(m):\n",
    "        idx = j\n",
    "        ax = plt.subplot(gs[idx])\n",
    "        k=mpimg.imread(skeleton_strips[j])\n",
    "        ax.imshow(k)\n",
    "        ax.axis('off')    \n",
    "\n",
    "    return fig  \n",
    "\n",
    "\n",
    "# def get_all_plots(skeleton_strips_male,az):\n",
    "    \n",
    "# #     l = len(os.listdir('./pose_grid_4/grid_plots/')) + 1\n",
    "# #     os.makedirs('./pose_grid_4/grid_plots/plot_{}/'.format(str(l)))\n",
    "# #     sio.savemat('./pose_grid_4/grid_plots/plot_{}/artifacts.mat'.format(str(l)),{'gt':x_inputs,'embedding':grid_flat,'grid':pred_ops})\n",
    "    \n",
    "# #     fig=plt.figure(figsize=(4  * 15 , 4 * 15))#width , height\n",
    "#     fig=plt.figure(figsize=(4  , 5))#width , height\n",
    "#     gs = gridspec.GridSpec(1, 1) #rows and columns\n",
    "# #     gs.update(wspace=0.05, hspace=0.0005) # set the spacing between axes. \n",
    "#     gs.update(wspace=0.05, hspace=0.4, left = None, right = 0.6, bottom = 0.1, top = 0.9) \n",
    "#     cnt = 0\n",
    "#     for i in range (10):\n",
    "#     #     lcolor, rcolor = colors\n",
    "#         for j in range(11):\n",
    "#             idx = j\n",
    "# #             ax = plt.subplot(gs[idx], projection='3d')\n",
    "# #     #         color_ours = ['blue',  'green']\n",
    "# #             color_ours = ['k','m']\n",
    "\n",
    "# #             plot_skeleton(ax, skeleton_strips_male[j],color_ours,az)\n",
    "#     #         color_ours = ['#5879ff',  '#cc2520']\n",
    "#     #         color_ours = ['k','m']\n",
    "#     #         plot_skeleton(ax, skeleton_strips_female[j],color_ours)\n",
    "#             ax = plt.subplot(gs[0], projection='3d')\n",
    "#             color_ours = ['k','m']\n",
    "#             plot_skeleton(ax, skeleton_strips_male[cnt],color_ours,az)\n",
    "#             cnt = cnt + 1\n",
    "\n",
    "# #             plt.savefig(\"{}{}.png\".format(path,i),bbox_inches = 'tight',dpi=350, transparent = True);\n",
    "#             plt.savefig(\"./pose_grid_4/grid_plots/plot_4/single-{}-{}.png\".format(i,j),bbox_inches = 'tight',dpi=350, transparent = True);\n",
    "\n",
    "#     return fig\n",
    "\n",
    "\n",
    "def get_all_plots_together(skeleton_strips_male,az):\n",
    "    \n",
    "#     l = len(os.listdir('./pose_grid_4/grid_plots/')) + 1\n",
    "#     os.makedirs('./pose_grid_4/grid_plots/plot_{}/'.format(str(l)))\n",
    "#     os.makedirs('./pose_grid_4/grid_plots/plot_flipped/')\n",
    "\n",
    "#     sio.savemat('./pose_grid_4/grid_plots/plot_{}/artifacts.mat'.format(str(l)),{'gt':x_inputs,'embedding':grid_flat,'grid':pred_ops})\n",
    "\n",
    "#     fig=plt.figure(figsize=(4  * 15 , 4 * 15))#width , height\n",
    "    fig=plt.figure(figsize=(4  * 10, 5 * 11))#width , height\n",
    "    gs = gridspec.GridSpec(11, 10) #rows and columns\n",
    "#     gs.update(wspace=0.05, hspace=0.0005) # set the spacing between axes. \n",
    "    gs.update(wspace=0.05, hspace=0.4, left = None, right = 0.6, bottom = 0.1, top = 0.9) \n",
    "    cnt = 0\n",
    "    for i in range (110):\n",
    "    #     lcolor, rcolor = colors\n",
    "        idx = i\n",
    "#             ax = plt.subplot(gs[idx], projection='3d')\n",
    "#     #         color_ours = ['blue',  'green']\n",
    "#             color_ours = ['k','m']\n",
    "\n",
    "#             plot_skeleton(ax, skeleton_strips_male[j],color_ours,az)\n",
    "#         color_ours = ['#5879ff',  '#cc2520']\n",
    "#         color_ours = ['k','m']\n",
    "#         plot_skeleton(ax, skeleton_strips_female[j],color_ours)\n",
    "        ax = plt.subplot(gs[i], projection='3d')\n",
    "        color_ours = ['k','m']\n",
    "        plot_skeleton(ax, skeleton_strips_male[i],color_ours,az)\n",
    "        cnt = cnt + 1\n",
    "#             plt.savefig(\"./pose_grid_4/grid_plots/plot_{}/grid{}.png\".format(str(l),i),bbox_inches = 'tight',dpi=350, transparent = True);\n",
    "#             plt.savefig(\"{}{}.png\".format(path,i),bbox_inches = 'tight',dpi=350, transparent = True);\n",
    "#         plt.savefig(\"./pose_grid_4/grid_plots/plot_flipped/grid{}.png\".format(i),bbox_inches = 'tight',dpi=350, transparent = True);\n",
    "\n",
    "        \n",
    "    return fig\n",
    "\n",
    "\n",
    "# def get_tmp_plots(skeleton_strips_male,az):\n",
    "    \n",
    "#     l = len(os.listdir('./pose_grid_4/corner_plots/')) + 1\n",
    "#     os.makedirs('./pose_grid_4/corner_plots/plot_{}/'.format(str(l)))\n",
    "#     sio.savemat('./pose_grid_4/corner_plots/plot_{}/corner_artifacts.mat'.format(str(l)),{'corner_poses':final_poses})\n",
    "\n",
    "# #     fig=plt.figure(figsize=(4  * 15 , 4 * 15))#width , height\n",
    "#     fig=plt.figure(figsize=(4  * 10 , 5))#width , height\n",
    "#     gs = gridspec.GridSpec(1, 10) #rows and columns\n",
    "# #     gs.update(wspace=0.05, hspace=0.0005) # set the spacing between axes. \n",
    "#     gs.update(wspace=0.05, hspace=0.4, left = None, right = 0.6, bottom = 0.1, top = 0.9) \n",
    "#     cnt = 0\n",
    "#     for i in range (2):\n",
    "#     #     lcolor, rcolor = colors\n",
    "#         for j in range(2):\n",
    "#             idx = j\n",
    "# #             ax = plt.subplot(gs[idx], projection='3d')\n",
    "# #     #         color_ours = ['blue',  'green']\n",
    "# #             color_ours = ['k','m']\n",
    "\n",
    "# #             plot_skeleton(ax, skeleton_strips_male[j],color_ours,az)\n",
    "#     #         color_ours = ['#5879ff',  '#cc2520']\n",
    "#     #         color_ours = ['k','m']\n",
    "#     #         plot_skeleton(ax, skeleton_strips_female[j],color_ours)\n",
    "#             ax = plt.subplot(gs[j], projection='3d')\n",
    "#             color_ours = ['k','m']\n",
    "#             plot_skeleton(ax, skeleton_strips_male[cnt],color_ours,az)\n",
    "#             cnt = cnt + 1\n",
    "#             plt.savefig(\"./pose_grid_4/corner_plots/plot_{}/grid{}.png\".format(str(l),i),bbox_inches = 'tight',dpi=350, transparent = True);\n",
    "# #             plt.savefig(\"{}{}.png\".format(path,i),bbox_inches = 'tight',dpi=350, transparent = True);\n",
    "        \n",
    "#     return fig\n",
    "\n"
   ]
  },
  {
   "cell_type": "code",
   "execution_count": 4,
   "metadata": {},
   "outputs": [],
   "source": [
    "data = '../../plots/pose_grid_4/grid_plots/plot_flipped/artifacts.mat'\n"
   ]
  },
  {
   "cell_type": "code",
   "execution_count": 5,
   "metadata": {},
   "outputs": [],
   "source": [
    "mat_file = sio.loadmat(data)\n",
    "\n",
    "grid = mat_file['grid']"
   ]
  },
  {
   "cell_type": "code",
   "execution_count": 6,
   "metadata": {},
   "outputs": [
    {
     "name": "stdout",
     "output_type": "stream",
     "text": [
      "(100, 17, 3)\n"
     ]
    }
   ],
   "source": [
    "print grid.shape"
   ]
  },
  {
   "cell_type": "code",
   "execution_count": 7,
   "metadata": {},
   "outputs": [
    {
     "data": {
      "image/png": "[encoded data removed]",
      "text/plain": [
       "<Figure size 2880x360 with 10 Axes>"
      ]
     },
     "metadata": {
      "needs_background": "light"
     },
     "output_type": "display_data"
    }
   ],
   "source": [
    "%matplotlib inline \n",
    "fig=plt.figure(figsize=(4  * 10 , 5))#width , height\n",
    "gs = gridspec.GridSpec(1, 10) #rows and columns\n",
    "#     gs.update(wspace=0.05, hspace=0.0005) # set the spacing between axes. \n",
    "gs.update(wspace=0.05, hspace=0.4, left = None, right = 0.6, bottom = 0.1, top = 0.9) \n",
    "cnt = 0 \n",
    "tmp = grid[40:50]\n",
    "for j in range(0,10):\n",
    "    ax = plt.subplot(gs[cnt], projection='3d')\n",
    "    color_ours = ['k','m']\n",
    "    plot_skeleton(ax, tmp[j],color_ours,az = 0)\n",
    "    cnt =cnt + 1 "
   ]
  },
  {
   "cell_type": "code",
   "execution_count": 9,
   "metadata": {},
   "outputs": [
    {
     "data": {
      "text/plain": [
       "(10, 10, 17, 3)"
      ]
     },
     "execution_count": 9,
     "metadata": {},
     "output_type": "execute_result"
    }
   ],
   "source": [
    "t= np.reshape(grid,(-1,10,17,3))\n",
    "t.shape"
   ]
  },
  {
   "cell_type": "code",
   "execution_count": 10,
   "metadata": {
    "scrolled": true
   },
   "outputs": [
    {
     "name": "stdout",
     "output_type": "stream",
     "text": [
      "(10, 17, 3)\n"
     ]
    },
    {
     "data": {
      "text/plain": [
       "(3, 10, 17, 3)"
      ]
     },
     "execution_count": 10,
     "metadata": {},
     "output_type": "execute_result"
    }
   ],
   "source": [
    "l = np.linspace(t[[3],:],t[[4],:],3)\n",
    "l = l.squeeze(1)\n",
    "new_row = l[1]\n",
    "print (new_row.shape)\n",
    "(l.shape)"
   ]
  },
  {
   "cell_type": "code",
   "execution_count": 11,
   "metadata": {},
   "outputs": [
    {
     "data": {
      "text/plain": [
       "(11, 10, 17, 3)"
      ]
     },
     "execution_count": 11,
     "metadata": {},
     "output_type": "execute_result"
    }
   ],
   "source": [
    "t = np.insert(t, 4, new_row, 0)\n",
    "t.shape"
   ]
  },
  {
   "cell_type": "code",
   "execution_count": 12,
   "metadata": {},
   "outputs": [
    {
     "ename": "AttributeError",
     "evalue": "'numpy.ndarray' object has no attribute 'ahape'",
     "output_type": "error",
     "traceback": [
      "\u001b[0;31m---------------------------------------------------------------------------\u001b[0m",
      "\u001b[0;31mAttributeError\u001b[0m                            Traceback (most recent call last)",
      "\u001b[0;32m<ipython-input-12-8122db8b413c>\u001b[0m in \u001b[0;36m<module>\u001b[0;34m()\u001b[0m\n\u001b[0;32m----> 1\u001b[0;31m \u001b[0mt\u001b[0m\u001b[0;34m.\u001b[0m\u001b[0mreshape\u001b[0m\u001b[0;34m(\u001b[0m\u001b[0;34m(\u001b[0m\u001b[0;34m-\u001b[0m\u001b[0;36m1\u001b[0m\u001b[0;34m,\u001b[0m\u001b[0;36m17\u001b[0m\u001b[0;34m,\u001b[0m\u001b[0;36m3\u001b[0m\u001b[0;34m)\u001b[0m\u001b[0;34m)\u001b[0m\u001b[0;34m.\u001b[0m\u001b[0mahape\u001b[0m\u001b[0;34m\u001b[0m\u001b[0m\n\u001b[0m\u001b[1;32m      2\u001b[0m \u001b[0mget_all_plots_together\u001b[0m\u001b[0;34m(\u001b[0m\u001b[0mt\u001b[0m\u001b[0;34m.\u001b[0m\u001b[0mreshape\u001b[0m\u001b[0;34m(\u001b[0m\u001b[0;34m(\u001b[0m\u001b[0;34m-\u001b[0m\u001b[0;36m1\u001b[0m\u001b[0;34m,\u001b[0m\u001b[0;36m17\u001b[0m\u001b[0;34m,\u001b[0m\u001b[0;36m3\u001b[0m\u001b[0;34m)\u001b[0m\u001b[0;34m)\u001b[0m\u001b[0;34m,\u001b[0m\u001b[0maz\u001b[0m \u001b[0;34m=\u001b[0m \u001b[0;36m0\u001b[0m\u001b[0;34m)\u001b[0m\u001b[0;34m\u001b[0m\u001b[0m\n",
      "\u001b[0;31mAttributeError\u001b[0m: 'numpy.ndarray' object has no attribute 'ahape'"
     ]
    }
   ],
   "source": [
    "t.reshape((-1,17,3)).ahape\n",
    "get_all_plots_together(t.reshape((-1,17,3)),az = 0)"
   ]
  },
  {
   "cell_type": "code",
   "execution_count": 20,
   "metadata": {},
   "outputs": [
    {
     "data": {
      "image/png": "[encoded data removed]",
      "text/plain": [
       "<Figure size 288x360 with 1 Axes>"
      ]
     },
     "execution_count": 20,
     "metadata": {},
     "output_type": "execute_result"
    },
    {
     "data": {
      "image/png": "[encoded data removed]",
      "text/plain": [
       "<Figure size 288x360 with 1 Axes>"
      ]
     },
     "metadata": {},
     "output_type": "display_data"
    }
   ],
   "source": [
    "get_all_plots(k.reshape((-1,17,3)),az = 0)"
   ]
  },
  {
   "cell_type": "code",
   "execution_count": 197,
   "metadata": {},
   "outputs": [
    {
     "data": {
      "text/plain": [
       "(110, 17, 3)"
      ]
     },
     "execution_count": 197,
     "metadata": {},
     "output_type": "execute_result"
    }
   ],
   "source": [
    "k.reshape((-1,17,3)).shape"
   ]
  },
  {
   "cell_type": "code",
   "execution_count": 13,
   "metadata": {},
   "outputs": [
    {
     "data": {
      "text/plain": [
       "(10, 11, 17, 3)"
      ]
     },
     "execution_count": 13,
     "metadata": {},
     "output_type": "execute_result"
    }
   ],
   "source": [
    "k.shape"
   ]
  },
  {
   "cell_type": "code",
   "execution_count": 21,
   "metadata": {},
   "outputs": [],
   "source": [
    "motion_data = '/data/vcl/anirudh_rule_based/codes_2020/motion_rules_training_non_norm_range_ten_vneck/pca_poses.mat'"
   ]
  },
  {
   "cell_type": "code",
   "execution_count": 22,
   "metadata": {},
   "outputs": [],
   "source": [
    "rules_data = sio.loadmat(motion_data)"
   ]
  },
  {
   "cell_type": "code",
   "execution_count": 23,
   "metadata": {},
   "outputs": [
    {
     "data": {
      "text/plain": [
       "['normal_backward',\n",
       " 'flipped_forward',\n",
       " 'slow_backward',\n",
       " '__header__',\n",
       " '__globals__',\n",
       " 'fast_forward',\n",
       " '__version__',\n",
       " 'original_sequence']"
      ]
     },
     "execution_count": 23,
     "metadata": {},
     "output_type": "execute_result"
    }
   ],
   "source": [
    "rules_data.keys()"
   ]
  },
  {
   "cell_type": "code",
   "execution_count": 28,
   "metadata": {},
   "outputs": [
    {
     "data": {
      "image/png": "[encoded data removed]",
      "text/plain": [
       "<Figure size 2880x360 with 10 Axes>"
      ]
     },
     "metadata": {},
     "output_type": "display_data"
    }
   ],
   "source": [
    "%matplotlib inline \n",
    "fig=plt.figure(figsize=(4  * 10 , 5))#width , height\n",
    "gs = gridspec.GridSpec(1, 10) #rows and columns\n",
    "#     gs.update(wspace=0.05, hspace=0.0005) # set the spacing between axes. \n",
    "gs.update(wspace=0.05, hspace=0.4, left = None, right = 0.6, bottom = 0.1, top = 0.9) \n",
    "cnt = 0 \n",
    "tmp = rules_data['normal_backward']\n",
    "for j in range(0,10):\n",
    "    ax = plt.subplot(gs[cnt], projection='3d')\n",
    "    color_ours = ['k','m']\n",
    "    plot_skeleton(ax, tmp[j],color_ours,az = 90)\n",
    "    cnt =cnt + 1 "
   ]
  },
  {
   "cell_type": "code",
   "execution_count": 29,
   "metadata": {},
   "outputs": [
    {
     "data": {
      "text/plain": [
       "(1500, 17, 3)"
      ]
     },
     "execution_count": 29,
     "metadata": {},
     "output_type": "execute_result"
    }
   ],
   "source": [
    "rules_data['original_sequence'].shape"
   ]
  },
  {
   "cell_type": "code",
   "execution_count": null,
   "metadata": {},
   "outputs": [],
   "source": []
  }
 ],
 "metadata": {
  "kernelspec": {
   "display_name": "Python 2",
   "language": "python",
   "name": "python2"
  },
  "language_info": {
   "codemirror_mode": {
    "name": "ipython",
    "version": 2
   },
   "file_extension": ".py",
   "mimetype": "text/x-python",
   "name": "python",
   "nbconvert_exporter": "python",
   "pygments_lexer": "ipython2",
   "version": "2.7.16"
  }
 },
 "nbformat": 4,
 "nbformat_minor": 2
}
