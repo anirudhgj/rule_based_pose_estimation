{
 "cells": [
  {
   "cell_type": "code",
   "execution_count": 1,
   "metadata": {
    "collapsed": true
   },
   "outputs": [],
   "source": [
    "import logging\n",
    "\n",
    "import numpy as np\n",
    "from scipy.stats import norm as sp_norm\n",
    "\n",
    "logger = logging.getLogger(__name__)\n",
    "\n",
    "\n",
    "def prob_dist(A, axis=-1):\n",
    "#     A = np.array(A, dtype=np.float32)\n",
    "#     assert all(A >= 0)\n",
    "    return A / (A.sum(axis=axis, keepdims=True) + 1e-9)\n",
    "\n",
    "\n",
    "def unit_norm(A, axis=0):\n",
    "    A = np.array(A)\n",
    "    norm = np.linalg.norm(A, axis=axis, keepdims=True)\n",
    "    return A / (norm + 1e-9)\n",
    "\n",
    "\n",
    "def one_hot(labels, n_classes):\n",
    "    return np.eye(n_classes)[labels]\n",
    "\n",
    "\n",
    "class DistTransform(object):\n",
    "    def __init__(self, mu, sigma, low, high, scale=1.0):\n",
    "        self.mu = mu\n",
    "        self.sigma = sigma\n",
    "        self.low = low\n",
    "        self.high = high\n",
    "        self.scale = scale\n",
    "\n",
    "    def norm_to_uniform(self, data_norm):\n",
    "        data_norm = data_norm * self.scale\n",
    "        data_uniform = sp_norm.cdf(data_norm, loc=self.mu, scale=self.sigma)\n",
    "        data_uniform = self.low + (self.high - self.low) * data_uniform\n",
    "        data_uniform -= 1e-9 * np.sign(data_uniform)\n",
    "        return data_uniform\n",
    "\n",
    "    def uniform_to_norm(self, data_uniform):\n",
    "        data_uniform = (data_uniform - self.low) / (self.high - self.low)\n",
    "        data_norm = sp_norm.ppf(data_uniform, loc=self.mu, scale=self.sigma)\n",
    "        data_norm /= self.scale\n",
    "        if np.isinf(data_norm).any():\n",
    "            logger.error('DistTransform Error: for inf values, handling them')\n",
    "            inf_mask = np.isinf(data_norm)\n",
    "            data_norm[inf_mask] = np.sign(data_norm[inf_mask]) * 1.0\n",
    "        return data_norm\n",
    "\n",
    "\n",
    "def convert_norm_to_uniform(zp_batch, dist_transform):\n",
    "    zp_batch_uniform = zp_batch.copy()\n",
    "    zp_batch_uniform[:, :, :32] = dist_transform.norm_to_uniform(zp_batch[:, :, :32])\n",
    "    zp_batch_uniform *= 10\n",
    "    return zp_batch_uniform\n",
    "\n",
    "\n",
    "def convert_uniform_to_norm(zp_batch_uniform, dist_transform):\n",
    "    zp_batch = zp_batch_uniform.copy()\n",
    "    zp_batch = zp_batch / 10\n",
    "    zp_batch[:, :, :32] = dist_transform.uniform_to_norm(zp_batch[:, :, :32])\n",
    "    return zp_batch"
   ]
  },
  {
   "cell_type": "code",
   "execution_count": 64,
   "metadata": {
    "collapsed": true
   },
   "outputs": [],
   "source": [
    "dist_tranform = DistTransform(np.zeros(32), np.ones(32), 0, 1)"
   ]
  },
  {
   "cell_type": "code",
   "execution_count": 65,
   "metadata": {
    "collapsed": true
   },
   "outputs": [],
   "source": [
    "zp_batch = np.random.normal(0, 1, size=[4,45,32])"
   ]
  },
  {
   "cell_type": "code",
   "execution_count": 66,
   "metadata": {
    "collapsed": false
   },
   "outputs": [
    {
     "ename": "AttributeError",
     "evalue": "'numpy.ndarray' object has no attribute 'flatt'",
     "output_type": "error",
     "traceback": [
      "\u001b[0;31m---------------------------------------------------------------------------\u001b[0m",
      "\u001b[0;31mAttributeError\u001b[0m                            Traceback (most recent call last)",
      "\u001b[0;32m<ipython-input-66-0c58c3ce2526>\u001b[0m in \u001b[0;36m<module>\u001b[0;34m()\u001b[0m\n\u001b[0;32m----> 1\u001b[0;31m \u001b[0mtest\u001b[0m \u001b[0;34m=\u001b[0m \u001b[0mzp_batch\u001b[0m\u001b[0;34m.\u001b[0m\u001b[0mflatt\u001b[0m\u001b[0;34m\u001b[0m\u001b[0m\n\u001b[0m",
      "\u001b[0;31mAttributeError\u001b[0m: 'numpy.ndarray' object has no attribute 'flatt'"
     ]
    }
   ],
   "source": [
    "test = zp_batch.flatt"
   ]
  },
  {
   "cell_type": "code",
   "execution_count": 32,
   "metadata": {
    "collapsed": false
   },
   "outputs": [
    {
     "data": {
      "text/plain": [
       "<matplotlib.collections.PathCollection at 0x7f1214d42ed0>"
      ]
     },
     "execution_count": 32,
     "metadata": {},
     "output_type": "execute_result"
    },
    {
     "data": {
      "image/png": "[encoded data removed]",
      "text/plain": [
       "<matplotlib.figure.Figure at 0x7f1214e4c350>"
      ]
     },
     "metadata": {},
     "output_type": "display_data"
    }
   ],
   "source": [
    "import matplotlib.pyplot as plt\n",
    "%matplotlib inline\n",
    "plt.scatter(test, np.zeros_like(test))"
   ]
  },
  {
   "cell_type": "code",
   "execution_count": 68,
   "metadata": {
    "collapsed": false
   },
   "outputs": [
    {
     "data": {
      "text/plain": [
       "(array([4., 2., 3., 5., 5., 2., 7., 1., 0., 3.]),\n",
       " array([-2.1058978 , -1.68550702, -1.26511624, -0.84472545, -0.42433467,\n",
       "        -0.00394388,  0.4164469 ,  0.83683768,  1.25722847,  1.67761925,\n",
       "         2.09801003]),\n",
       " <a list of 10 Patch objects>)"
      ]
     },
     "execution_count": 68,
     "metadata": {},
     "output_type": "execute_result"
    },
    {
     "data": {
      "image/png": "[encoded data removed]",
      "text/plain": [
       "<matplotlib.figure.Figure at 0x7f11d02376d0>"
      ]
     },
     "metadata": {},
     "output_type": "display_data"
    }
   ],
   "source": [
    "plt.hist(test)"
   ]
  },
  {
   "cell_type": "code",
   "execution_count": 67,
   "metadata": {
    "collapsed": true
   },
   "outputs": [],
   "source": [
    "zp_batch = convert_uniform_to_norm(zp_batch, dist_tranform)"
   ]
  },
  {
   "cell_type": "code",
   "execution_count": 62,
   "metadata": {
    "collapsed": true
   },
   "outputs": [],
   "source": [
    "test = zp_batch[0,8,:]"
   ]
  },
  {
   "cell_type": "code",
   "execution_count": 40,
   "metadata": {
    "collapsed": false
   },
   "outputs": [
    {
     "name": "stderr",
     "output_type": "stream",
     "text": [
      "/usr/local/lib/python2.7/dist-packages/h5py/__init__.py:36: FutureWarning: Conversion of the second argument of issubdtype from `float` to `np.floating` is deprecated. In future, it will be treated as `np.float64 == np.dtype(float).type`.\n",
      "  from ._conv import register_converters as _register_converters\n"
     ]
    }
   ],
   "source": [
    "import tensorflow as tf"
   ]
  },
  {
   "cell_type": "code",
   "execution_count": 41,
   "metadata": {
    "collapsed": true
   },
   "outputs": [],
   "source": [
    "a = tf.constant([3,2,4])"
   ]
  },
  {
   "cell_type": "code",
   "execution_count": 47,
   "metadata": {
    "collapsed": true
   },
   "outputs": [],
   "source": [
    "a = np.eye(4)"
   ]
  },
  {
   "cell_type": "code",
   "execution_count": 45,
   "metadata": {
    "collapsed": true
   },
   "outputs": [],
   "source": [
    "sess = tf.Session()\n",
    "a = sess.run(a)"
   ]
  },
  {
   "cell_type": "code",
   "execution_count": 48,
   "metadata": {
    "collapsed": false
   },
   "outputs": [
    {
     "data": {
      "text/plain": [
       "array([[1., 0., 0., 0.],\n",
       "       [0., 1., 0., 0.],\n",
       "       [0., 0., 1., 0.],\n",
       "       [0., 0., 0., 1.]])"
      ]
     },
     "execution_count": 48,
     "metadata": {},
     "output_type": "execute_result"
    }
   ],
   "source": [
    "tf.linalg.norm"
   ]
  },
  {
   "cell_type": "code",
   "execution_count": 1,
   "metadata": {
    "collapsed": true
   },
   "outputs": [],
   "source": [
    "import logging\n",
    "import tensorflow as tf\n",
    "import numpy as np\n",
    "from scipy.stats import norm as sp_norm\n",
    "\n",
    "logger = logging.getLogger(__name__)\n",
    "# import tf.distributions.Normal as tf_normal\n",
    "\n",
    "import matplotlib.pyplot as plt\n",
    "%matplotlib inline\n",
    "\n",
    "def prob_dist(A, axis=-1):\n",
    "#     A = np.array(A, dtype=np.float32)\n",
    "#     assert all(A >= 0)\n",
    "    return A / (tf.reduce_sum(A, axis=axis, keepdims=True) + 1e-9)\n",
    "\n",
    "\n",
    "def unit_norm(A, axis=0):\n",
    "#     A = np.array(A)\n",
    "    norm = tf.linalg.norm(A, axis=axis, keepdims=True)\n",
    "    return A / (norm + 1e-9)\n",
    "\n",
    "\n",
    "def one_hot(labels, n_classes):\n",
    "    return tf.eye(n_classes)[labels]\n",
    "\n",
    "\n",
    "class DistTransform(object):\n",
    "    def __init__(self, mu, sigma, low, high, scale=1.0):\n",
    "        self.mu = mu\n",
    "        self.sigma = sigma\n",
    "        self.low = low\n",
    "        self.high = high\n",
    "        self.scale = scale\n",
    "        self.norm_for_cdf = tf.contrib.distributions.Normal(self.mu, self.sigma)\n",
    "    def norm_to_uniform(self, data_norm):\n",
    "        data_norm = data_norm * self.scale\n",
    "#         data_norm = (data_norm - self.mu)/self.sigma\n",
    "        data_uniform = self.norm_for_cdf.cdf(data_norm)\n",
    "        data_uniform = self.low + (self.high - self.low) * data_uniform\n",
    "        data_uniform -= 1e-9 * tf.sign(data_uniform)\n",
    "        return data_uniform\n",
    "\n",
    "    def uniform_to_norm(self, data_uniform):\n",
    "        data_uniform = (data_uniform - self.low) / (self.high - self.low)\n",
    "        data_norm = self.norm_for_cdf.cdf(data_uniform)\n",
    "#         data_norm = data_norm*self.sigma + self.mu\n",
    "        data_norm /= self.scale\n",
    "#         if np.isinf(data_norm).any():\n",
    "#             logger.error('DistTransform Error: for inf values, handling them')\n",
    "#             inf_mask = np.isinf(data_norm)\n",
    "#             data_norm[inf_mask] = np.sign(data_norm[inf_mask]) * 1.0\n",
    "        return data_norm\n",
    "\n",
    "\n",
    "def convert_norm_to_uniform(zp_batch, dist_transform):\n",
    "#     zp_batch_uniform = zp_batch.copy()\n",
    "    zp_batch_uniform = dist_transform.norm_to_uniform(zp_batch)\n",
    "#     zp_batch_uniform *= 10\n",
    "    return zp_batch_uniform\n",
    "\n",
    "\n",
    "def convert_uniform_to_norm(zp_batch_uniform, dist_transform):\n",
    "#     zp_batch = zp_batch_uniform.copy()\n",
    "#     zp_batch_uniform = zp_batch_uniform / 10\n",
    "    zp_batch_uniform = dist_transform.uniform_to_norm(zp_batch_uniform)\n",
    "    return zp_batch_uniform"
   ]
  },
  {
   "cell_type": "code",
   "execution_count": 2,
   "metadata": {
    "collapsed": true
   },
   "outputs": [],
   "source": [
    "sess = tf.Session()\n",
    "mu = tf.zeros([1,1,32])\n",
    "sigma = tf.ones([1,1,32])*0.5\n",
    "dist_tranform = DistTransform(mu, sigma, -1, 1, 0.85)\n",
    "test = tf.Variable(initial_value=5)"
   ]
  },
  {
   "cell_type": "code",
   "execution_count": 3,
   "metadata": {
    "collapsed": true
   },
   "outputs": [],
   "source": [
    "zp_batch = tf.Variable(tf.random_normal([4,45,32], 0, 0.5))"
   ]
  },
  {
   "cell_type": "code",
   "execution_count": 4,
   "metadata": {
    "collapsed": true
   },
   "outputs": [],
   "source": [
    "# zp_batch = convert_norm_to_uniform(zp_batch, dist_tranform)\n",
    "zp_batch = convert_uniform_to_norm(zp_batch, dist_tranform)\n",
    "test = zp_batch-10\n",
    "\n",
    "optimizer = tf.train.RMSPropOptimizer(0.001)\n",
    "global_step = tf.train.get_or_create_global_step()\n",
    "train_op_lstm_cnn = optimizer.minimize(loss=test, global_step=global_step)"
   ]
  },
  {
   "cell_type": "code",
   "execution_count": null,
   "metadata": {
    "collapsed": true
   },
   "outputs": [],
   "source": []
  },
  {
   "cell_type": "code",
   "execution_count": 5,
   "metadata": {
    "collapsed": true
   },
   "outputs": [],
   "source": [
    "sess.run(tf.global_variables_initializer())\n",
    "op = sess.run([train_op_lstm_cnn, zp_batch])"
   ]
  },
  {
   "cell_type": "code",
   "execution_count": null,
   "metadata": {
    "collapsed": true
   },
   "outputs": [],
   "source": []
  },
  {
   "cell_type": "code",
   "execution_count": 91,
   "metadata": {
    "collapsed": true
   },
   "outputs": [],
   "source": [
    "zp_batch_grad = tf.gradients(test, [zp_batch])"
   ]
  },
  {
   "cell_type": "code",
   "execution_count": 93,
   "metadata": {
    "collapsed": true
   },
   "outputs": [],
   "source": [
    "zp_batch_grad = sess.run(zp_batch_grad)"
   ]
  },
  {
   "cell_type": "code",
   "execution_count": 94,
   "metadata": {
    "collapsed": false
   },
   "outputs": [
    {
     "data": {
      "text/plain": [
       "[array([[[1., 1., 1., ..., 1., 1., 1.],\n",
       "         [1., 1., 1., ..., 1., 1., 1.],\n",
       "         [1., 1., 1., ..., 1., 1., 1.],\n",
       "         ...,\n",
       "         [1., 1., 1., ..., 1., 1., 1.],\n",
       "         [1., 1., 1., ..., 1., 1., 1.],\n",
       "         [1., 1., 1., ..., 1., 1., 1.]],\n",
       " \n",
       "        [[1., 1., 1., ..., 1., 1., 1.],\n",
       "         [1., 1., 1., ..., 1., 1., 1.],\n",
       "         [1., 1., 1., ..., 1., 1., 1.],\n",
       "         ...,\n",
       "         [1., 1., 1., ..., 1., 1., 1.],\n",
       "         [1., 1., 1., ..., 1., 1., 1.],\n",
       "         [1., 1., 1., ..., 1., 1., 1.]],\n",
       " \n",
       "        [[1., 1., 1., ..., 1., 1., 1.],\n",
       "         [1., 1., 1., ..., 1., 1., 1.],\n",
       "         [1., 1., 1., ..., 1., 1., 1.],\n",
       "         ...,\n",
       "         [1., 1., 1., ..., 1., 1., 1.],\n",
       "         [1., 1., 1., ..., 1., 1., 1.],\n",
       "         [1., 1., 1., ..., 1., 1., 1.]],\n",
       " \n",
       "        [[1., 1., 1., ..., 1., 1., 1.],\n",
       "         [1., 1., 1., ..., 1., 1., 1.],\n",
       "         [1., 1., 1., ..., 1., 1., 1.],\n",
       "         ...,\n",
       "         [1., 1., 1., ..., 1., 1., 1.],\n",
       "         [1., 1., 1., ..., 1., 1., 1.],\n",
       "         [1., 1., 1., ..., 1., 1., 1.]]], dtype=float32)]"
      ]
     },
     "execution_count": 94,
     "metadata": {},
     "output_type": "execute_result"
    }
   ],
   "source": [
    "zp_batch_grad"
   ]
  },
  {
   "cell_type": "code",
   "execution_count": 57,
   "metadata": {
    "collapsed": false
   },
   "outputs": [
    {
     "data": {
      "text/plain": [
       "(array([13., 24., 17., 13., 18., 20., 20., 24., 17., 14.]),\n",
       " array([-0.96388239, -0.76829982, -0.57271726, -0.3771347 , -0.18155214,\n",
       "         0.01403043,  0.20961299,  0.40519555,  0.60077811,  0.79636068,\n",
       "         0.99194324]),\n",
       " <a list of 10 Patch objects>)"
      ]
     },
     "execution_count": 57,
     "metadata": {},
     "output_type": "execute_result"
    },
    {
     "data": {
      "image/png": "[encoded data removed]",
      "text/plain": [
       "<matplotlib.figure.Figure at 0x7fc61807ec50>"
      ]
     },
     "metadata": {},
     "output_type": "display_data"
    }
   ],
   "source": [
    "plt.hist(zp_batch[:,:,0].flatten())"
   ]
  },
  {
   "cell_type": "code",
   "execution_count": null,
   "metadata": {
    "collapsed": true
   },
   "outputs": [],
   "source": []
  },
  {
   "cell_type": "code",
   "execution_count": null,
   "metadata": {
    "collapsed": true
   },
   "outputs": [],
   "source": []
  }
 ],
 "metadata": {
  "kernelspec": {
   "display_name": "Python 2",
   "language": "python",
   "name": "python2"
  },
  "language_info": {
   "codemirror_mode": {
    "name": "ipython",
    "version": 2
   },
   "file_extension": ".py",
   "mimetype": "text/x-python",
   "name": "python",
   "nbconvert_exporter": "python",
   "pygments_lexer": "ipython2",
   "version": "2.7.6"
  }
 },
 "nbformat": 4,
 "nbformat_minor": 2
}
