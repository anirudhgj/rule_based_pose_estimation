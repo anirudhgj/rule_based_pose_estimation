{
 "cells": [
  {
   "cell_type": "code",
   "execution_count": 1,
   "metadata": {},
   "outputs": [
    {
     "name": "stdout",
     "output_type": "stream",
     "text": [
      "\u001b[31mcode started\u001b[0m\n",
      "WARNING:tensorflow:From /virtual_envs/ani_python2.7/local/lib/python2.7/site-packages/tensorflow/python/framework/op_def_library.py:263: colocate_with (from tensorflow.python.framework.ops) is deprecated and will be removed in a future version.\n",
      "Instructions for updating:\n",
      "Colocations handled automatically by placer.\n",
      "WARNING:tensorflow:From model_componets.py:33: calling norm (from tensorflow.python.ops.linalg_ops) with keep_dims is deprecated and will be removed in a future version.\n",
      "Instructions for updating:\n",
      "keep_dims is deprecated, use keepdims instead\n",
      "WARNING:tensorflow:From commons/tf_transform.py:21: calling reduce_sum_v1 (from tensorflow.python.ops.math_ops) with keep_dims is deprecated and will be removed in a future version.\n",
      "Instructions for updating:\n",
      "keep_dims is deprecated, use keepdims instead\n",
      "WARNING:tensorflow:From utils.py:36: __init__ (from tensorflow.python.ops.rnn_cell_impl) is deprecated and will be removed in a future version.\n",
      "Instructions for updating:\n",
      "This class is equivalent as tf.keras.layers.LSTMCell, and will be replaced by that in Tensorflow 2.0.\n",
      "WARNING:tensorflow:From model.py:15: __init__ (from tensorflow.python.ops.rnn_cell_impl) is deprecated and will be removed in a future version.\n",
      "Instructions for updating:\n",
      "This class is equivalent as tf.keras.layers.StackedRNNCells, and will be replaced by that in Tensorflow 2.0.\n",
      "WARNING:tensorflow:From model.py:22: bidirectional_dynamic_rnn (from tensorflow.python.ops.rnn) is deprecated and will be removed in a future version.\n",
      "Instructions for updating:\n",
      "Please use `keras.layers.Bidirectional(keras.layers.RNN(cell))`, which is equivalent to this API\n",
      "WARNING:tensorflow:From /virtual_envs/ani_python2.7/local/lib/python2.7/site-packages/tensorflow/python/ops/rnn.py:443: dynamic_rnn (from tensorflow.python.ops.rnn) is deprecated and will be removed in a future version.\n",
      "Instructions for updating:\n",
      "Please use `keras.layers.RNN(cell)`, which is equivalent to this API\n",
      "\u001b[34mloading weights\u001b[0m\n",
      "WARNING:tensorflow:From /virtual_envs/ani_python2.7/local/lib/python2.7/site-packages/tensorflow/python/training/saver.py:1266: checkpoint_exists (from tensorflow.python.training.checkpoint_management) is deprecated and will be removed in a future version.\n",
      "Instructions for updating:\n",
      "Use standard file APIs to check for files with this prefix.\n",
      "INFO:tensorflow:Restoring parameters from ../../../pose_embedding_train_full_view_norm_range_one/ent44_15j_32/weights/encoder_iter-799001\n",
      "\u001b[33mloaded pose_encoder weights\u001b[0m\n",
      "INFO:tensorflow:Restoring parameters from ../../../pose_embedding_train_full_view_norm_range_one/ent44_15j_32/weights/decoder_iter-799001\n",
      "\u001b[34mloaded pose_decoder weights\u001b[0m\n",
      "INFO:tensorflow:Restoring parameters from ../../../motion_embedding_train/ent_44_15j_32/BILSTM_TRAIN/backup/weights/lstm_encoder/rule_based_motion_net_expt_seq309100\n",
      "\u001b[32mloaded pose lstm_encoder weights\u001b[0m\n",
      "INFO:tensorflow:Restoring parameters from ../../../motion_embedding_train/ent_44_15j_32/BILSTM_TRAIN/backup/weights/lstm_decoder/rule_based_motion_net_expt_seq309100\n",
      "\u001b[31mlaoded pose lstm_decoder weights\u001b[0m\n"
     ]
    }
   ],
   "source": [
    "import os\n",
    "import matplotlib\n",
    "matplotlib.use(\"Agg\")\n",
    "import numpy as np\n",
    "from numpy import pi\n",
    "import tensorflow as tf\n",
    "import matplotlib.pyplot as plt\n",
    "import scipy.io as sio\n",
    "import cv2\n",
    "import logging,argparse\n",
    "from data_loader import Data_loader\n",
    "import model \n",
    "from hyperparams import Hyperparameters\n",
    "import utils\n",
    "from commons import tf_transform\n",
    "import graph\n",
    "from termcolor import colored \n",
    "import model_componets as comps\n",
    "from commons import transform_util\n",
    "\n",
    "\n",
    "\n",
    "\n",
    "print colored(\"code started\",\"red\")\n",
    "\n",
    "H = Hyperparameters ()\n",
    "\n",
    "D = Data_loader(H.data_path,H.seq_length,H.batch_size)\n",
    "\n",
    "\n",
    "os.environ['CUDA_VISIBLE_DEVICES'] = str(1)\n",
    "\n",
    "config = tf.ConfigProto()\n",
    "\n",
    "config.gpu_options.allow_growth = True\n",
    "\n",
    "sess = tf.InteractiveSession(config=config)\n",
    "\n",
    "\n",
    "input_ph = tf.placeholder(tf.float32, shape= [None , H.num_joints ,3],name = 'skeleton_input')\n",
    "\n",
    "global_step = tf.train.get_or_create_global_step()\n",
    "\n",
    "x_input = input_ph\n",
    "\n",
    "x_input_view_norm,x_input_local,tr_mats = comps.root_relative_to_local(x_input)\n",
    "\n",
    "encoder_out = graph.apply_pose_encoder(input_ph)\n",
    "\n",
    "pose_encoder_params = graph.get_network_params(\"Encoder_net\")\n",
    "\n",
    "encoder_input = tf.reshape(encoder_out,(-1,H.seq_length,32))\n",
    "\n",
    "encoder_lstm_out = model.apply_encoder(encoder_input,name ='motion_encoder')\n",
    "\n",
    "z_state = encoder_lstm_out['z_state']\n",
    "\n",
    "z_outputs = encoder_lstm_out['z_outputs']\n",
    "\n",
    "decoder_lstm_out = model.apply_decoder(z_state,z_outputs,name = 'motion_decoder')\n",
    "\n",
    "motion_recon = decoder_lstm_out['x_recon']\n",
    "\n",
    "motion_recon_reshaped = tf.reshape(motion_recon,((-1,32)))\n",
    "\n",
    "pose_recon = graph.apply_pose_decoder(motion_recon_reshaped)#view norm\n",
    "\n",
    "pose_decoder_params = graph.get_network_params(\"Decoder_net\")\n",
    "\n",
    "param_lstm_encoder = model.get_network_params('motion_encoder')\n",
    "\n",
    "param_lstm_decoder = model.get_network_params('motion_decoder')\n",
    "\n",
    "sess.run(tf.global_variables_initializer())\n",
    "\n",
    "print colored(\"loading weights\",\"blue\")\n",
    "\n",
    "tf.train.Saver(pose_encoder_params).restore(sess,'../../../pose_embedding_train_full_view_norm_range_one/ent44_15j_32/weights/encoder_iter-799001') \n",
    "print colored(\"loaded pose_encoder weights\",\"yellow\")\n",
    "\n",
    "tf.train.Saver(pose_decoder_params).restore(sess,'../../../pose_embedding_train_full_view_norm_range_one/ent44_15j_32/weights/decoder_iter-799001')\n",
    "print colored(\"loaded pose_decoder weights\",\"blue\")\n",
    "\n",
    "tf.train.Saver(param_lstm_encoder).restore(sess,tf.train.latest_checkpoint('../../../motion_embedding_train/ent_44_15j_32/BILSTM_TRAIN/backup/weights/lstm_encoder/'))\n",
    "print colored(\"loaded pose lstm_encoder weights\",\"green\")\n",
    "\n",
    "tf.train.Saver(param_lstm_decoder).restore(sess,tf.train.latest_checkpoint('../../../motion_embedding_train/ent_44_15j_32/BILSTM_TRAIN/backup/weights/lstm_decoder/'))\n",
    "print colored(\"laoded pose lstm_decoder weights\",\"red\")\n"
   ]
  },
  {
   "cell_type": "code",
   "execution_count": 2,
   "metadata": {},
   "outputs": [],
   "source": [
    "import numpy as np\n",
    "import tensorflow as tf\n",
    "from other_utils import np_utils, sk_utils\n",
    "import imageio\n"
   ]
  },
  {
   "cell_type": "code",
   "execution_count": 3,
   "metadata": {},
   "outputs": [
    {
     "name": "stdout",
     "output_type": "stream",
     "text": [
      "[[[ 0.          0.          0.        ]\n",
      "  [ 1.17997957  0.2101639   4.59630062]\n",
      "  [-0.14004838 -0.14614896  4.68271456]\n",
      "  ...\n",
      "  [ 0.96517943  0.15212155 -0.38443167]\n",
      "  [ 1.95527678 -3.85126906 -1.1797749 ]\n",
      "  [ 1.04371263 -1.16382    -3.39487497]]\n",
      "\n",
      " [[ 0.          0.          0.        ]\n",
      "  [ 1.18744638  0.19363765  4.59510343]\n",
      "  [-0.12750077 -0.18070874  4.68273191]\n",
      "  ...\n",
      "  [ 0.96441464  0.16569067 -0.38072433]\n",
      "  [ 2.0212105  -3.81136693 -1.22107866]\n",
      "  [ 1.05656135 -1.12566991 -3.4157275 ]]\n",
      "\n",
      " [[ 0.          0.          0.        ]\n",
      "  [ 1.19986195  0.16760962  4.59290086]\n",
      "  [-0.10379145 -0.24330588  4.68529282]\n",
      "  ...\n",
      "  [ 0.96188046  0.19353334 -0.37393961]\n",
      "  [ 2.13557434 -3.72374369 -1.33174091]\n",
      "  [ 1.04831534 -1.04165    -3.47282505]]\n",
      "\n",
      " ...\n",
      "\n",
      " [[ 0.          0.          0.        ]\n",
      "  [-0.31399475 -0.27106109  4.73185304]\n",
      "  [-1.16068201  0.79498295  4.88538093]\n",
      "  ...\n",
      "  [ 0.55946898 -0.88323582 -0.09689659]\n",
      "  [-2.26666079 -3.1372223  -2.23524536]\n",
      "  [-2.36196211 -2.65356144 -5.80133423]]\n",
      "\n",
      " [[ 0.          0.          0.        ]\n",
      "  [-0.29121839 -0.2685335   4.73345345]\n",
      "  [-1.12646023  0.80459035  4.89981534]\n",
      "  ...\n",
      "  [ 0.5594688  -0.88327453 -0.09654416]\n",
      "  [-2.26385117 -3.13448433 -2.2415194 ]\n",
      "  [-2.35985211 -2.65112002 -5.80762971]]\n",
      "\n",
      " [[ 0.          0.          0.        ]\n",
      "  [-0.28057747 -0.26618408  4.7342288 ]\n",
      "  [-1.11042885  0.81033924  4.90553039]\n",
      "  ...\n",
      "  [ 0.55967327 -0.88315093 -0.0964897 ]\n",
      "  [-2.26234391 -3.13360522 -2.24397067]\n",
      "  [-2.35937048 -2.64985825 -5.81000133]]]\n"
     ]
    }
   ],
   "source": [
    "train_batch = np.asarray(D.get_sequence_batch_train())\n",
    "\n",
    "train_batch = train_batch[:,0:30]\n",
    "\n",
    "train_batch = np.reshape(utils.augment_pose_seq(train_batch),(-1,H.num_joints * 3))\n",
    "\n",
    "train_batch = train_batch.reshape((-1,H.num_joints , 3))\n",
    "\n",
    "angles,train_batch_view_norm,train_batch_local = transform_util.root_relative_to_local_skeleton_batch(train_batch)\n",
    "\n",
    "feed_dict = {x_input : train_batch}\n",
    "\n",
    "op_train_dict = sess.run({'embedding':z_state, 'final_pose': pose_recon}, feed_dict=feed_dict)\n",
    "\n",
    "predictions = op_train_dict['embedding']\n",
    "\n",
    "print train_batch"
   ]
  },
  {
   "cell_type": "code",
   "execution_count": 4,
   "metadata": {},
   "outputs": [
    {
     "name": "stdout",
     "output_type": "stream",
     "text": [
      "(128,)\n",
      "(128,)\n",
      "('minimum vaue of mean ', -4.462292)\n",
      "('minimum value of std ', 0.3697875)\n",
      "('maximum value of mean', 3.4766681)\n",
      "('maximum value of std', 2.1667154)\n"
     ]
    }
   ],
   "source": [
    "mean = np.mean(predictions, axis=0)\n",
    "std = np.std(predictions,axis=0)\n",
    "\n",
    "print mean.shape\n",
    "print std.shape\n",
    "\n",
    "# x_pred = dms.decode(predictions)\n",
    "# x_pred.shape\n",
    "\n",
    "# imgs = sk_utils.get_skeleton_images(x_pred[0], title_prefix='p')\n",
    "# len(imgs)\n",
    "print('minimum vaue of mean ', min(mean))\n",
    "print('minimum value of std ', min(std))\n",
    "print('maximum value of mean', max(mean))\n",
    "print('maximum value of std', max(std))"
   ]
  },
  {
   "cell_type": "code",
   "execution_count": 5,
   "metadata": {},
   "outputs": [],
   "source": [
    "sample_1 = mean+(4*std)\n",
    "sample_2 = mean-(4*std)\n",
    "sample_1 = np.reshape(sample_1 , (1,128))\n",
    "sample_2 = np.reshape(sample_2 , (1,128))\n",
    "map_d = 120\n"
   ]
  },
  {
   "cell_type": "code",
   "execution_count": 6,
   "metadata": {},
   "outputs": [],
   "source": [
    "a = np.linspace(0,1, map_d)\n",
    "a = np.reshape(a, (map_d,1))\n",
    "\n",
    "\n",
    "vertical = a*sample_1[:,:64] + (1-a)*sample_2[:,:64]\n",
    "\n",
    "assert (vertical[0] == sample_2[0,:64]).all()\n",
    "\n",
    "\n",
    "horizontal = a*sample_1[:,64:] + (1-a)*sample_2[:,64:]\n",
    "\n",
    "assert (horizontal[0] == sample_2[0,64:]).all()"
   ]
  },
  {
   "cell_type": "code",
   "execution_count": 7,
   "metadata": {},
   "outputs": [
    {
     "name": "stdout",
     "output_type": "stream",
     "text": [
      "(120, 120, 128)\n",
      "(14400, 128)\n"
     ]
    }
   ],
   "source": [
    "grid = np.empty((map_d,map_d,128))\n",
    "\n",
    "for i in range(map_d):\n",
    "    for j in range(map_d):\n",
    "        grid[i,j] = np.concatenate((vertical[i], horizontal[j]))\n",
    "        \n",
    "grid_flat = np.reshape(grid, (-1,128))\n",
    "print grid.shape\n",
    "print grid_flat.shape"
   ]
  },
  {
   "cell_type": "code",
   "execution_count": 8,
   "metadata": {},
   "outputs": [
    {
     "name": "stderr",
     "output_type": "stream",
     "text": [
      "/virtual_envs/ani_python2.7/local/lib/python2.7/site-packages/tensorflow/python/client/session.py:1702: UserWarning: An interactive session is already active. This can cause out-of-memory errors in some cases. You must explicitly call `InteractiveSession.close()` to release resources held by the other session(s).\n",
      "  warnings.warn('An interactive session is already active. This can '\n"
     ]
    },
    {
     "name": "stdout",
     "output_type": "stream",
     "text": [
      "\u001b[34mloading weights\u001b[0m\n",
      "INFO:tensorflow:Restoring parameters from ../../../pose_embedding_train_full_view_norm_range_one/ent44_15j_32/weights/decoder_iter-799001\n",
      "\u001b[34mloaded pose_decoder weights\u001b[0m\n",
      "INFO:tensorflow:Restoring parameters from ../../../motion_embedding_train/ent_44_15j_32/BILSTM_TRAIN/backup/weights/lstm_decoder/rule_based_motion_net_expt_seq309100\n",
      "\u001b[31mloaded pose lstm_decoder weights\u001b[0m\n",
      "[[[ 0.00000000e+00  0.00000000e+00  0.00000000e+00]\n",
      "  [ 1.34275496e-01  3.27368500e-04  4.74810171e+00]\n",
      "  [ 1.49630356e+00  6.92086876e-04  4.60052538e+00]\n",
      "  ...\n",
      "  [-1.04841495e+00  4.36165817e-02 -3.77273634e-02]\n",
      "  [-1.12611449e+00  3.85129404e+00 -1.80847406e+00]\n",
      "  [-2.09310126e+00  1.20040703e+00 -4.04403257e+00]]\n",
      "\n",
      " [[ 0.00000000e+00  0.00000000e+00  0.00000000e+00]\n",
      "  [ 9.76454318e-02  1.53386302e-03  4.74899626e+00]\n",
      "  [ 1.43384576e+00 -1.07818656e-01  4.46702099e+00]\n",
      "  ...\n",
      "  [-1.04783034e+00  3.47047523e-02 -5.78509346e-02]\n",
      "  [-1.06060195e+00  3.03962255e+00 -2.99218130e+00]\n",
      "  [-1.87480903e+00 -3.36869717e-01 -3.93893695e+00]]\n",
      "\n",
      " [[ 0.00000000e+00  0.00000000e+00  0.00000000e+00]\n",
      "  [ 9.09636095e-02  2.29497883e-03  4.74912834e+00]\n",
      "  [ 1.43081832e+00 -1.34958178e-01  4.49842882e+00]\n",
      "  ...\n",
      "  [-1.04693270e+00  3.36427726e-02 -7.27990568e-02]\n",
      "  [-7.77452290e-01  3.10018015e+00 -2.93002081e+00]\n",
      "  [-1.88916016e+00 -1.12215042e-01 -4.11518049e+00]]\n",
      "\n",
      " ...\n",
      "\n",
      " [[ 0.00000000e+00  0.00000000e+00  0.00000000e+00]\n",
      "  [-1.01573661e-01 -4.79597263e-02  4.74867153e+00]\n",
      "  [ 1.23209631e+00  2.14748219e-01  4.57776833e+00]\n",
      "  ...\n",
      "  [-1.03837562e+00  4.55387169e-03 -1.55740604e-01]\n",
      "  [-2.03440213e+00 -8.45001340e-02 -1.55092970e-01]\n",
      "  [-2.03440213e+00 -8.45001340e-02 -1.55092970e-01]]\n",
      "\n",
      " [[ 0.00000000e+00  0.00000000e+00  0.00000000e+00]\n",
      "  [-9.99020189e-02 -4.76855189e-02  4.74870968e+00]\n",
      "  [ 1.21945119e+00  2.79742360e-01  4.57842350e+00]\n",
      "  ...\n",
      "  [-1.02885365e+00  8.19348451e-03 -2.09505588e-01]\n",
      "  [-1.02926564e+00  5.52888587e-03 -1.20950198e+00]\n",
      "  [-1.02926564e+00  5.52888587e-03 -1.20950198e+00]]\n",
      "\n",
      " [[ 0.00000000e+00  0.00000000e+00  0.00000000e+00]\n",
      "  [-1.08933121e-01 -4.39123735e-02  4.74854708e+00]\n",
      "  [ 1.21180701e+00  2.74468422e-01  4.57197285e+00]\n",
      "  ...\n",
      "  [-1.02232313e+00  4.93306061e-03 -2.39438131e-01]\n",
      "  [-1.11137855e+00  1.00095630e+00 -2.42055461e-01]\n",
      "  [-1.11137855e+00  1.00095630e+00 -2.42055461e-01]]]\n"
     ]
    }
   ],
   "source": [
    "sess1 = tf.InteractiveSession(config=config)\n",
    "\n",
    "embed_ph = tf.placeholder(tf.float32 , shape = [None ,128],name = \"embed\")\n",
    "\n",
    "final_state_fced_stacked = tf.stack([embed_ph]*30, 1)\n",
    "\n",
    "decoder_lstm_out = model.apply_decoder(embed_ph,final_state_fced_stacked,name = 'motion_decoder')\n",
    "\n",
    "motion_recon = decoder_lstm_out['x_recon']\n",
    "\n",
    "motion_recon_reshaped = tf.reshape(motion_recon,((-1,32)))\n",
    "\n",
    "pose_recon1 = graph.apply_pose_decoder(motion_recon_reshaped)#view norm\n",
    "\n",
    "param_lstm_decoder1 = model.get_network_params('motion_decoder')\n",
    "\n",
    "pose_decoder_params1 = graph.get_network_params(\"Decoder_net\")\n",
    "\n",
    "# sess1.run(tf.global_variables_initializer())\n",
    "\n",
    "print colored(\"loading weights\",\"blue\")\n",
    "\n",
    "tf.train.Saver(pose_decoder_params).restore(sess1,'../../../pose_embedding_train_full_view_norm_range_one/ent44_15j_32/weights/decoder_iter-799001')\n",
    "print colored(\"loaded pose_decoder weights\",\"blue\")\n",
    "\n",
    "tf.train.Saver(param_lstm_decoder1).restore(sess1,tf.train.latest_checkpoint('../../../motion_embedding_train/ent_44_15j_32/BILSTM_TRAIN/backup/weights/lstm_decoder/'))\n",
    "print colored(\"loaded pose lstm_decoder weights\",\"red\")\n",
    "\n",
    "poses_for_grid = sess1.run(pose_recon1,feed_dict = {embed_ph : grid_flat})\n",
    "\n",
    "print poses_for_grid"
   ]
  },
  {
   "cell_type": "code",
   "execution_count": 9,
   "metadata": {
    "scrolled": true
   },
   "outputs": [],
   "source": [
    "predictions =  poses_for_grid.reshape(-1,30,15,3)"
   ]
  },
  {
   "cell_type": "code",
   "execution_count": 10,
   "metadata": {},
   "outputs": [
    {
     "name": "stdout",
     "output_type": "stream",
     "text": [
      "(14400, 30)\n",
      "(14400, 29)\n",
      "(120, 120)\n"
     ]
    }
   ],
   "source": [
    "predictions = np.mean(predictions, axis=-1)\n",
    "predictions = np.mean(predictions, axis=-1)\n",
    "\n",
    "print predictions.shape\n",
    "\n",
    "velocity = predictions[:,1:] - predictions[:,:-1]\n",
    "speed = np.absolute(velocity)\n",
    "\n",
    "print(speed.shape)\n",
    "\n",
    "speed  = np.mean(speed, axis=-1)\n",
    "\n",
    "speed = np.reshape(speed, (map_d,map_d))\n",
    "\n",
    "print(speed.shape)\n"
   ]
  },
  {
   "cell_type": "code",
   "execution_count": 11,
   "metadata": {},
   "outputs": [
    {
     "data": {
      "image/png": "[encoded data removed]",
      "text/plain": [
       "<Figure size 432x288 with 1 Axes>"
      ]
     },
     "metadata": {
      "needs_background": "light"
     },
     "output_type": "display_data"
    }
   ],
   "source": [
    "import matplotlib.pyplot as plt\n",
    "%matplotlib inline  \n",
    "\n",
    "plt.imshow(speed, cmap='hot', interpolation='nearest')\n",
    "# plt.savefig(\"test.svg\", format=\"svg\")\n",
    "plt.show()"
   ]
  },
  {
   "cell_type": "code",
   "execution_count": 12,
   "metadata": {},
   "outputs": [
    {
     "name": "stdout",
     "output_type": "stream",
     "text": [
      "[[4.2364359e-02 4.1893311e-02 4.1353576e-02 ... 4.9853686e-02\n",
      "  4.9637560e-02 4.9273971e-02]\n",
      " [4.2474668e-02 4.2051028e-02 4.1575916e-02 ... 5.0474375e-02\n",
      "  5.0217524e-02 4.9823560e-02]\n",
      " [4.2586271e-02 4.2224843e-02 4.1786529e-02 ... 5.0979842e-02\n",
      "  5.0845452e-02 5.0569855e-02]\n",
      " ...\n",
      " [2.8863802e+30 2.8869025e+30 2.8874247e+30 ... 2.9474842e+30\n",
      "  2.9480064e+30 2.9485287e+30]\n",
      " [2.9490509e+30 2.9495732e+30 2.9500954e+30 ... 3.0101549e+30\n",
      "  3.0106771e+30 3.0111994e+30]\n",
      " [3.0117216e+30 3.0122439e+30 3.0127662e+30 ... 3.0728256e+30\n",
      "  3.0733478e+30 3.0738701e+30]]\n"
     ]
    }
   ],
   "source": [
    "print speed\n"
   ]
  },
  {
   "cell_type": "code",
   "execution_count": null,
   "metadata": {},
   "outputs": [],
   "source": []
  }
 ],
 "metadata": {
  "kernelspec": {
   "display_name": "Python 2",
   "language": "python",
   "name": "python2"
  },
  "language_info": {
   "codemirror_mode": {
    "name": "ipython",
    "version": 2
   },
   "file_extension": ".py",
   "mimetype": "text/x-python",
   "name": "python",
   "nbconvert_exporter": "python",
   "pygments_lexer": "ipython2",
   "version": "2.7.15rc1"
  }
 },
 "nbformat": 4,
 "nbformat_minor": 2
}
