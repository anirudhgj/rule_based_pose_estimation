{
 "cells": [
  {
   "cell_type": "code",
   "execution_count": 1,
   "metadata": {},
   "outputs": [],
   "source": [
    "%load_ext autoreload\n",
    "%autoreload 2"
   ]
  },
  {
   "cell_type": "code",
   "execution_count": 3,
   "metadata": {},
   "outputs": [],
   "source": [
    "import numpy as np\n",
    "import tensorflow as tf\n",
    "import os\n",
    "config = tf.ConfigProto()\n",
    "config.gpu_options.allow_growth = True\n",
    "\n",
    "session = tf.InteractiveSession(config=config)\n",
    "session.run(tf.global_variables_initializer())\n",
    "from hyperparams import Hyperparams as H\n",
    "import numpy as np\n",
    "import tensorflow as tf\n",
    "from utils import np_utils, sk_utils\n",
    "import imageio\n",
    "import paths\n",
    "from model import Model\n",
    "from pose import model as PM\n"
   ]
  },
  {
   "cell_type": "code",
   "execution_count": null,
   "metadata": {},
   "outputs": [],
   "source": [
    "from model_service import DanceModelService\n",
    "dms = DanceModelService.get_instance()\n",
    "dms.load_weights(iter_no=35200, iter_or_best='iter', dir_name='load')"
   ]
  },
  {
   "cell_type": "code",
   "execution_count": null,
   "metadata": {},
   "outputs": [],
   "source": [
    "from data_loader import DataLoader\n",
    "data_loader = DataLoader(300)\n",
    "num_batches_train = data_loader.get_num_batches('train', H.train_batch_size)\n",
    "x_batch, tuples = data_loader.get_train_sequence_batch(1, 0)\n",
    "x_batch = x_batch[:, :, :17]\n",
    "labels = x_batch[:, 1:, :]"
   ]
  },
  {
   "cell_type": "code",
   "execution_count": null,
   "metadata": {},
   "outputs": [],
   "source": [
    "x_batch.shape\n",
    "x_batch_60 = [x_batch[0, i:i + 60] for i in\n",
    "                      range(0, 300-60 + 1, 60)]\n",
    "x_batch_60 = np.stack(x_batch_60, axis=0)\n",
    "\n",
    "x_batch_60.shape\n",
    "\n",
    "\n",
    "\n",
    "# pred_ops = dms.predict(x_batch)\n",
    "# predictions = pred_ops\n",
    "# predictions.shape"
   ]
  },
  {
   "cell_type": "code",
   "execution_count": null,
   "metadata": {},
   "outputs": [],
   "source": [
    "mkdir -p ../results/predictions/"
   ]
  },
  {
   "cell_type": "code",
   "execution_count": null,
   "metadata": {},
   "outputs": [],
   "source": [
    "pred_ops = dms.predict(x_batch_60)\n",
    "predictions = pred_ops\n",
    "predictions.shape"
   ]
  },
  {
   "cell_type": "code",
   "execution_count": null,
   "metadata": {},
   "outputs": [],
   "source": [
    "lst = [predictions[i] for i in range(5)]\n",
    "\n",
    "x_predictions = np.concatenate(lst, axis=0)\n",
    "x_predictions = np.expand_dims(x_predictions, axis=0)\n",
    "\n",
    "x_predictions.shape"
   ]
  },
  {
   "cell_type": "code",
   "execution_count": null,
   "metadata": {},
   "outputs": [],
   "source": [
    "len(lst)"
   ]
  },
  {
   "cell_type": "code",
   "execution_count": null,
   "metadata": {},
   "outputs": [],
   "source": [
    "x_pred = dms.decode(predictions_test)\n",
    "x_pred.shape"
   ]
  },
  {
   "cell_type": "code",
   "execution_count": null,
   "metadata": {},
   "outputs": [],
   "source": [
    "imgs_true = sk_utils.get_skeleton_images(x_batch[0], title_prefix='p')\n",
    "\n",
    "imgs_pred = sk_utils.get_skeleton_images(x_predictions[0], title_prefix='p')\n",
    "\n",
    "imgs_concat = [np.concatenate((imgs_true[i], imgs_pred[i]), axis=1) for i in range(len(imgs_pred))]\n"
   ]
  },
  {
   "cell_type": "code",
   "execution_count": null,
   "metadata": {},
   "outputs": [],
   "source": [
    "imgs_concat[0].shape"
   ]
  },
  {
   "cell_type": "code",
   "execution_count": null,
   "metadata": {
    "scrolled": true
   },
   "outputs": [],
   "source": [
    "# imgs = sk_utils.get_skeleton_images(x_reshape[22], title_prefix='p')\n",
    "writer = imageio.get_writer('../results/predictions/op_sequential_comparison_concatenate.mp4', fps=30)\n",
    "for i, im in enumerate(imgs_concat):\n",
    "    writer.append_data(im)\n",
    "    if i % 10 == 0:\n",
    "        print 'done with %d frames' % i\n",
    "writer.close()"
   ]
  },
  {
   "cell_type": "code",
   "execution_count": null,
   "metadata": {},
   "outputs": [],
   "source": [
    "writer = imageio.get_writer('../results/predictions/op_sequential_comparison_indian_true.mp4', fps=30)\n",
    "for i, im in enumerate(imgs_true):\n",
    "    writer.append_data(im)\n",
    "    if i % 10 == 0:\n",
    "        print 'done with %d frames' % i\n",
    "writer.close()"
   ]
  },
  {
   "cell_type": "code",
   "execution_count": null,
   "metadata": {},
   "outputs": [],
   "source": [
    "for kk in range(5):\n",
    "    imgs = sk_utils.get_skeleton_images(predictions[kk], title_prefix='p')\n",
    "    writer = imageio.get_writer('../results/predictions/op15_60_individual{}.gif'.format(kk), fps=10)\n",
    "    for i, im in enumerate(imgs):\n",
    "        writer.append_data(im)\n",
    "    print 'done with %d video' % kk\n",
    "    writer.close()"
   ]
  },
  {
   "cell_type": "code",
   "execution_count": null,
   "metadata": {},
   "outputs": [],
   "source": [
    "import matplotlib.pyplot as plt"
   ]
  },
  {
   "cell_type": "code",
   "execution_count": null,
   "metadata": {},
   "outputs": [],
   "source": [
    "x_gen = dms.decode(p_new)\n",
    "x_gen.shape"
   ]
  },
  {
   "cell_type": "code",
   "execution_count": null,
   "metadata": {},
   "outputs": [],
   "source": [
    "mkdir -p  '../rehttp://localhost:8080/notebooks/PoseSeqGAN_AE/visualizations.ipynb#sults/pred/'"
   ]
  },
  {
   "cell_type": "code",
   "execution_count": null,
   "metadata": {
    "scrolled": true
   },
   "outputs": [],
   "source": [
    "for kk in range(16):\n",
    "    imgs = sk_utils.get_skeleton_images(x_gen[kk], title_prefix='p')\n",
    "    writer = imageio.get_writer('../results/gen/inter/martial_salsa2/gen_{}.mp4'.format(kk), fps=30)\n",
    "    for i, im in enumerate(imgs):\n",
    "        writer.append_data(im)\n",
    "    print 'done with %d video' % kk\n",
    "    writer.close()"
   ]
  },
  {
   "cell_type": "markdown",
   "metadata": {},
   "source": [
    "# Gaussian Fitting\n",
    "\n"
   ]
  },
  {
   "cell_type": "code",
   "execution_count": 2,
   "metadata": {
    "collapsed": true
   },
   "outputs": [
    {
     "ename": "RuntimeError",
     "evalue": "module compiled against API version 0xc but this version of numpy is 0xa",
     "output_type": "error",
     "traceback": [
      "\u001b[0;31m---------------------------------------------------------------------------\u001b[0m",
      "\u001b[0;31mRuntimeError\u001b[0m                              Traceback (most recent call last)",
      "\u001b[0;31mRuntimeError\u001b[0m: module compiled against API version 0xc but this version of numpy is 0xa"
     ]
    },
    {
     "ename": "RuntimeError",
     "evalue": "module compiled against API version 0xc but this version of numpy is 0xa",
     "output_type": "error",
     "traceback": [
      "\u001b[0;31m---------------------------------------------------------------------------\u001b[0m",
      "\u001b[0;31mRuntimeError\u001b[0m                              Traceback (most recent call last)",
      "\u001b[0;31mRuntimeError\u001b[0m: module compiled against API version 0xc but this version of numpy is 0xa"
     ]
    },
    {
     "name": "stderr",
     "output_type": "stream",
     "text": [
      "/home/babu/.local/lib/python2.7/site-packages/pandas/core/computation/check.py:17: UserWarning: The installed version of numexpr 2.4.3 is not supported in pandas and will be not be used\n",
      "The minimum supported version is 2.4.6\n",
      "\n",
      "  ver=ver, min_ver=_MIN_NUMEXPR_VERSION), UserWarning)\n"
     ]
    },
    {
     "name": "stdout",
     "output_type": "stream",
     "text": [
      "WARNING:tensorflow:From pose/model_componets.py:36: calling norm (from tensorflow.python.ops.linalg_ops) with keep_dims is deprecated and will be removed in a future version.\n",
      "Instructions for updating:\n",
      "keep_dims is deprecated, use keepdims instead\n"
     ]
    },
    {
     "name": "stderr",
     "output_type": "stream",
     "text": [
      "[src: tf_logging.py: 125] WARNING: warning(): From pose/model_componets.py:36: calling norm (from tensorflow.python.ops.linalg_ops) with keep_dims is deprecated and will be removed in a future version.\n",
      "Instructions for updating:\n",
      "keep_dims is deprecated, use keepdims instead\n"
     ]
    },
    {
     "name": "stdout",
     "output_type": "stream",
     "text": [
      "WARNING:tensorflow:From pose/commons/tf_transform.py:20: calling reduce_sum (from tensorflow.python.ops.math_ops) with keep_dims is deprecated and will be removed in a future version.\n",
      "Instructions for updating:\n",
      "keep_dims is deprecated, use keepdims instead\n"
     ]
    },
    {
     "name": "stderr",
     "output_type": "stream",
     "text": [
      "[src: tf_logging.py: 125] WARNING: warning(): From pose/commons/tf_transform.py:20: calling reduce_sum (from tensorflow.python.ops.math_ops) with keep_dims is deprecated and will be removed in a future version.\n",
      "Instructions for updating:\n",
      "keep_dims is deprecated, use keepdims instead\n"
     ]
    }
   ],
   "source": [
    "%load_ext autoreload\n",
    "%autoreload 2\n",
    "\n",
    "import numpy as np\n",
    "import tensorflow as tf\n",
    "import os\n",
    "config = tf.ConfigProto()\n",
    "config.gpu_options.allow_growth = True\n",
    "\n",
    "session = tf.InteractiveSession(config=config)\n",
    "session.run(tf.global_variables_initializer())\n",
    "from hyperparams import Hyperparams as H\n",
    "import numpy as np\n",
    "import tensorflow as tf\n",
    "from utils import np_utils, sk_utils\n",
    "import imageio\n",
    "import paths\n",
    "from model import Model\n",
    "from pose import model as PM"
   ]
  },
  {
   "cell_type": "code",
   "execution_count": 3,
   "metadata": {
    "collapsed": true
   },
   "outputs": [
    {
     "name": "stderr",
     "output_type": "stream",
     "text": [
      "visualizer_training.py:2: UserWarning: \n",
      "This call to matplotlib.use() has no effect because the backend has already\n",
      "been chosen; matplotlib.use() must be called *before* pylab, matplotlib.pyplot,\n",
      "or matplotlib.backends is imported for the first time.\n",
      "\n",
      "The backend was *originally* set to 'module://ipykernel.pylab.backend_inline' by the following code:\n",
      "  File \"/usr/lib/python2.7/runpy.py\", line 174, in _run_module_as_main\n",
      "    \"__main__\", fname, loader, pkg_name)\n",
      "  File \"/usr/lib/python2.7/runpy.py\", line 72, in _run_code\n",
      "    exec code in run_globals\n",
      "  File \"/home/babu/.local/lib/python2.7/site-packages/ipykernel_launcher.py\", line 16, in <module>\n",
      "    app.launch_new_instance()\n",
      "  File \"/home/babu/.local/lib/python2.7/site-packages/traitlets/config/application.py\", line 658, in launch_instance\n",
      "    app.start()\n",
      "  File \"/home/babu/.local/lib/python2.7/site-packages/ipykernel/kernelapp.py\", line 499, in start\n",
      "    self.io_loop.start()\n",
      "  File \"/home/babu/.local/lib/python2.7/site-packages/tornado/ioloop.py\", line 1073, in start\n",
      "    handler_func(fd_obj, events)\n",
      "  File \"/home/babu/.local/lib/python2.7/site-packages/tornado/stack_context.py\", line 300, in null_wrapper\n",
      "    return fn(*args, **kwargs)\n",
      "  File \"/home/babu/.local/lib/python2.7/site-packages/zmq/eventloop/zmqstream.py\", line 450, in _handle_events\n",
      "    self._handle_recv()\n",
      "  File \"/home/babu/.local/lib/python2.7/site-packages/zmq/eventloop/zmqstream.py\", line 480, in _handle_recv\n",
      "    self._run_callback(callback, msg)\n",
      "  File \"/home/babu/.local/lib/python2.7/site-packages/zmq/eventloop/zmqstream.py\", line 432, in _run_callback\n",
      "    callback(*args, **kwargs)\n",
      "  File \"/home/babu/.local/lib/python2.7/site-packages/tornado/stack_context.py\", line 300, in null_wrapper\n",
      "    return fn(*args, **kwargs)\n",
      "  File \"/home/babu/.local/lib/python2.7/site-packages/ipykernel/kernelbase.py\", line 283, in dispatcher\n",
      "    return self.dispatch_shell(stream, msg)\n",
      "  File \"/home/babu/.local/lib/python2.7/site-packages/ipykernel/kernelbase.py\", line 233, in dispatch_shell\n",
      "    handler(stream, idents, msg)\n",
      "  File \"/home/babu/.local/lib/python2.7/site-packages/ipykernel/kernelbase.py\", line 399, in execute_request\n",
      "    user_expressions, allow_stdin)\n",
      "  File \"/home/babu/.local/lib/python2.7/site-packages/ipykernel/ipkernel.py\", line 208, in do_execute\n",
      "    res = shell.run_cell(code, store_history=store_history, silent=silent)\n",
      "  File \"/home/babu/.local/lib/python2.7/site-packages/ipykernel/zmqshell.py\", line 537, in run_cell\n",
      "    return super(ZMQInteractiveShell, self).run_cell(*args, **kwargs)\n",
      "  File \"/home/babu/.local/lib/python2.7/site-packages/IPython/core/interactiveshell.py\", line 2724, in run_cell\n",
      "    self.events.trigger('post_run_cell')\n",
      "  File \"/home/babu/.local/lib/python2.7/site-packages/IPython/core/events.py\", line 74, in trigger\n",
      "    func(*args, **kwargs)\n",
      "  File \"/home/babu/.local/lib/python2.7/site-packages/ipykernel/pylab/backend_inline.py\", line 164, in configure_once\n",
      "    activate_matplotlib(backend)\n",
      "  File \"/home/babu/.local/lib/python2.7/site-packages/IPython/core/pylabtools.py\", line 315, in activate_matplotlib\n",
      "    matplotlib.pyplot.switch_backend(backend)\n",
      "  File \"/usr/local/lib/python2.7/dist-packages/matplotlib/pyplot.py\", line 232, in switch_backend\n",
      "    matplotlib.use(newbackend, warn=False, force=True)\n",
      "  File \"/usr/local/lib/python2.7/dist-packages/matplotlib/__init__.py\", line 1305, in use\n",
      "    reload(sys.modules['matplotlib.backends'])\n",
      "  File \"/usr/local/lib/python2.7/dist-packages/matplotlib/backends/__init__.py\", line 14, in <module>\n",
      "    line for line in traceback.format_stack()\n",
      "\n",
      "\n",
      "  matplotlib.use(\"Agg\")\n",
      "[src: model.py:  25] INFO: build(): Defined Placeholders\n",
      "[src: layers.py:  80] INFO: encode_view_norm_pose_batch_32(): x_pose: Tensor(\"Reshape:0\", shape=(?, 17, 3), dtype=float32)\n",
      "[src: model.py:  95] INFO: _define_network_graph(): zp_real shape: Tensor(\"Reshape_1:0\", shape=(?, ?, 32), dtype=float32)\n",
      "[src: model.py:  96] INFO: _define_network_graph(): zds_real shape: Tensor(\"dance_rep/encoder/zds/mul:0\", shape=(?, 256), dtype=float32)\n",
      "[src: model.py: 104] INFO: _define_network_graph(): zp_recon shape: Tensor(\"dance_rep/decoder/lv1_decoder/strided_slice_2:0\", shape=(?, 60, 32), dtype=float32)\n",
      "[src: layers.py:  80] INFO: encode_view_norm_pose_batch_32(): x_pose: Tensor(\"Reshape_6:0\", shape=(?, 17, 3), dtype=float32)\n",
      "[src: model.py:  28] INFO: build(): Defined Network Graph\n",
      "[src: model.py:  31] INFO: build(): Defined Loss\n",
      "[src: model.py:  34] INFO: build(): Defined Evaluation Metrics\n",
      "[src: model.py:  37] INFO: build(): Defined Params\n",
      "\n",
      "/usr/local/lib/python2.7/dist-packages/tensorflow/python/ops/gradients_impl.py:100: UserWarning: Converting sparse IndexedSlices to a dense Tensor of unknown shape. This may consume a large amount of memory.\n",
      "  \"Converting sparse IndexedSlices to a dense Tensor of unknown shape. \"\n",
      "[src: model.py:  40] INFO: build(): Defined Operations\n"
     ]
    },
    {
     "name": "stdout",
     "output_type": "stream",
     "text": [
      "INFO:tensorflow:Summary name L1_x_x^^ is illegal; using L1_x_x__ instead.\n"
     ]
    },
    {
     "name": "stderr",
     "output_type": "stream",
     "text": [
      "[src: tf_logging.py: 115] INFO: info(): Summary name L1_x_x^^ is illegal; using L1_x_x__ instead.\n",
      "[src: model.py:  43] INFO: build(): Defined Summaries\n",
      "[src: model.py:  52] INFO: build(): encoder params:\n",
      "\n",
      "[src: model.py:  54] INFO: build(): dance_rep/encoder/bidirectional_rnn/fw/gru_cell/gates/kernel:0\n",
      "[src: model.py:  54] INFO: build(): dance_rep/encoder/bidirectional_rnn/fw/gru_cell/gates/bias:0\n",
      "[src: model.py:  54] INFO: build(): dance_rep/encoder/bidirectional_rnn/fw/gru_cell/candidate/kernel:0\n",
      "[src: model.py:  54] INFO: build(): dance_rep/encoder/bidirectional_rnn/fw/gru_cell/candidate/bias:0\n",
      "[src: model.py:  54] INFO: build(): dance_rep/encoder/bidirectional_rnn/bw/gru_cell/gates/kernel:0\n",
      "[src: model.py:  54] INFO: build(): dance_rep/encoder/bidirectional_rnn/bw/gru_cell/gates/bias:0\n",
      "[src: model.py:  54] INFO: build(): dance_rep/encoder/bidirectional_rnn/bw/gru_cell/candidate/kernel:0\n",
      "[src: model.py:  54] INFO: build(): dance_rep/encoder/bidirectional_rnn/bw/gru_cell/candidate/bias:0\n",
      "[src: model.py:  54] INFO: build(): dance_rep/encoder/zds/weights:0\n",
      "[src: model.py:  54] INFO: build(): dance_rep/encoder/zds/biases:0\n",
      "[src: model.py:  52] INFO: build(): decoder params:\n",
      "\n",
      "[src: model.py:  54] INFO: build(): dance_rep/decoder/lv1_decoder/rnn_init_state/weights:0\n",
      "[src: model.py:  54] INFO: build(): dance_rep/decoder/lv1_decoder/rnn_init_state/biases:0\n",
      "[src: model.py:  54] INFO: build(): dance_rep/decoder/lv1_decoder/dynamic_rnn/fw/gru_cell/gates/kernel:0\n",
      "[src: model.py:  54] INFO: build(): dance_rep/decoder/lv1_decoder/dynamic_rnn/fw/gru_cell/gates/bias:0\n",
      "[src: model.py:  54] INFO: build(): dance_rep/decoder/lv1_decoder/dynamic_rnn/fw/gru_cell/candidate/kernel:0\n",
      "[src: model.py:  54] INFO: build(): dance_rep/decoder/lv1_decoder/dynamic_rnn/fw/gru_cell/candidate/bias:0\n",
      "[src: model.py:  54] INFO: build(): dance_rep/decoder/lv1_decoder/dynamic_rnn/bw/gru_cell/gates/kernel:0\n",
      "[src: model.py:  54] INFO: build(): dance_rep/decoder/lv1_decoder/dynamic_rnn/bw/gru_cell/gates/bias:0\n",
      "[src: model.py:  54] INFO: build(): dance_rep/decoder/lv1_decoder/dynamic_rnn/bw/gru_cell/candidate/kernel:0\n",
      "[src: model.py:  54] INFO: build(): dance_rep/decoder/lv1_decoder/dynamic_rnn/bw/gru_cell/candidate/bias:0\n",
      "[src: model.py:  54] INFO: build(): dance_rep/decoder/lv1_decoder/outputs/weights:0\n",
      "[src: model.py:  54] INFO: build(): dance_rep/decoder/lv1_decoder/outputs/biases:0\n",
      "[src: model.py:  56] INFO: build(): Model Definition Complete...\n",
      "\n",
      "/usr/local/lib/python2.7/dist-packages/tensorflow/python/client/session.py:1714: UserWarning: An interactive session is already active. This can cause out-of-memory errors in some cases. You must explicitly call `InteractiveSession.close()` to release resources held by the other session(s).\n",
      "  warnings.warn('An interactive session is already active. This can '\n"
     ]
    },
    {
     "name": "stdout",
     "output_type": "stream",
     "text": [
      "<tf.Variable 'Encoder_net/l_arm_ft/weights:0' shape=(12, 32) dtype=float32_ref>\n",
      "<tf.Variable 'Encoder_net/l_arm_ft/biases:0' shape=(32,) dtype=float32_ref>\n",
      "<tf.Variable 'Encoder_net/r_arm_ft/weights:0' shape=(12, 32) dtype=float32_ref>\n",
      "<tf.Variable 'Encoder_net/r_arm_ft/biases:0' shape=(32,) dtype=float32_ref>\n",
      "<tf.Variable 'Encoder_net/r_leg_ft/weights:0' shape=(12, 32) dtype=float32_ref>\n",
      "<tf.Variable 'Encoder_net/r_leg_ft/biases:0' shape=(32,) dtype=float32_ref>\n",
      "<tf.Variable 'Encoder_net/l_leg_ft/weights:0' shape=(12, 32) dtype=float32_ref>\n",
      "<tf.Variable 'Encoder_net/l_leg_ft/biases:0' shape=(32,) dtype=float32_ref>\n",
      "<tf.Variable 'Encoder_net/trunk_ft/weights:0' shape=(9, 32) dtype=float32_ref>\n",
      "<tf.Variable 'Encoder_net/trunk_ft/biases:0' shape=(32,) dtype=float32_ref>\n",
      "<tf.Variable 'Encoder_net/trunk_l_arm_ft/weights:0' shape=(64, 64) dtype=float32_ref>\n",
      "<tf.Variable 'Encoder_net/trunk_l_arm_ft/biases:0' shape=(64,) dtype=float32_ref>\n",
      "<tf.Variable 'Encoder_net/trunk_r_arm_ft/weights:0' shape=(64, 64) dtype=float32_ref>\n",
      "<tf.Variable 'Encoder_net/trunk_r_arm_ft/biases:0' shape=(64,) dtype=float32_ref>\n",
      "<tf.Variable 'Encoder_net/trunk_r_leg_ft/weights:0' shape=(64, 64) dtype=float32_ref>\n",
      "<tf.Variable 'Encoder_net/trunk_r_leg_ft/biases:0' shape=(64,) dtype=float32_ref>\n",
      "<tf.Variable 'Encoder_net/trunk_l_leg_ft/weights:0' shape=(64, 64) dtype=float32_ref>\n",
      "<tf.Variable 'Encoder_net/trunk_l_leg_ft/biases:0' shape=(64,) dtype=float32_ref>\n",
      "<tf.Variable 'Encoder_net/upper_body_ft/weights:0' shape=(128, 128) dtype=float32_ref>\n",
      "<tf.Variable 'Encoder_net/upper_body_ft/biases:0' shape=(128,) dtype=float32_ref>\n",
      "<tf.Variable 'Encoder_net/lower_body_ft/weights:0' shape=(128, 128) dtype=float32_ref>\n",
      "<tf.Variable 'Encoder_net/lower_body_ft/biases:0' shape=(128,) dtype=float32_ref>\n",
      "<tf.Variable 'Encoder_net/full_body_ft/weights:0' shape=(256, 512) dtype=float32_ref>\n",
      "<tf.Variable 'Encoder_net/full_body_ft/biases:0' shape=(512,) dtype=float32_ref>\n",
      "<tf.Variable 'Encoder_net/full_body_ft2/weights:0' shape=(512, 512) dtype=float32_ref>\n",
      "<tf.Variable 'Encoder_net/full_body_ft2/biases:0' shape=(512,) dtype=float32_ref>\n",
      "<tf.Variable 'Encoder_net/z_joints/weights:0' shape=(512, 32) dtype=float32_ref>\n",
      "<tf.Variable 'Encoder_net/z_joints/biases:0' shape=(32,) dtype=float32_ref>\n",
      "<tf.Variable 'Decoder_net/full_body_ft2/weights:0' shape=(32, 512) dtype=float32_ref>\n",
      "<tf.Variable 'Decoder_net/full_body_ft2/biases:0' shape=(512,) dtype=float32_ref>\n",
      "<tf.Variable 'Decoder_net/full_body_ft/weights:0' shape=(512, 512) dtype=float32_ref>\n",
      "<tf.Variable 'Decoder_net/full_body_ft/biases:0' shape=(512,) dtype=float32_ref>\n",
      "<tf.Variable 'Decoder_net/full_body/weights:0' shape=(512, 512) dtype=float32_ref>\n",
      "<tf.Variable 'Decoder_net/full_body/biases:0' shape=(512,) dtype=float32_ref>\n",
      "<tf.Variable 'Decoder_net/upper_body/weights:0' shape=(128, 128) dtype=float32_ref>\n",
      "<tf.Variable 'Decoder_net/upper_body/biases:0' shape=(128,) dtype=float32_ref>\n",
      "<tf.Variable 'Decoder_net/lower_body/weights:0' shape=(128, 128) dtype=float32_ref>\n",
      "<tf.Variable 'Decoder_net/lower_body/biases:0' shape=(128,) dtype=float32_ref>\n",
      "<tf.Variable 'Decoder_net/trunk_l_arm/weights:0' shape=(64, 64) dtype=float32_ref>\n",
      "<tf.Variable 'Decoder_net/trunk_l_arm/biases:0' shape=(64,) dtype=float32_ref>\n",
      "<tf.Variable 'Decoder_net/trunk_r_arm/weights:0' shape=(64, 64) dtype=float32_ref>\n",
      "<tf.Variable 'Decoder_net/trunk_r_arm/biases:0' shape=(64,) dtype=float32_ref>\n",
      "<tf.Variable 'Decoder_net/trunk_r_leg/weights:0' shape=(64, 64) dtype=float32_ref>\n",
      "<tf.Variable 'Decoder_net/trunk_r_leg/biases:0' shape=(64,) dtype=float32_ref>\n",
      "<tf.Variable 'Decoder_net/trunk_l_leg/weights:0' shape=(64, 64) dtype=float32_ref>\n",
      "<tf.Variable 'Decoder_net/trunk_l_leg/biases:0' shape=(64,) dtype=float32_ref>\n",
      "<tf.Variable 'Decoder_net/l_arm/weights:0' shape=(32, 12) dtype=float32_ref>\n",
      "<tf.Variable 'Decoder_net/l_arm/biases:0' shape=(12,) dtype=float32_ref>\n",
      "<tf.Variable 'Decoder_net/r_arm/weights:0' shape=(32, 12) dtype=float32_ref>\n",
      "<tf.Variable 'Decoder_net/r_arm/biases:0' shape=(12,) dtype=float32_ref>\n",
      "<tf.Variable 'Decoder_net/r_leg/weights:0' shape=(32, 12) dtype=float32_ref>\n",
      "<tf.Variable 'Decoder_net/r_leg/biases:0' shape=(12,) dtype=float32_ref>\n",
      "<tf.Variable 'Decoder_net/l_leg/weights:0' shape=(32, 12) dtype=float32_ref>\n",
      "<tf.Variable 'Decoder_net/l_leg/biases:0' shape=(12,) dtype=float32_ref>\n",
      "<tf.Variable 'Decoder_net/trunk/weights:0' shape=(32, 9) dtype=float32_ref>\n",
      "<tf.Variable 'Decoder_net/trunk/biases:0' shape=(9,) dtype=float32_ref>\n",
      "<tf.Variable 'DiscNet/layer_1_shared/weights:0' shape=(3, 32) dtype=float32_ref>\n",
      "<tf.Variable 'DiscNet/layer_1_shared/biases:0' shape=(32,) dtype=float32_ref>\n",
      "<tf.Variable 'DiscNet/layer_2_shared/weights:0' shape=(32, 32) dtype=float32_ref>\n",
      "<tf.Variable 'DiscNet/layer_2_shared/biases:0' shape=(32,) dtype=float32_ref>\n",
      "<tf.Variable 'DiscNet/pelvis_0_fc/weights:0' shape=(32, 1) dtype=float32_ref>\n",
      "<tf.Variable 'DiscNet/pelvis_0_fc/biases:0' shape=(1,) dtype=float32_ref>\n",
      "<tf.Variable 'DiscNet/neck_1_fc/weights:0' shape=(32, 1) dtype=float32_ref>\n",
      "<tf.Variable 'DiscNet/neck_1_fc/biases:0' shape=(1,) dtype=float32_ref>\n",
      "<tf.Variable 'DiscNet/r_shldr_2_fc/weights:0' shape=(32, 1) dtype=float32_ref>\n",
      "<tf.Variable 'DiscNet/r_shldr_2_fc/biases:0' shape=(1,) dtype=float32_ref>\n",
      "<tf.Variable 'DiscNet/r_elbow_3_fc/weights:0' shape=(32, 1) dtype=float32_ref>\n",
      "<tf.Variable 'DiscNet/r_elbow_3_fc/biases:0' shape=(1,) dtype=float32_ref>\n",
      "<tf.Variable 'DiscNet/r_wrist_4_fc/weights:0' shape=(32, 1) dtype=float32_ref>\n",
      "<tf.Variable 'DiscNet/r_wrist_4_fc/biases:0' shape=(1,) dtype=float32_ref>\n",
      "<tf.Variable 'DiscNet/l_shldr_5_fc/weights:0' shape=(32, 1) dtype=float32_ref>\n",
      "<tf.Variable 'DiscNet/l_shldr_5_fc/biases:0' shape=(1,) dtype=float32_ref>\n",
      "<tf.Variable 'DiscNet/l_elbow_6_fc/weights:0' shape=(32, 1) dtype=float32_ref>\n",
      "<tf.Variable 'DiscNet/l_elbow_6_fc/biases:0' shape=(1,) dtype=float32_ref>\n",
      "<tf.Variable 'DiscNet/l_wrist_7_fc/weights:0' shape=(32, 1) dtype=float32_ref>\n",
      "<tf.Variable 'DiscNet/l_wrist_7_fc/biases:0' shape=(1,) dtype=float32_ref>\n",
      "<tf.Variable 'DiscNet/head_8_fc/weights:0' shape=(32, 1) dtype=float32_ref>\n",
      "<tf.Variable 'DiscNet/head_8_fc/biases:0' shape=(1,) dtype=float32_ref>\n",
      "<tf.Variable 'DiscNet/r_hip_9_fc/weights:0' shape=(32, 1) dtype=float32_ref>\n",
      "<tf.Variable 'DiscNet/r_hip_9_fc/biases:0' shape=(1,) dtype=float32_ref>\n",
      "<tf.Variable 'DiscNet/r_knee_10_fc/weights:0' shape=(32, 1) dtype=float32_ref>\n",
      "<tf.Variable 'DiscNet/r_knee_10_fc/biases:0' shape=(1,) dtype=float32_ref>\n",
      "<tf.Variable 'DiscNet/r_ankle_11_fc/weights:0' shape=(32, 1) dtype=float32_ref>\n",
      "<tf.Variable 'DiscNet/r_ankle_11_fc/biases:0' shape=(1,) dtype=float32_ref>\n",
      "<tf.Variable 'DiscNet/r_foot_12_fc/weights:0' shape=(32, 1) dtype=float32_ref>\n",
      "<tf.Variable 'DiscNet/r_foot_12_fc/biases:0' shape=(1,) dtype=float32_ref>\n",
      "<tf.Variable 'DiscNet/l_hip_13_fc/weights:0' shape=(32, 1) dtype=float32_ref>\n",
      "<tf.Variable 'DiscNet/l_hip_13_fc/biases:0' shape=(1,) dtype=float32_ref>\n",
      "<tf.Variable 'DiscNet/l_knee_14_fc/weights:0' shape=(32, 1) dtype=float32_ref>\n",
      "<tf.Variable 'DiscNet/l_knee_14_fc/biases:0' shape=(1,) dtype=float32_ref>\n",
      "<tf.Variable 'DiscNet/l_ankle_15_fc/weights:0' shape=(32, 1) dtype=float32_ref>\n",
      "<tf.Variable 'DiscNet/l_ankle_15_fc/biases:0' shape=(1,) dtype=float32_ref>\n",
      "<tf.Variable 'DiscNet/l_foot_16_fc/weights:0' shape=(32, 1) dtype=float32_ref>\n",
      "<tf.Variable 'DiscNet/l_foot_16_fc/biases:0' shape=(1,) dtype=float32_ref>\n",
      "<tf.Variable 'DiscNet/l_arm_ft/weights:0' shape=(128, 200) dtype=float32_ref>\n",
      "<tf.Variable 'DiscNet/l_arm_ft/biases:0' shape=(200,) dtype=float32_ref>\n",
      "<tf.Variable 'DiscNet/l_arm_fc/weights:0' shape=(200, 1) dtype=float32_ref>\n",
      "<tf.Variable 'DiscNet/l_arm_fc/biases:0' shape=(1,) dtype=float32_ref>\n",
      "<tf.Variable 'DiscNet/r_arm_ft/weights:0' shape=(128, 200) dtype=float32_ref>\n",
      "<tf.Variable 'DiscNet/r_arm_ft/biases:0' shape=(200,) dtype=float32_ref>\n",
      "<tf.Variable 'DiscNet/r_arm_fc/weights:0' shape=(200, 1) dtype=float32_ref>\n",
      "<tf.Variable 'DiscNet/r_arm_fc/biases:0' shape=(1,) dtype=float32_ref>\n",
      "<tf.Variable 'DiscNet/r_leg_ft/weights:0' shape=(128, 200) dtype=float32_ref>\n",
      "<tf.Variable 'DiscNet/r_leg_ft/biases:0' shape=(200,) dtype=float32_ref>\n",
      "<tf.Variable 'DiscNet/r_leg_fc/weights:0' shape=(200, 1) dtype=float32_ref>\n",
      "<tf.Variable 'DiscNet/r_leg_fc/biases:0' shape=(1,) dtype=float32_ref>\n",
      "<tf.Variable 'DiscNet/l_leg_ft/weights:0' shape=(128, 200) dtype=float32_ref>\n",
      "<tf.Variable 'DiscNet/l_leg_ft/biases:0' shape=(200,) dtype=float32_ref>\n",
      "<tf.Variable 'DiscNet/l_leg_fc/weights:0' shape=(200, 1) dtype=float32_ref>\n",
      "<tf.Variable 'DiscNet/l_leg_fc/biases:0' shape=(1,) dtype=float32_ref>\n",
      "<tf.Variable 'DiscNet/trunk_ft/weights:0' shape=(96, 200) dtype=float32_ref>\n",
      "<tf.Variable 'DiscNet/trunk_ft/biases:0' shape=(200,) dtype=float32_ref>\n",
      "<tf.Variable 'DiscNet/trunk_fc/weights:0' shape=(200, 1) dtype=float32_ref>\n",
      "<tf.Variable 'DiscNet/trunk_fc/biases:0' shape=(1,) dtype=float32_ref>\n",
      "<tf.Variable 'DiscNet/joint_groups_fcc_1/weights:0' shape=(1000, 1024) dtype=float32_ref>\n",
      "<tf.Variable 'DiscNet/joint_groups_fcc_1/biases:0' shape=(1024,) dtype=float32_ref>\n",
      "<tf.Variable 'DiscNet/joint_groups_fcc_2/weights:0' shape=(1024, 1024) dtype=float32_ref>\n",
      "<tf.Variable 'DiscNet/joint_groups_fcc_2/biases:0' shape=(1024,) dtype=float32_ref>\n",
      "<tf.Variable 'DiscNet/joint_groups_final_fc/weights:0' shape=(1024, 1) dtype=float32_ref>\n",
      "<tf.Variable 'DiscNet/joint_groups_final_fc/biases:0' shape=(1,) dtype=float32_ref>\n",
      "<tf.Variable 'dance_rep/encoder/bidirectional_rnn/fw/gru_cell/gates/kernel:0' shape=(544, 1024) dtype=float32_ref>\n",
      "<tf.Variable 'dance_rep/encoder/bidirectional_rnn/fw/gru_cell/gates/bias:0' shape=(1024,) dtype=float32_ref>\n",
      "<tf.Variable 'dance_rep/encoder/bidirectional_rnn/fw/gru_cell/candidate/kernel:0' shape=(544, 512) dtype=float32_ref>\n",
      "<tf.Variable 'dance_rep/encoder/bidirectional_rnn/fw/gru_cell/candidate/bias:0' shape=(512,) dtype=float32_ref>\n",
      "<tf.Variable 'dance_rep/encoder/bidirectional_rnn/bw/gru_cell/gates/kernel:0' shape=(544, 1024) dtype=float32_ref>\n",
      "<tf.Variable 'dance_rep/encoder/bidirectional_rnn/bw/gru_cell/gates/bias:0' shape=(1024,) dtype=float32_ref>\n",
      "<tf.Variable 'dance_rep/encoder/bidirectional_rnn/bw/gru_cell/candidate/kernel:0' shape=(544, 512) dtype=float32_ref>\n",
      "<tf.Variable 'dance_rep/encoder/bidirectional_rnn/bw/gru_cell/candidate/bias:0' shape=(512,) dtype=float32_ref>\n",
      "<tf.Variable 'dance_rep/encoder/zds/weights:0' shape=(1024, 256) dtype=float32_ref>\n",
      "<tf.Variable 'dance_rep/encoder/zds/biases:0' shape=(256,) dtype=float32_ref>\n",
      "<tf.Variable 'dance_rep/decoder/lv1_decoder/rnn_init_state/weights:0' shape=(256, 1024) dtype=float32_ref>\n",
      "<tf.Variable 'dance_rep/decoder/lv1_decoder/rnn_init_state/biases:0' shape=(1024,) dtype=float32_ref>\n",
      "<tf.Variable 'dance_rep/decoder/lv1_decoder/dynamic_rnn/fw/gru_cell/gates/kernel:0' shape=(768, 1024) dtype=float32_ref>\n",
      "<tf.Variable 'dance_rep/decoder/lv1_decoder/dynamic_rnn/fw/gru_cell/gates/bias:0' shape=(1024,) dtype=float32_ref>\n",
      "<tf.Variable 'dance_rep/decoder/lv1_decoder/dynamic_rnn/fw/gru_cell/candidate/kernel:0' shape=(768, 512) dtype=float32_ref>\n",
      "<tf.Variable 'dance_rep/decoder/lv1_decoder/dynamic_rnn/fw/gru_cell/candidate/bias:0' shape=(512,) dtype=float32_ref>\n",
      "<tf.Variable 'dance_rep/decoder/lv1_decoder/dynamic_rnn/bw/gru_cell/gates/kernel:0' shape=(768, 1024) dtype=float32_ref>\n",
      "<tf.Variable 'dance_rep/decoder/lv1_decoder/dynamic_rnn/bw/gru_cell/gates/bias:0' shape=(1024,) dtype=float32_ref>\n",
      "<tf.Variable 'dance_rep/decoder/lv1_decoder/dynamic_rnn/bw/gru_cell/candidate/kernel:0' shape=(768, 512) dtype=float32_ref>\n",
      "<tf.Variable 'dance_rep/decoder/lv1_decoder/dynamic_rnn/bw/gru_cell/candidate/bias:0' shape=(512,) dtype=float32_ref>\n",
      "<tf.Variable 'dance_rep/decoder/lv1_decoder/outputs/weights:0' shape=(1024, 32) dtype=float32_ref>\n",
      "<tf.Variable 'dance_rep/decoder/lv1_decoder/outputs/biases:0' shape=(32,) dtype=float32_ref>\n",
      "\n",
      "\n"
     ]
    },
    {
     "name": "stdout",
     "output_type": "stream",
     "text": [
      "trying to load iter weights...\n",
      "INFO:tensorflow:Restoring parameters from ../../ent44/weights/encoder_float32-2958501\n"
     ]
    },
    {
     "name": "stderr",
     "output_type": "stream",
     "text": [
      "[src: tf_logging.py: 115] INFO: info(): Restoring parameters from ../../ent44/weights/encoder_float32-2958501\n"
     ]
    },
    {
     "name": "stdout",
     "output_type": "stream",
     "text": [
      "INFO:tensorflow:Restoring parameters from ../../ent44/weights/decoder_float32-2958501\n"
     ]
    },
    {
     "name": "stderr",
     "output_type": "stream",
     "text": [
      "[src: tf_logging.py: 115] INFO: info(): Restoring parameters from ../../ent44/weights/decoder_float32-2958501\n",
      "[src: model_service.py:  74] INFO: __init__(): All variable initialized...\n",
      "\n",
      "[src: model_service.py:  84] INFO: load_weights(): Trying to load iter weights...\n",
      "[src: model_service.py:  86] INFO: load_weights(): Loading encoder weights all: 35200...\n"
     ]
    },
    {
     "name": "stdout",
     "output_type": "stream",
     "text": [
      "done bitches  __|__ \n",
      "INFO:tensorflow:Restoring parameters from ../weights_x_cyclic/all/encoder_iter-35200\n"
     ]
    },
    {
     "name": "stderr",
     "output_type": "stream",
     "text": [
      "[src: tf_logging.py: 115] INFO: info(): Restoring parameters from ../weights_x_cyclic/all/encoder_iter-35200\n"
     ]
    },
    {
     "ename": "NotFoundError",
     "evalue": "Unsuccessful TensorSliceReader constructor: Failed to find any matching files for ../weights_x_cyclic/all/encoder_iter-35200\n\t [[Node: save_2/RestoreV2 = RestoreV2[dtypes=[DT_FLOAT, DT_FLOAT, DT_FLOAT, DT_FLOAT, DT_FLOAT, DT_FLOAT, DT_FLOAT, DT_FLOAT, DT_FLOAT, DT_FLOAT], _device=\"/job:localhost/replica:0/task:0/device:CPU:0\"](_arg_save_2/Const_0_0, save_2/RestoreV2/tensor_names, save_2/RestoreV2/shape_and_slices)]]\n\nCaused by op u'save_2/RestoreV2', defined at:\n  File \"/usr/lib/python2.7/runpy.py\", line 174, in _run_module_as_main\n    \"__main__\", fname, loader, pkg_name)\n  File \"/usr/lib/python2.7/runpy.py\", line 72, in _run_code\n    exec code in run_globals\n  File \"/home/babu/.local/lib/python2.7/site-packages/ipykernel_launcher.py\", line 16, in <module>\n    app.launch_new_instance()\n  File \"/home/babu/.local/lib/python2.7/site-packages/traitlets/config/application.py\", line 658, in launch_instance\n    app.start()\n  File \"/home/babu/.local/lib/python2.7/site-packages/ipykernel/kernelapp.py\", line 499, in start\n    self.io_loop.start()\n  File \"/home/babu/.local/lib/python2.7/site-packages/tornado/ioloop.py\", line 1073, in start\n    handler_func(fd_obj, events)\n  File \"/home/babu/.local/lib/python2.7/site-packages/tornado/stack_context.py\", line 300, in null_wrapper\n    return fn(*args, **kwargs)\n  File \"/home/babu/.local/lib/python2.7/site-packages/zmq/eventloop/zmqstream.py\", line 450, in _handle_events\n    self._handle_recv()\n  File \"/home/babu/.local/lib/python2.7/site-packages/zmq/eventloop/zmqstream.py\", line 480, in _handle_recv\n    self._run_callback(callback, msg)\n  File \"/home/babu/.local/lib/python2.7/site-packages/zmq/eventloop/zmqstream.py\", line 432, in _run_callback\n    callback(*args, **kwargs)\n  File \"/home/babu/.local/lib/python2.7/site-packages/tornado/stack_context.py\", line 300, in null_wrapper\n    return fn(*args, **kwargs)\n  File \"/home/babu/.local/lib/python2.7/site-packages/ipykernel/kernelbase.py\", line 283, in dispatcher\n    return self.dispatch_shell(stream, msg)\n  File \"/home/babu/.local/lib/python2.7/site-packages/ipykernel/kernelbase.py\", line 233, in dispatch_shell\n    handler(stream, idents, msg)\n  File \"/home/babu/.local/lib/python2.7/site-packages/ipykernel/kernelbase.py\", line 399, in execute_request\n    user_expressions, allow_stdin)\n  File \"/home/babu/.local/lib/python2.7/site-packages/ipykernel/ipkernel.py\", line 208, in do_execute\n    res = shell.run_cell(code, store_history=store_history, silent=silent)\n  File \"/home/babu/.local/lib/python2.7/site-packages/ipykernel/zmqshell.py\", line 537, in run_cell\n    return super(ZMQInteractiveShell, self).run_cell(*args, **kwargs)\n  File \"/home/babu/.local/lib/python2.7/site-packages/IPython/core/interactiveshell.py\", line 2714, in run_cell\n    interactivity=interactivity, compiler=compiler, result=result)\n  File \"/home/babu/.local/lib/python2.7/site-packages/IPython/core/interactiveshell.py\", line 2818, in run_ast_nodes\n    if self.run_code(code, result):\n  File \"/home/babu/.local/lib/python2.7/site-packages/IPython/core/interactiveshell.py\", line 2878, in run_code\n    exec(code_obj, self.user_global_ns, self.user_ns)\n  File \"<ipython-input-3-d98e72072d8b>\", line 2, in <module>\n    dms = DanceModelService.get_instance()\n  File \"model_service.py\", line 25, in get_instance\n    cls.__instance = cls(load_iter_no, iter_or_best, max_to_keep)\n  File \"model_service.py\", line 54, in __init__\n    self.loader[network] = tf.train.Saver(self.model.params[network])\n  File \"/usr/local/lib/python2.7/dist-packages/tensorflow/python/training/saver.py\", line 1284, in __init__\n    self.build()\n  File \"/usr/local/lib/python2.7/dist-packages/tensorflow/python/training/saver.py\", line 1296, in build\n    self._build(self._filename, build_save=True, build_restore=True)\n  File \"/usr/local/lib/python2.7/dist-packages/tensorflow/python/training/saver.py\", line 1333, in _build\n    build_save=build_save, build_restore=build_restore)\n  File \"/usr/local/lib/python2.7/dist-packages/tensorflow/python/training/saver.py\", line 781, in _build_internal\n    restore_sequentially, reshape)\n  File \"/usr/local/lib/python2.7/dist-packages/tensorflow/python/training/saver.py\", line 400, in _AddRestoreOps\n    restore_sequentially)\n  File \"/usr/local/lib/python2.7/dist-packages/tensorflow/python/training/saver.py\", line 832, in bulk_restore\n    return io_ops.restore_v2(filename_tensor, names, slices, dtypes)\n  File \"/usr/local/lib/python2.7/dist-packages/tensorflow/python/ops/gen_io_ops.py\", line 1463, in restore_v2\n    shape_and_slices=shape_and_slices, dtypes=dtypes, name=name)\n  File \"/usr/local/lib/python2.7/dist-packages/tensorflow/python/framework/op_def_library.py\", line 787, in _apply_op_helper\n    op_def=op_def)\n  File \"/usr/local/lib/python2.7/dist-packages/tensorflow/python/framework/ops.py\", line 3414, in create_op\n    op_def=op_def)\n  File \"/usr/local/lib/python2.7/dist-packages/tensorflow/python/framework/ops.py\", line 1740, in __init__\n    self._traceback = self._graph._extract_stack()  # pylint: disable=protected-access\n\nNotFoundError (see above for traceback): Unsuccessful TensorSliceReader constructor: Failed to find any matching files for ../weights_x_cyclic/all/encoder_iter-35200\n\t [[Node: save_2/RestoreV2 = RestoreV2[dtypes=[DT_FLOAT, DT_FLOAT, DT_FLOAT, DT_FLOAT, DT_FLOAT, DT_FLOAT, DT_FLOAT, DT_FLOAT, DT_FLOAT, DT_FLOAT], _device=\"/job:localhost/replica:0/task:0/device:CPU:0\"](_arg_save_2/Const_0_0, save_2/RestoreV2/tensor_names, save_2/RestoreV2/shape_and_slices)]]\n",
     "output_type": "error",
     "traceback": [
      "\u001b[0;31m---------------------------------------------------------------------------\u001b[0m",
      "\u001b[0;31mNotFoundError\u001b[0m                             Traceback (most recent call last)",
      "\u001b[0;32m<ipython-input-3-d98e72072d8b>\u001b[0m in \u001b[0;36m<module>\u001b[0;34m()\u001b[0m\n\u001b[1;32m      1\u001b[0m \u001b[0;32mfrom\u001b[0m \u001b[0mmodel_service\u001b[0m \u001b[0;32mimport\u001b[0m \u001b[0mDanceModelService\u001b[0m\u001b[0;34m\u001b[0m\u001b[0m\n\u001b[1;32m      2\u001b[0m \u001b[0mdms\u001b[0m \u001b[0;34m=\u001b[0m \u001b[0mDanceModelService\u001b[0m\u001b[0;34m.\u001b[0m\u001b[0mget_instance\u001b[0m\u001b[0;34m(\u001b[0m\u001b[0;34m)\u001b[0m\u001b[0;34m\u001b[0m\u001b[0m\n\u001b[0;32m----> 3\u001b[0;31m \u001b[0mdms\u001b[0m\u001b[0;34m.\u001b[0m\u001b[0mload_weights\u001b[0m\u001b[0;34m(\u001b[0m\u001b[0miter_no\u001b[0m\u001b[0;34m=\u001b[0m\u001b[0;36m35200\u001b[0m\u001b[0;34m,\u001b[0m \u001b[0miter_or_best\u001b[0m\u001b[0;34m=\u001b[0m\u001b[0;34m'iter'\u001b[0m\u001b[0;34m,\u001b[0m \u001b[0mdir_name\u001b[0m\u001b[0;34m=\u001b[0m\u001b[0;34m'load'\u001b[0m\u001b[0;34m)\u001b[0m\u001b[0;34m\u001b[0m\u001b[0m\n\u001b[0m",
      "\u001b[0;32m/media/babu/JOG_HDD/project_pose_hdd/project_pose/PoseSeqGAN_AE/src/model_service.pyc\u001b[0m in \u001b[0;36mload_weights\u001b[0;34m(self, iter_no, iter_or_best, dir_name)\u001b[0m\n\u001b[1;32m     86\u001b[0m             \u001b[0mlogger\u001b[0m\u001b[0;34m.\u001b[0m\u001b[0minfo\u001b[0m\u001b[0;34m(\u001b[0m\u001b[0;34m'Loading %s weights all: %d...'\u001b[0m \u001b[0;34m%\u001b[0m \u001b[0;34m(\u001b[0m\u001b[0mnetwork\u001b[0m\u001b[0;34m,\u001b[0m \u001b[0miter_no\u001b[0m\u001b[0;34m)\u001b[0m\u001b[0;34m)\u001b[0m\u001b[0;34m\u001b[0m\u001b[0m\n\u001b[1;32m     87\u001b[0m             \u001b[0mweights_path\u001b[0m \u001b[0;34m=\u001b[0m \u001b[0mpaths\u001b[0m\u001b[0;34m.\u001b[0m\u001b[0mget_network_weights_path\u001b[0m\u001b[0;34m(\u001b[0m\u001b[0mdir_name\u001b[0m\u001b[0;34m,\u001b[0m \u001b[0mnetwork\u001b[0m\u001b[0;34m,\u001b[0m \u001b[0miter_or_best\u001b[0m\u001b[0;34m,\u001b[0m \u001b[0miter_no\u001b[0m\u001b[0;34m)\u001b[0m\u001b[0;34m\u001b[0m\u001b[0m\n\u001b[0;32m---> 88\u001b[0;31m             \u001b[0mself\u001b[0m\u001b[0;34m.\u001b[0m\u001b[0mloader\u001b[0m\u001b[0;34m[\u001b[0m\u001b[0mnetwork\u001b[0m\u001b[0;34m]\u001b[0m\u001b[0;34m.\u001b[0m\u001b[0mrestore\u001b[0m\u001b[0;34m(\u001b[0m\u001b[0mself\u001b[0m\u001b[0;34m.\u001b[0m\u001b[0msession\u001b[0m\u001b[0;34m,\u001b[0m \u001b[0mweights_path\u001b[0m\u001b[0;34m)\u001b[0m\u001b[0;34m\u001b[0m\u001b[0m\n\u001b[0m\u001b[1;32m     89\u001b[0m             \u001b[0mlogger\u001b[0m\u001b[0;34m.\u001b[0m\u001b[0minfo\u001b[0m\u001b[0;34m(\u001b[0m\u001b[0;34m'Loaded %s weights from %s'\u001b[0m \u001b[0;34m%\u001b[0m \u001b[0;34m(\u001b[0m\u001b[0mnetwork\u001b[0m\u001b[0;34m,\u001b[0m \u001b[0mweights_path\u001b[0m\u001b[0;34m)\u001b[0m\u001b[0;34m)\u001b[0m\u001b[0;34m\u001b[0m\u001b[0m\n\u001b[1;32m     90\u001b[0m         \u001b[0;32mreturn\u001b[0m \u001b[0miter_no\u001b[0m\u001b[0;34m\u001b[0m\u001b[0m\n",
      "\u001b[0;32m/usr/local/lib/python2.7/dist-packages/tensorflow/python/training/saver.pyc\u001b[0m in \u001b[0;36mrestore\u001b[0;34m(self, sess, save_path)\u001b[0m\n\u001b[1;32m   1766\u001b[0m         \u001b[0mshould_reraise\u001b[0m \u001b[0;34m=\u001b[0m \u001b[0mTrue\u001b[0m\u001b[0;34m\u001b[0m\u001b[0m\n\u001b[1;32m   1767\u001b[0m       \u001b[0;32mif\u001b[0m \u001b[0mshould_reraise\u001b[0m\u001b[0;34m:\u001b[0m\u001b[0;34m\u001b[0m\u001b[0m\n\u001b[0;32m-> 1768\u001b[0;31m         \u001b[0msix\u001b[0m\u001b[0;34m.\u001b[0m\u001b[0mreraise\u001b[0m\u001b[0;34m(\u001b[0m\u001b[0mexception_type\u001b[0m\u001b[0;34m,\u001b[0m \u001b[0mexception_value\u001b[0m\u001b[0;34m,\u001b[0m \u001b[0mexception_traceback\u001b[0m\u001b[0;34m)\u001b[0m\u001b[0;34m\u001b[0m\u001b[0m\n\u001b[0m\u001b[1;32m   1769\u001b[0m       \u001b[0;32mdel\u001b[0m \u001b[0mexception_traceback\u001b[0m  \u001b[0;31m# avoid reference cycles\u001b[0m\u001b[0;34m\u001b[0m\u001b[0m\n\u001b[1;32m   1770\u001b[0m \u001b[0;34m\u001b[0m\u001b[0m\n",
      "\u001b[0;32m/usr/local/lib/python2.7/dist-packages/tensorflow/python/training/saver.pyc\u001b[0m in \u001b[0;36mrestore\u001b[0;34m(self, sess, save_path)\u001b[0m\n\u001b[1;32m   1750\u001b[0m       \u001b[0;32melse\u001b[0m\u001b[0;34m:\u001b[0m\u001b[0;34m\u001b[0m\u001b[0m\n\u001b[1;32m   1751\u001b[0m         sess.run(self.saver_def.restore_op_name,\n\u001b[0;32m-> 1752\u001b[0;31m                  {self.saver_def.filename_tensor_name: save_path})\n\u001b[0m\u001b[1;32m   1753\u001b[0m     \u001b[0;32mexcept\u001b[0m \u001b[0merrors\u001b[0m\u001b[0;34m.\u001b[0m\u001b[0mNotFoundError\u001b[0m\u001b[0;34m:\u001b[0m\u001b[0;34m\u001b[0m\u001b[0m\n\u001b[1;32m   1754\u001b[0m       \u001b[0mexception_type\u001b[0m\u001b[0;34m,\u001b[0m \u001b[0mexception_value\u001b[0m\u001b[0;34m,\u001b[0m \u001b[0mexception_traceback\u001b[0m \u001b[0;34m=\u001b[0m \u001b[0msys\u001b[0m\u001b[0;34m.\u001b[0m\u001b[0mexc_info\u001b[0m\u001b[0;34m(\u001b[0m\u001b[0;34m)\u001b[0m\u001b[0;34m\u001b[0m\u001b[0m\n",
      "\u001b[0;32m/usr/local/lib/python2.7/dist-packages/tensorflow/python/client/session.pyc\u001b[0m in \u001b[0;36mrun\u001b[0;34m(self, fetches, feed_dict, options, run_metadata)\u001b[0m\n\u001b[1;32m    898\u001b[0m     \u001b[0;32mtry\u001b[0m\u001b[0;34m:\u001b[0m\u001b[0;34m\u001b[0m\u001b[0m\n\u001b[1;32m    899\u001b[0m       result = self._run(None, fetches, feed_dict, options_ptr,\n\u001b[0;32m--> 900\u001b[0;31m                          run_metadata_ptr)\n\u001b[0m\u001b[1;32m    901\u001b[0m       \u001b[0;32mif\u001b[0m \u001b[0mrun_metadata\u001b[0m\u001b[0;34m:\u001b[0m\u001b[0;34m\u001b[0m\u001b[0m\n\u001b[1;32m    902\u001b[0m         \u001b[0mproto_data\u001b[0m \u001b[0;34m=\u001b[0m \u001b[0mtf_session\u001b[0m\u001b[0;34m.\u001b[0m\u001b[0mTF_GetBuffer\u001b[0m\u001b[0;34m(\u001b[0m\u001b[0mrun_metadata_ptr\u001b[0m\u001b[0;34m)\u001b[0m\u001b[0;34m\u001b[0m\u001b[0m\n",
      "\u001b[0;32m/usr/local/lib/python2.7/dist-packages/tensorflow/python/client/session.pyc\u001b[0m in \u001b[0;36m_run\u001b[0;34m(self, handle, fetches, feed_dict, options, run_metadata)\u001b[0m\n\u001b[1;32m   1133\u001b[0m     \u001b[0;32mif\u001b[0m \u001b[0mfinal_fetches\u001b[0m \u001b[0;32mor\u001b[0m \u001b[0mfinal_targets\u001b[0m \u001b[0;32mor\u001b[0m \u001b[0;34m(\u001b[0m\u001b[0mhandle\u001b[0m \u001b[0;32mand\u001b[0m \u001b[0mfeed_dict_tensor\u001b[0m\u001b[0;34m)\u001b[0m\u001b[0;34m:\u001b[0m\u001b[0;34m\u001b[0m\u001b[0m\n\u001b[1;32m   1134\u001b[0m       results = self._do_run(handle, final_targets, final_fetches,\n\u001b[0;32m-> 1135\u001b[0;31m                              feed_dict_tensor, options, run_metadata)\n\u001b[0m\u001b[1;32m   1136\u001b[0m     \u001b[0;32melse\u001b[0m\u001b[0;34m:\u001b[0m\u001b[0;34m\u001b[0m\u001b[0m\n\u001b[1;32m   1137\u001b[0m       \u001b[0mresults\u001b[0m \u001b[0;34m=\u001b[0m \u001b[0;34m[\u001b[0m\u001b[0;34m]\u001b[0m\u001b[0;34m\u001b[0m\u001b[0m\n",
      "\u001b[0;32m/usr/local/lib/python2.7/dist-packages/tensorflow/python/client/session.pyc\u001b[0m in \u001b[0;36m_do_run\u001b[0;34m(self, handle, target_list, fetch_list, feed_dict, options, run_metadata)\u001b[0m\n\u001b[1;32m   1314\u001b[0m     \u001b[0;32mif\u001b[0m \u001b[0mhandle\u001b[0m \u001b[0;32mis\u001b[0m \u001b[0mNone\u001b[0m\u001b[0;34m:\u001b[0m\u001b[0;34m\u001b[0m\u001b[0m\n\u001b[1;32m   1315\u001b[0m       return self._do_call(_run_fn, feeds, fetches, targets, options,\n\u001b[0;32m-> 1316\u001b[0;31m                            run_metadata)\n\u001b[0m\u001b[1;32m   1317\u001b[0m     \u001b[0;32melse\u001b[0m\u001b[0;34m:\u001b[0m\u001b[0;34m\u001b[0m\u001b[0m\n\u001b[1;32m   1318\u001b[0m       \u001b[0;32mreturn\u001b[0m \u001b[0mself\u001b[0m\u001b[0;34m.\u001b[0m\u001b[0m_do_call\u001b[0m\u001b[0;34m(\u001b[0m\u001b[0m_prun_fn\u001b[0m\u001b[0;34m,\u001b[0m \u001b[0mhandle\u001b[0m\u001b[0;34m,\u001b[0m \u001b[0mfeeds\u001b[0m\u001b[0;34m,\u001b[0m \u001b[0mfetches\u001b[0m\u001b[0;34m)\u001b[0m\u001b[0;34m\u001b[0m\u001b[0m\n",
      "\u001b[0;32m/usr/local/lib/python2.7/dist-packages/tensorflow/python/client/session.pyc\u001b[0m in \u001b[0;36m_do_call\u001b[0;34m(self, fn, *args)\u001b[0m\n\u001b[1;32m   1333\u001b[0m         \u001b[0;32mexcept\u001b[0m \u001b[0mKeyError\u001b[0m\u001b[0;34m:\u001b[0m\u001b[0;34m\u001b[0m\u001b[0m\n\u001b[1;32m   1334\u001b[0m           \u001b[0;32mpass\u001b[0m\u001b[0;34m\u001b[0m\u001b[0m\n\u001b[0;32m-> 1335\u001b[0;31m       \u001b[0;32mraise\u001b[0m \u001b[0mtype\u001b[0m\u001b[0;34m(\u001b[0m\u001b[0me\u001b[0m\u001b[0;34m)\u001b[0m\u001b[0;34m(\u001b[0m\u001b[0mnode_def\u001b[0m\u001b[0;34m,\u001b[0m \u001b[0mop\u001b[0m\u001b[0;34m,\u001b[0m \u001b[0mmessage\u001b[0m\u001b[0;34m)\u001b[0m\u001b[0;34m\u001b[0m\u001b[0m\n\u001b[0m\u001b[1;32m   1336\u001b[0m \u001b[0;34m\u001b[0m\u001b[0m\n\u001b[1;32m   1337\u001b[0m   \u001b[0;32mdef\u001b[0m \u001b[0m_extend_graph\u001b[0m\u001b[0;34m(\u001b[0m\u001b[0mself\u001b[0m\u001b[0;34m)\u001b[0m\u001b[0;34m:\u001b[0m\u001b[0;34m\u001b[0m\u001b[0m\n",
      "\u001b[0;31mNotFoundError\u001b[0m: Unsuccessful TensorSliceReader constructor: Failed to find any matching files for ../weights_x_cyclic/all/encoder_iter-35200\n\t [[Node: save_2/RestoreV2 = RestoreV2[dtypes=[DT_FLOAT, DT_FLOAT, DT_FLOAT, DT_FLOAT, DT_FLOAT, DT_FLOAT, DT_FLOAT, DT_FLOAT, DT_FLOAT, DT_FLOAT], _device=\"/job:localhost/replica:0/task:0/device:CPU:0\"](_arg_save_2/Const_0_0, save_2/RestoreV2/tensor_names, save_2/RestoreV2/shape_and_slices)]]\n\nCaused by op u'save_2/RestoreV2', defined at:\n  File \"/usr/lib/python2.7/runpy.py\", line 174, in _run_module_as_main\n    \"__main__\", fname, loader, pkg_name)\n  File \"/usr/lib/python2.7/runpy.py\", line 72, in _run_code\n    exec code in run_globals\n  File \"/home/babu/.local/lib/python2.7/site-packages/ipykernel_launcher.py\", line 16, in <module>\n    app.launch_new_instance()\n  File \"/home/babu/.local/lib/python2.7/site-packages/traitlets/config/application.py\", line 658, in launch_instance\n    app.start()\n  File \"/home/babu/.local/lib/python2.7/site-packages/ipykernel/kernelapp.py\", line 499, in start\n    self.io_loop.start()\n  File \"/home/babu/.local/lib/python2.7/site-packages/tornado/ioloop.py\", line 1073, in start\n    handler_func(fd_obj, events)\n  File \"/home/babu/.local/lib/python2.7/site-packages/tornado/stack_context.py\", line 300, in null_wrapper\n    return fn(*args, **kwargs)\n  File \"/home/babu/.local/lib/python2.7/site-packages/zmq/eventloop/zmqstream.py\", line 450, in _handle_events\n    self._handle_recv()\n  File \"/home/babu/.local/lib/python2.7/site-packages/zmq/eventloop/zmqstream.py\", line 480, in _handle_recv\n    self._run_callback(callback, msg)\n  File \"/home/babu/.local/lib/python2.7/site-packages/zmq/eventloop/zmqstream.py\", line 432, in _run_callback\n    callback(*args, **kwargs)\n  File \"/home/babu/.local/lib/python2.7/site-packages/tornado/stack_context.py\", line 300, in null_wrapper\n    return fn(*args, **kwargs)\n  File \"/home/babu/.local/lib/python2.7/site-packages/ipykernel/kernelbase.py\", line 283, in dispatcher\n    return self.dispatch_shell(stream, msg)\n  File \"/home/babu/.local/lib/python2.7/site-packages/ipykernel/kernelbase.py\", line 233, in dispatch_shell\n    handler(stream, idents, msg)\n  File \"/home/babu/.local/lib/python2.7/site-packages/ipykernel/kernelbase.py\", line 399, in execute_request\n    user_expressions, allow_stdin)\n  File \"/home/babu/.local/lib/python2.7/site-packages/ipykernel/ipkernel.py\", line 208, in do_execute\n    res = shell.run_cell(code, store_history=store_history, silent=silent)\n  File \"/home/babu/.local/lib/python2.7/site-packages/ipykernel/zmqshell.py\", line 537, in run_cell\n    return super(ZMQInteractiveShell, self).run_cell(*args, **kwargs)\n  File \"/home/babu/.local/lib/python2.7/site-packages/IPython/core/interactiveshell.py\", line 2714, in run_cell\n    interactivity=interactivity, compiler=compiler, result=result)\n  File \"/home/babu/.local/lib/python2.7/site-packages/IPython/core/interactiveshell.py\", line 2818, in run_ast_nodes\n    if self.run_code(code, result):\n  File \"/home/babu/.local/lib/python2.7/site-packages/IPython/core/interactiveshell.py\", line 2878, in run_code\n    exec(code_obj, self.user_global_ns, self.user_ns)\n  File \"<ipython-input-3-d98e72072d8b>\", line 2, in <module>\n    dms = DanceModelService.get_instance()\n  File \"model_service.py\", line 25, in get_instance\n    cls.__instance = cls(load_iter_no, iter_or_best, max_to_keep)\n  File \"model_service.py\", line 54, in __init__\n    self.loader[network] = tf.train.Saver(self.model.params[network])\n  File \"/usr/local/lib/python2.7/dist-packages/tensorflow/python/training/saver.py\", line 1284, in __init__\n    self.build()\n  File \"/usr/local/lib/python2.7/dist-packages/tensorflow/python/training/saver.py\", line 1296, in build\n    self._build(self._filename, build_save=True, build_restore=True)\n  File \"/usr/local/lib/python2.7/dist-packages/tensorflow/python/training/saver.py\", line 1333, in _build\n    build_save=build_save, build_restore=build_restore)\n  File \"/usr/local/lib/python2.7/dist-packages/tensorflow/python/training/saver.py\", line 781, in _build_internal\n    restore_sequentially, reshape)\n  File \"/usr/local/lib/python2.7/dist-packages/tensorflow/python/training/saver.py\", line 400, in _AddRestoreOps\n    restore_sequentially)\n  File \"/usr/local/lib/python2.7/dist-packages/tensorflow/python/training/saver.py\", line 832, in bulk_restore\n    return io_ops.restore_v2(filename_tensor, names, slices, dtypes)\n  File \"/usr/local/lib/python2.7/dist-packages/tensorflow/python/ops/gen_io_ops.py\", line 1463, in restore_v2\n    shape_and_slices=shape_and_slices, dtypes=dtypes, name=name)\n  File \"/usr/local/lib/python2.7/dist-packages/tensorflow/python/framework/op_def_library.py\", line 787, in _apply_op_helper\n    op_def=op_def)\n  File \"/usr/local/lib/python2.7/dist-packages/tensorflow/python/framework/ops.py\", line 3414, in create_op\n    op_def=op_def)\n  File \"/usr/local/lib/python2.7/dist-packages/tensorflow/python/framework/ops.py\", line 1740, in __init__\n    self._traceback = self._graph._extract_stack()  # pylint: disable=protected-access\n\nNotFoundError (see above for traceback): Unsuccessful TensorSliceReader constructor: Failed to find any matching files for ../weights_x_cyclic/all/encoder_iter-35200\n\t [[Node: save_2/RestoreV2 = RestoreV2[dtypes=[DT_FLOAT, DT_FLOAT, DT_FLOAT, DT_FLOAT, DT_FLOAT, DT_FLOAT, DT_FLOAT, DT_FLOAT, DT_FLOAT, DT_FLOAT], _device=\"/job:localhost/replica:0/task:0/device:CPU:0\"](_arg_save_2/Const_0_0, save_2/RestoreV2/tensor_names, save_2/RestoreV2/shape_and_slices)]]\n"
     ]
    },
    {
     "data": {
      "text/plain": [
       "<matplotlib.figure.Figure at 0x7f13b7eaf850>"
      ]
     },
     "metadata": {},
     "output_type": "display_data"
    }
   ],
   "source": [
    "from model_service import DanceModelService\n",
    "dms = DanceModelService.get_instance()\n",
    "dms.load_weights(iter_no=35200, iter_or_best='iter', dir_name='load')"
   ]
  },
  {
   "cell_type": "code",
   "execution_count": 4,
   "metadata": {},
   "outputs": [
    {
     "name": "stderr",
     "output_type": "stream",
     "text": [
      "[src: cmu.py: 131] INFO: __populate_data(): Populating CMU Data\n"
     ]
    },
    {
     "name": "stdout",
     "output_type": "stream",
     "text": [
      "../../../datasets/cmu/selected/005/005_01_sk_fit.mat\n",
      "../../../datasets/cmu/selected/005/005_02_sk_fit.mat\n",
      "../../../datasets/cmu/selected/005/005_03_sk_fit.mat\n",
      "../../../datasets/cmu/selected/005/005_04_sk_fit.mat\n",
      "../../../datasets/cmu/selected/005/005_05_sk_fit.mat\n",
      "../../../datasets/cmu/selected/005/005_06_sk_fit.mat\n",
      "../../../datasets/cmu/selected/005/005_07_sk_fit.mat\n",
      "../../../datasets/cmu/selected/005/005_08_sk_fit.mat\n",
      "../../../datasets/cmu/selected/005/005_09_sk_fit.mat\n",
      "../../../datasets/cmu/selected/005/005_10_sk_fit.mat\n",
      "../../../datasets/cmu/selected/005/005_11_sk_fit.mat\n",
      "../../../datasets/cmu/selected/005/005_12_sk_fit.mat\n",
      "../../../datasets/cmu/selected/005/005_13_sk_fit.mat\n",
      "../../../datasets/cmu/selected/005/005_14_sk_fit.mat\n",
      "../../../datasets/cmu/selected/005/005_15_sk_fit.mat\n",
      "../../../datasets/cmu/selected/005/005_16_sk_fit.mat\n",
      "../../../datasets/cmu/selected/005/005_17_sk_fit.mat\n",
      "../../../datasets/cmu/selected/005/005_18_sk_fit.mat\n",
      "../../../datasets/cmu/selected/005/005_19_sk_fit.mat\n",
      "../../../datasets/cmu/selected/005/005_20_sk_fit.mat\n",
      "../../../datasets/cmu/selected/015/015_01_sk_fit.mat\n",
      "../../../datasets/cmu/selected/015/015_02_sk_fit.mat\n",
      "../../../datasets/cmu/selected/015/015_03_sk_fit.mat\n",
      "../../../datasets/cmu/selected/015/015_04_sk_fit.mat\n",
      "../../../datasets/cmu/selected/015/015_05_sk_fit.mat\n",
      "../../../datasets/cmu/selected/015/015_06_sk_fit.mat\n",
      "../../../datasets/cmu/selected/015/015_07_sk_fit.mat\n",
      "../../../datasets/cmu/selected/015/015_08_sk_fit.mat\n",
      "../../../datasets/cmu/selected/015/015_09_sk_fit.mat\n",
      "../../../datasets/cmu/selected/015/015_10_sk_fit.mat\n",
      "../../../datasets/cmu/selected/015/015_11_sk_fit.mat\n",
      "../../../datasets/cmu/selected/015/015_12_sk_fit.mat\n",
      "../../../datasets/cmu/selected/015/015_13_sk_fit.mat\n",
      "../../../datasets/cmu/selected/015/015_14_sk_fit.mat\n",
      "../../../datasets/cmu/selected/018/018_15_sk_fit.mat\n",
      "../../../datasets/cmu/selected/019/019_15_sk_fit.mat\n",
      "../../../datasets/cmu/selected/020/020_01_sk_fit.mat\n",
      "../../../datasets/cmu/selected/021/021_01_sk_fit.mat\n",
      "../../../datasets/cmu/selected/049/049_01_sk_fit.mat\n",
      "../../../datasets/cmu/selected/049/049_02_sk_fit.mat\n",
      "../../../datasets/cmu/selected/049/049_03_sk_fit.mat\n",
      "../../../datasets/cmu/selected/049/049_04_sk_fit.mat\n",
      "../../../datasets/cmu/selected/049/049_05_sk_fit.mat\n",
      "../../../datasets/cmu/selected/049/049_06_sk_fit.mat\n",
      "../../../datasets/cmu/selected/049/049_07_sk_fit.mat\n",
      "../../../datasets/cmu/selected/049/049_08_sk_fit.mat\n",
      "../../../datasets/cmu/selected/049/049_09_sk_fit.mat\n",
      "../../../datasets/cmu/selected/049/049_10_sk_fit.mat\n",
      "../../../datasets/cmu/selected/049/049_11_sk_fit.mat\n",
      "../../../datasets/cmu/selected/049/049_12_sk_fit.mat\n",
      "../../../datasets/cmu/selected/049/049_13_sk_fit.mat\n",
      "../../../datasets/cmu/selected/049/049_14_sk_fit.mat\n",
      "../../../datasets/cmu/selected/049/049_15_sk_fit.mat\n",
      "../../../datasets/cmu/selected/049/049_16_sk_fit.mat\n",
      "../../../datasets/cmu/selected/049/049_17_sk_fit.mat\n",
      "../../../datasets/cmu/selected/049/049_18_sk_fit.mat\n",
      "../../../datasets/cmu/selected/049/049_19_sk_fit.mat\n",
      "../../../datasets/cmu/selected/049/049_20_sk_fit.mat\n",
      "../../../datasets/cmu/selected/049/049_21_sk_fit.mat\n",
      "../../../datasets/cmu/selected/049/049_22_sk_fit.mat\n",
      "../../../datasets/cmu/selected/055/055_01_sk_fit.mat\n",
      "../../../datasets/cmu/selected/055/055_02_sk_fit.mat\n",
      "../../../datasets/cmu/selected/055/055_12_sk_fit.mat\n",
      "../../../datasets/cmu/selected/055/055_25_sk_fit.mat\n",
      "../../../datasets/cmu/selected/055/055_27_sk_fit.mat\n",
      "../../../datasets/cmu/selected/060/060_01_sk_fit.mat\n",
      "../../../datasets/cmu/selected/060/060_02_sk_fit.mat\n",
      "../../../datasets/cmu/selected/060/060_03_sk_fit.mat\n",
      "../../../datasets/cmu/selected/060/060_04_sk_fit.mat\n",
      "../../../datasets/cmu/selected/060/060_05_sk_fit.mat\n",
      "../../../datasets/cmu/selected/060/060_06_sk_fit.mat\n",
      "../../../datasets/cmu/selected/060/060_07_sk_fit.mat\n",
      "../../../datasets/cmu/selected/060/060_08_sk_fit.mat\n",
      "../../../datasets/cmu/selected/060/060_09_sk_fit.mat\n",
      "../../../datasets/cmu/selected/060/060_10_sk_fit.mat\n",
      "../../../datasets/cmu/selected/060/060_11_sk_fit.mat\n",
      "../../../datasets/cmu/selected/060/060_12_sk_fit.mat\n",
      "../../../datasets/cmu/selected/060/060_13_sk_fit.mat\n",
      "../../../datasets/cmu/selected/060/060_14_sk_fit.mat\n",
      "../../../datasets/cmu/selected/060/060_15_sk_fit.mat\n",
      "../../../datasets/cmu/selected/061/061_01_sk_fit.mat\n",
      "../../../datasets/cmu/selected/061/061_02_sk_fit.mat\n",
      "../../../datasets/cmu/selected/061/061_03_sk_fit.mat\n",
      "../../../datasets/cmu/selected/061/061_04_sk_fit.mat\n",
      "../../../datasets/cmu/selected/061/061_05_sk_fit.mat\n",
      "../../../datasets/cmu/selected/061/061_06_sk_fit.mat\n",
      "../../../datasets/cmu/selected/061/061_07_sk_fit.mat\n",
      "../../../datasets/cmu/selected/061/061_08_sk_fit.mat\n",
      "../../../datasets/cmu/selected/061/061_09_sk_fit.mat\n",
      "../../../datasets/cmu/selected/061/061_10_sk_fit.mat\n",
      "../../../datasets/cmu/selected/061/061_11_sk_fit.mat\n",
      "../../../datasets/cmu/selected/061/061_12_sk_fit.mat\n",
      "../../../datasets/cmu/selected/061/061_13_sk_fit.mat\n",
      "../../../datasets/cmu/selected/061/061_14_sk_fit.mat\n",
      "../../../datasets/cmu/selected/061/061_15_sk_fit.mat\n",
      "../../../datasets/cmu/selected/076/076_01_sk_fit.mat\n",
      "../../../datasets/cmu/selected/076/076_02_sk_fit.mat\n",
      "../../../datasets/cmu/selected/076/076_03_sk_fit.mat\n",
      "../../../datasets/cmu/selected/076/076_04_sk_fit.mat\n",
      "../../../datasets/cmu/selected/076/076_05_sk_fit.mat\n",
      "../../../datasets/cmu/selected/076/076_06_sk_fit.mat\n",
      "../../../datasets/cmu/selected/076/076_07_sk_fit.mat\n",
      "../../../datasets/cmu/selected/076/076_08_sk_fit.mat\n",
      "../../../datasets/cmu/selected/076/076_09_sk_fit.mat\n",
      "../../../datasets/cmu/selected/076/076_10_sk_fit.mat\n",
      "../../../datasets/cmu/selected/076/076_11_sk_fit.mat\n",
      "../../../datasets/cmu/selected/085/085_01_sk_fit.mat\n",
      "../../../datasets/cmu/selected/085/085_02_sk_fit.mat\n",
      "../../../datasets/cmu/selected/085/085_03_sk_fit.mat\n",
      "../../../datasets/cmu/selected/085/085_04_sk_fit.mat\n",
      "../../../datasets/cmu/selected/085/085_05_sk_fit.mat\n",
      "../../../datasets/cmu/selected/085/085_06_sk_fit.mat\n",
      "../../../datasets/cmu/selected/085/085_07_sk_fit.mat\n",
      "../../../datasets/cmu/selected/085/085_08_sk_fit.mat\n",
      "../../../datasets/cmu/selected/085/085_09_sk_fit.mat\n",
      "../../../datasets/cmu/selected/085/085_10_sk_fit.mat\n",
      "../../../datasets/cmu/selected/085/085_11_sk_fit.mat\n",
      "../../../datasets/cmu/selected/085/085_12_sk_fit.mat\n",
      "../../../datasets/cmu/selected/085/085_13_sk_fit.mat\n",
      "../../../datasets/cmu/selected/085/085_14_sk_fit.mat\n",
      "../../../datasets/cmu/selected/085/085_15_sk_fit.mat\n",
      "../../../datasets/cmu/selected/087/087_01_sk_fit.mat\n",
      "../../../datasets/cmu/selected/087/087_02_sk_fit.mat\n",
      "../../../datasets/cmu/selected/087/087_03_sk_fit.mat\n",
      "../../../datasets/cmu/selected/087/087_04_sk_fit.mat\n",
      "../../../datasets/cmu/selected/087/087_05_sk_fit.mat\n",
      "../../../datasets/cmu/selected/088/088_01_sk_fit.mat\n",
      "../../../datasets/cmu/selected/088/088_02_sk_fit.mat\n",
      "../../../datasets/cmu/selected/088/088_03_sk_fit.mat\n",
      "../../../datasets/cmu/selected/088/088_04_sk_fit.mat\n",
      "../../../datasets/cmu/selected/088/088_05_sk_fit.mat\n",
      "../../../datasets/cmu/selected/088/088_06_sk_fit.mat\n",
      "../../../datasets/cmu/selected/088/088_07_sk_fit.mat\n",
      "../../../datasets/cmu/selected/088/088_08_sk_fit.mat\n",
      "../../../datasets/cmu/selected/088/088_09_sk_fit.mat\n",
      "../../../datasets/cmu/selected/088/088_10_sk_fit.mat\n",
      "../../../datasets/cmu/selected/088/088_11_sk_fit.mat\n",
      "../../../datasets/cmu/selected/089/089_01_sk_fit.mat\n",
      "../../../datasets/cmu/selected/089/089_02_sk_fit.mat\n",
      "../../../datasets/cmu/selected/089/089_03_sk_fit.mat\n",
      "../../../datasets/cmu/selected/089/089_04_sk_fit.mat\n",
      "../../../datasets/cmu/selected/089/089_05_sk_fit.mat\n",
      "../../../datasets/cmu/selected/089/089_06_sk_fit.mat\n",
      "../../../datasets/cmu/selected/090/090_01_sk_fit.mat\n",
      "../../../datasets/cmu/selected/090/090_02_sk_fit.mat\n",
      "../../../datasets/cmu/selected/090/090_03_sk_fit.mat\n",
      "../../../datasets/cmu/selected/090/090_04_sk_fit.mat\n",
      "../../../datasets/cmu/selected/090/090_05_sk_fit.mat\n",
      "../../../datasets/cmu/selected/090/090_06_sk_fit.mat\n",
      "../../../datasets/cmu/selected/090/090_07_sk_fit.mat\n",
      "../../../datasets/cmu/selected/090/090_08_sk_fit.mat\n",
      "../../../datasets/cmu/selected/090/090_09_sk_fit.mat\n",
      "../../../datasets/cmu/selected/090/090_10_sk_fit.mat\n",
      "../../../datasets/cmu/selected/090/090_11_sk_fit.mat\n",
      "../../../datasets/cmu/selected/090/090_12_sk_fit.mat\n",
      "../../../datasets/cmu/selected/090/090_13_sk_fit.mat\n",
      "../../../datasets/cmu/selected/090/090_14_sk_fit.mat\n",
      "../../../datasets/cmu/selected/090/090_15_sk_fit.mat\n",
      "../../../datasets/cmu/selected/090/090_16_sk_fit.mat\n",
      "../../../datasets/cmu/selected/090/090_17_sk_fit.mat\n",
      "../../../datasets/cmu/selected/090/090_18_sk_fit.mat\n",
      "../../../datasets/cmu/selected/090/090_19_sk_fit.mat\n",
      "../../../datasets/cmu/selected/090/090_20_sk_fit.mat\n",
      "../../../datasets/cmu/selected/090/090_21_sk_fit.mat\n",
      "../../../datasets/cmu/selected/090/090_22_sk_fit.mat\n",
      "../../../datasets/cmu/selected/090/090_23_sk_fit.mat\n",
      "../../../datasets/cmu/selected/090/090_24_sk_fit.mat\n",
      "../../../datasets/cmu/selected/090/090_25_sk_fit.mat\n",
      "../../../datasets/cmu/selected/090/090_26_sk_fit.mat\n",
      "../../../datasets/cmu/selected/090/090_27_sk_fit.mat\n",
      "../../../datasets/cmu/selected/090/090_28_sk_fit.mat\n",
      "../../../datasets/cmu/selected/090/090_29_sk_fit.mat\n",
      "../../../datasets/cmu/selected/090/090_30_sk_fit.mat\n",
      "../../../datasets/cmu/selected/090/090_31_sk_fit.mat\n",
      "../../../datasets/cmu/selected/090/090_32_sk_fit.mat\n",
      "../../../datasets/cmu/selected/090/090_33_sk_fit.mat\n",
      "../../../datasets/cmu/selected/090/090_34_sk_fit.mat\n",
      "../../../datasets/cmu/selected/090/090_35_sk_fit.mat\n",
      "../../../datasets/cmu/selected/090/090_36_sk_fit.mat\n",
      "../../../datasets/cmu/selected/093/093_01_sk_fit.mat\n",
      "../../../datasets/cmu/selected/093/093_02_sk_fit.mat\n"
     ]
    },
    {
     "name": "stdout",
     "output_type": "stream",
     "text": [
      "../../../datasets/cmu/selected/093/093_03_sk_fit.mat\n",
      "../../../datasets/cmu/selected/093/093_04_sk_fit.mat\n",
      "../../../datasets/cmu/selected/093/093_05_sk_fit.mat\n",
      "../../../datasets/cmu/selected/093/093_06_sk_fit.mat\n",
      "../../../datasets/cmu/selected/093/093_07_sk_fit.mat\n",
      "../../../datasets/cmu/selected/093/093_08_sk_fit.mat\n",
      "../../../datasets/cmu/selected/094/094_01_sk_fit.mat\n",
      "../../../datasets/cmu/selected/094/094_02_sk_fit.mat\n",
      "../../../datasets/cmu/selected/094/094_03_sk_fit.mat\n",
      "../../../datasets/cmu/selected/094/094_04_sk_fit.mat\n",
      "../../../datasets/cmu/selected/094/094_05_sk_fit.mat\n",
      "../../../datasets/cmu/selected/094/094_06_sk_fit.mat\n",
      "../../../datasets/cmu/selected/094/094_07_sk_fit.mat\n",
      "../../../datasets/cmu/selected/094/094_08_sk_fit.mat\n",
      "../../../datasets/cmu/selected/094/094_09_sk_fit.mat\n",
      "../../../datasets/cmu/selected/094/094_10_sk_fit.mat\n",
      "../../../datasets/cmu/selected/094/094_11_sk_fit.mat\n",
      "../../../datasets/cmu/selected/094/094_12_sk_fit.mat\n",
      "../../../datasets/cmu/selected/094/094_13_sk_fit.mat\n",
      "../../../datasets/cmu/selected/094/094_14_sk_fit.mat\n",
      "../../../datasets/cmu/selected/094/094_15_sk_fit.mat\n",
      "../../../datasets/cmu/selected/094/094_16_sk_fit.mat\n",
      "../../../datasets/cmu/selected/103/103_01_sk_fit.mat\n",
      "../../../datasets/cmu/selected/103/103_02_sk_fit.mat\n",
      "../../../datasets/cmu/selected/103/103_03_sk_fit.mat\n",
      "../../../datasets/cmu/selected/103/103_04_sk_fit.mat\n",
      "../../../datasets/cmu/selected/103/103_05_sk_fit.mat\n",
      "../../../datasets/cmu/selected/103/103_06_sk_fit.mat\n",
      "../../../datasets/cmu/selected/103/103_07_sk_fit.mat\n",
      "../../../datasets/cmu/selected/103/103_08_sk_fit.mat\n",
      "../../../datasets/cmu/selected/111/111_05_sk_fit.mat\n",
      "../../../datasets/cmu/selected/113/113_04_sk_fit.mat\n",
      "../../../datasets/cmu/selected/120/120_05_sk_fit.mat\n",
      "../../../datasets/cmu/selected/120/120_06_sk_fit.mat\n",
      "../../../datasets/cmu/selected/120/120_07_sk_fit.mat\n",
      "../../../datasets/cmu/selected/135/135_01_sk_fit.mat\n",
      "../../../datasets/cmu/selected/135/135_02_sk_fit.mat\n",
      "../../../datasets/cmu/selected/135/135_03_sk_fit.mat\n",
      "../../../datasets/cmu/selected/135/135_04_sk_fit.mat\n"
     ]
    },
    {
     "name": "stderr",
     "output_type": "stream",
     "text": [
      "[src: cmu.py: 137] INFO: __populate_data(): CMU Data populated\n",
      "\n",
      "[src: datasets.py:  37] INFO: __init__(): Dataset initialized...\n"
     ]
    },
    {
     "name": "stdout",
     "output_type": "stream",
     "text": [
      "../../../datasets/cmu/selected/135/135_05_sk_fit.mat\n",
      "../../../datasets/cmu/selected/135/135_06_sk_fit.mat\n",
      "../../../datasets/cmu/selected/135/135_07_sk_fit.mat\n",
      "../../../datasets/cmu/selected/135/135_08_sk_fit.mat\n",
      "../../../datasets/cmu/selected/135/135_09_sk_fit.mat\n",
      "../../../datasets/cmu/selected/135/135_10_sk_fit.mat\n",
      "../../../datasets/cmu/selected/135/135_11_sk_fit.mat\n",
      "../../../datasets/cmu/selected/141/141_12_sk_fit.mat\n",
      "../../../datasets/cmu/selected/143/143_34_sk_fit.mat\n",
      "../../../datasets/cmu/selected/143/143_35_sk_fit.mat\n"
     ]
    }
   ],
   "source": [
    "from data_loader import DataLoader\n",
    "data_loader = DataLoader(60)\n",
    "num_batches_train = data_loader.get_num_batches('train', H.train_batch_size)\n",
    "x_batch, tuples = data_loader.get_train_sequence_batch(1000, 0)\n",
    "x_batch = x_batch[:, :, :17]\n",
    "labels = x_batch[:, 1:, :]"
   ]
  },
  {
   "cell_type": "code",
   "execution_count": 5,
   "metadata": {},
   "outputs": [
    {
     "name": "stdout",
     "output_type": "stream",
     "text": [
      "(1000, 60, 17, 3)\n"
     ]
    }
   ],
   "source": [
    "print x_batch.shape"
   ]
  },
  {
   "cell_type": "code",
   "execution_count": 6,
   "metadata": {},
   "outputs": [
    {
     "data": {
      "text/plain": [
       "(1000, 256)"
      ]
     },
     "execution_count": 6,
     "metadata": {},
     "output_type": "execute_result"
    }
   ],
   "source": [
    "pred_ops = dms.predict(x_batch)\n",
    "predictions = pred_ops\n",
    "predictions.shape"
   ]
  },
  {
   "cell_type": "code",
   "execution_count": 13,
   "metadata": {},
   "outputs": [
    {
     "name": "stdout",
     "output_type": "stream",
     "text": [
      "(256,)\n",
      "(256,)\n",
      "('minimum vaue of mean ', -0.39696729)\n",
      "('minimum value of std ', 0.022942964)\n",
      "('maximum value of mean', 0.40537712)\n",
      "('maximum value of std', 0.07443475)\n"
     ]
    }
   ],
   "source": [
    "mean = np.mean(predictions, axis=0)\n",
    "std = np.std(predictions,axis=0)\n",
    "\n",
    "print mean.shape\n",
    "print std.shape\n",
    "\n",
    "# x_pred = dms.decode(predictions)\n",
    "# x_pred.shape\n",
    "\n",
    "# imgs = sk_utils.get_skeleton_images(x_pred[0], title_prefix='p')\n",
    "# len(imgs)\n",
    "print('minimum vaue of mean ', min(mean))\n",
    "print('minimum value of std ', min(std))\n",
    "print('maximum value of mean', max(mean))\n",
    "print('maximum value of std', max(std))\n"
   ]
  },
  {
   "cell_type": "code",
   "execution_count": 8,
   "metadata": {},
   "outputs": [],
   "source": [
    "sample_1 = mean+(2*std)\n",
    "sample_2 = mean-(2*std)\n",
    "sample_1 = np.reshape(sample_1 , (1,256))\n",
    "sample_2 = np.reshape(sample_2 , (1,256))\n",
    "map_d = 120\n"
   ]
  },
  {
   "cell_type": "code",
   "execution_count": 9,
   "metadata": {},
   "outputs": [],
   "source": [
    "a = np.linspace(0,1, map_d)\n",
    "a = np.reshape(a, (map_d,1))\n"
   ]
  },
  {
   "cell_type": "code",
   "execution_count": 10,
   "metadata": {},
   "outputs": [],
   "source": [
    "vertical = a*sample_1[:,:128] + (1-a)*sample_2[:,:128]\n",
    "\n",
    "assert (vertical[0] == sample_2[0,:128]).all()"
   ]
  },
  {
   "cell_type": "code",
   "execution_count": 11,
   "metadata": {},
   "outputs": [],
   "source": [
    "horizontal = a*sample_1[:,128:] + (1-a)*sample_2[:,128:]\n",
    "\n",
    "assert (horizontal[0] == sample_2[0,128:]).all()"
   ]
  },
  {
   "cell_type": "code",
   "execution_count": 12,
   "metadata": {},
   "outputs": [
    {
     "name": "stdout",
     "output_type": "stream",
     "text": [
      "(120, 128)\n",
      "(120, 128)\n"
     ]
    }
   ],
   "source": [
    "print(vertical.shape)\n",
    "print horizontal.shape"
   ]
  },
  {
   "cell_type": "code",
   "execution_count": 15,
   "metadata": {},
   "outputs": [],
   "source": [
    "grid = np.empty((map_d,map_d,256))"
   ]
  },
  {
   "cell_type": "code",
   "execution_count": 16,
   "metadata": {},
   "outputs": [],
   "source": [
    "for i in range(map_d):\n",
    "    for j in range(map_d):\n",
    "        grid[i,j] = np.concatenate((vertical[i], horizontal[j]))"
   ]
  },
  {
   "cell_type": "code",
   "execution_count": 17,
   "metadata": {},
   "outputs": [
    {
     "name": "stdout",
     "output_type": "stream",
     "text": [
      "(120, 120, 256)\n",
      "(14400, 256)\n"
     ]
    }
   ],
   "source": [
    "grid_flat = np.reshape(grid, (-1,256))\n",
    "\n",
    "print grid.shape\n",
    "print grid_flat.shape"
   ]
  },
  {
   "cell_type": "code",
   "execution_count": 18,
   "metadata": {},
   "outputs": [
    {
     "name": "stdout",
     "output_type": "stream",
     "text": [
      "(14400, 60, 17, 3)\n"
     ]
    }
   ],
   "source": [
    "pred_ops = dms.decode(grid_flat)\n",
    "predictions = pred_ops\n",
    "print(predictions.shape)"
   ]
  },
  {
   "cell_type": "code",
   "execution_count": 19,
   "metadata": {},
   "outputs": [
    {
     "name": "stdout",
     "output_type": "stream",
     "text": [
      "(14400, 60)\n"
     ]
    }
   ],
   "source": [
    "predictions = np.mean(predictions, axis=-1)\n",
    "predictions = np.mean(predictions, axis=-1)\n",
    "\n",
    "print predictions.shape"
   ]
  },
  {
   "cell_type": "code",
   "execution_count": 20,
   "metadata": {},
   "outputs": [
    {
     "name": "stdout",
     "output_type": "stream",
     "text": [
      "(14400, 59)\n"
     ]
    }
   ],
   "source": [
    "velocity = predictions[:,1:] - predictions[:,:-1]\n",
    "speed = np.absolute(velocity)\n",
    "\n",
    "print(speed.shape)"
   ]
  },
  {
   "cell_type": "code",
   "execution_count": 14,
   "metadata": {},
   "outputs": [
    {
     "ename": "NameError",
     "evalue": "name 'speed' is not defined",
     "output_type": "error",
     "traceback": [
      "\u001b[0;31m---------------------------------------------------------------------------\u001b[0m",
      "\u001b[0;31mNameError\u001b[0m                                 Traceback (most recent call last)",
      "\u001b[0;32m<ipython-input-14-f938b2ff6332>\u001b[0m in \u001b[0;36m<module>\u001b[0;34m()\u001b[0m\n\u001b[0;32m----> 1\u001b[0;31m \u001b[0mspeed\u001b[0m  \u001b[0;34m=\u001b[0m \u001b[0mnp\u001b[0m\u001b[0;34m.\u001b[0m\u001b[0mmean\u001b[0m\u001b[0;34m(\u001b[0m\u001b[0mspeed\u001b[0m\u001b[0;34m,\u001b[0m \u001b[0maxis\u001b[0m\u001b[0;34m=\u001b[0m\u001b[0;34m-\u001b[0m\u001b[0;36m1\u001b[0m\u001b[0;34m)\u001b[0m\u001b[0;34m\u001b[0m\u001b[0m\n\u001b[0m\u001b[1;32m      2\u001b[0m \u001b[0;34m\u001b[0m\u001b[0m\n\u001b[1;32m      3\u001b[0m \u001b[0mspeed\u001b[0m \u001b[0;34m=\u001b[0m \u001b[0mnp\u001b[0m\u001b[0;34m.\u001b[0m\u001b[0mreshape\u001b[0m\u001b[0;34m(\u001b[0m\u001b[0mspeed\u001b[0m\u001b[0;34m,\u001b[0m \u001b[0;34m(\u001b[0m\u001b[0mmap_d\u001b[0m\u001b[0;34m,\u001b[0m\u001b[0mmap_d\u001b[0m\u001b[0;34m)\u001b[0m\u001b[0;34m)\u001b[0m\u001b[0;34m\u001b[0m\u001b[0m\n\u001b[1;32m      4\u001b[0m \u001b[0;34m\u001b[0m\u001b[0m\n\u001b[1;32m      5\u001b[0m \u001b[0;32mprint\u001b[0m\u001b[0;34m(\u001b[0m\u001b[0mspeed\u001b[0m\u001b[0;34m.\u001b[0m\u001b[0mshape\u001b[0m\u001b[0;34m)\u001b[0m\u001b[0;34m\u001b[0m\u001b[0m\n",
      "\u001b[0;31mNameError\u001b[0m: name 'speed' is not defined"
     ]
    }
   ],
   "source": [
    "speed  = np.mean(speed, axis=-1)\n",
    "\n",
    "speed = np.reshape(speed, (map_d,map_d))\n",
    "\n",
    "print(speed.shape)\n",
    "\n"
   ]
  },
  {
   "cell_type": "code",
   "execution_count": 32,
   "metadata": {},
   "outputs": [],
   "source": [
    "import matplotlib.pyplot as plt\n",
    "%matplotlib inline  "
   ]
  },
  {
   "cell_type": "code",
   "execution_count": 38,
   "metadata": {},
   "outputs": [
    {
     "data": {
      "image/png": "[encoded data removed]",
      "text/plain": [
       "<matplotlib.figure.Figure at 0x7f20b4ab6890>"
      ]
     },
     "metadata": {
      "needs_background": "light"
     },
     "output_type": "display_data"
    }
   ],
   "source": [
    "plt.imshow(speed, cmap='hot', interpolation='nearest')\n",
    "plt.savefig(\"test.svg\", format=\"svg\")\n",
    "plt.show()"
   ]
  },
  {
   "cell_type": "code",
   "execution_count": null,
   "metadata": {},
   "outputs": [],
   "source": [
    "a = np.argmax(speed)\n",
    "\n",
    "c  = np.unravel_index(a, speed.shape)\n",
    "\n",
    "print c\n"
   ]
  },
  {
   "cell_type": "code",
   "execution_count": null,
   "metadata": {},
   "outputs": [],
   "source": [
    "for i in range(-4,5):\n",
    "    l = mean + i*std\n",
    "    l = np.reshape(l, (1,256))\n",
    "    x_pred = dms.decode(l)\n",
    "    imgs = sk_utils.get_skeleton_images(x_pred[0], title_prefix='p')\n",
    "    writer = imageio.get_writer('../normal/predictions/op_{}.mp4'.format(i), fps=30)\n",
    "    for j, im in enumerate(imgs):\n",
    "        writer.append_data(im)\n",
    "        if j % 10 == 0:\n",
    "            print 'done with %d frames' % j\n",
    "    writer.close()\n",
    "\n",
    "    "
   ]
  },
  {
   "cell_type": "code",
   "execution_count": null,
   "metadata": {},
   "outputs": [],
   "source": [
    "# fig = plt.figure(figsize=(10, 12))\n",
    "# fig.savefig('../yolo.png')"
   ]
  },
  {
   "cell_type": "markdown",
   "metadata": {},
   "source": [
    "# DATA GT comparison\n"
   ]
  },
  {
   "cell_type": "code",
   "execution_count": null,
   "metadata": {},
   "outputs": [],
   "source": [
    "%load_ext autoreload\n",
    "%autoreload 2"
   ]
  },
  {
   "cell_type": "code",
   "execution_count": null,
   "metadata": {},
   "outputs": [],
   "source": []
  },
  {
   "cell_type": "code",
   "execution_count": null,
   "metadata": {},
   "outputs": [],
   "source": [
    "x_zds_real_seq1 = dms.decode(zds_real_seq2)\n",
    "x_zds_real_seq1.shape"
   ]
  },
  {
   "cell_type": "code",
   "execution_count": null,
   "metadata": {},
   "outputs": [],
   "source": [
    "imgs = sk_utils.get_skeleton_images(x_zds_real_seq1[77], title_prefix='p')\n",
    "# writer = imageio.get_writer('../results/gen/inter/martial_salsa/gt-1.mp4', fps=30)\n",
    "# for i, im in enumerate(imgs):\n",
    "#     writer.append_data(im)\n",
    "# writer.close()"
   ]
  },
  {
   "cell_type": "code",
   "execution_count": null,
   "metadata": {},
   "outputs": [],
   "source": [
    "from matplotlib.gridspec import GridSpec\n",
    "from pose.commons.vis_util import Ax3DPose\n",
    "def create_skeleton_grid(skkk_batch, nrows, ncols):\n",
    "    assert sk_batch.shape[0] <= nrows * ncols, 'Number skeletons exceeds the grid capacity'\n",
    "    fig = plt.figure(figsize=(ncols * 2, nrows * 2))\n",
    "    spec = GridSpec(nrows, ncols, figure=fig, hspace=0.0, wspace=0.0)\n",
    "    axes = []\n",
    "0    for i in range(nrows):\n",
    "        for j in range(ncols):\n",
    "            axes.append(Ax3DPose(fig.add_subplot(spec[i, j], projection='3d')))\n",
    "    for k in range(len(sk_batch)):\n",
    "        axes[k].update(sk_batch[k])\n",
    "    return fig"
   ]
  },
  {
   "cell_type": "code",
   "execution_count": null,
   "metadata": {},
   "outputs": [],
   "source": [
    "import matplotlib\n",
    "%matplotlib notebook\n",
    "import matplotlib.pyplot as plt\n",
    "\n",
    "import tensorflow as tf\n",
    "from termcolor import colored\n",
    "import random\n",
    "from mpl_toolkits.mplot3d import Axes3D\n",
    "import numpy as np\n",
    "import io\n",
    "limb_parents = [0, 0, 1, 2, 3, 1, 5, 6, 1, 0, 9, 10, 11, 0, 13, 14, 15]\n",
    "import cv2\n",
    "def get_figure():           \n",
    "    fig = plt.figure(frameon=False, figsize=(8, 8))\n",
    "    fig.clf()\n",
    "    return fig\n",
    "\n",
    "\n",
    "def draw_limbs_3d_plt(joints_3d, ax, limb_parents=limb_parents, z_flip = True):\n",
    "    for i in range(joints_3d.shape[0]):\n",
    "        x_pair = [joints_3d[i, 0], joints_3d[limb_parents[i], 0]]\n",
    "        y_pair = [joints_3d[i, 1], joints_3d[limb_parents[i], 1]]\n",
    "        z_pair = [joints_3d[i, 2], joints_3d[limb_parents[i], 2]]\n",
    "        ax.plot(z_pair, x_pair, y_pair, linewidth=3, antialiased=True)\n",
    "        \n",
    "def get_ax(joints_3d, fig, az=0, ele=10, subplot='111'):\n",
    "    x,y,z  =subplot\n",
    "    ax = fig.add_subplot(x,y,z, projection='3d')\n",
    "\n",
    "    lim = np.max(np.abs(joints_3d))\n",
    "    ax.view_init(azim=az, elev=ele)\n",
    "    \n",
    "    ax.set_xlim(-lim, lim)\n",
    "    ax.set_ylim(-lim, lim)\n",
    "    ax.set_zlim(-lim, lim)\n",
    "    ax.set_xlabel('x')\n",
    "    ax.set_ylabel('y')\n",
    "    ax.set_zlabel('z')\n",
    "    \n",
    "    return ax\n",
    "        \n",
    "def get_skeleton_plot(joints_3d, ax, limb_parents=limb_parents, title=\"\", z_flip=True):\n",
    "#     fig = plt.figure(frameon=False, figsize=(7, 7))\n",
    "    draw_limbs_3d_plt(joints_3d, ax, limb_parents, z_flip)\n",
    "    plt.title(title)\n",
    "\n",
    "\n",
    "def plot_skeleton(joints_3d, ax, limb_parents=limb_parents, title=\"\", z_flip=True):\n",
    "    get_skeleton_plot(joints_3d, ax, limb_parents, title, z_flip=z_flip)\n",
    "\n",
    "\n",
    "def plot_skeleton_and_scatter(ske,ax, mono=False):\n",
    "    plot_skeleton(ske,ax,z_flip=mono)\n",
    "\n",
    "\n",
    "\n",
    "def plot_skeleton_and_scatter_mask(ske, mask, ax, mono=False):\n",
    "    plot_skeleton(ske,ax,z_flip=mono)\n",
    "\n",
    "def gen_plot(fig, x_recon, inputs, sequence, random_idx, name, switch):\n",
    "    ax = get_ax(x_recon, fig, subplot= (1,1,1), az=90)\n",
    "    plot_skeleton_and_scatter(x_recon, ax)"
   ]
  }
 ],
 "metadata": {
  "kernelspec": {
   "display_name": "Python 2",
   "language": "python",
   "name": "python2"
  },
  "language_info": {
   "codemirror_mode": {
    "name": "ipython",
    "version": 2
   },
   "file_extension": ".py",
   "mimetype": "text/x-python",
   "name": "python",
   "nbconvert_exporter": "python",
   "pygments_lexer": "ipython2",
   "version": "2.7.15+"
  }
 },
 "nbformat": 4,
 "nbformat_minor": 2
}
