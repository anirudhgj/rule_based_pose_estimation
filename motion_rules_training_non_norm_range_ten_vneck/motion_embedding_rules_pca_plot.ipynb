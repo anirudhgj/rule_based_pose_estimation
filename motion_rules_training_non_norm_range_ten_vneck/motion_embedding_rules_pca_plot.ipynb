{
 "cells": [
  {
   "cell_type": "code",
   "execution_count": 1,
   "metadata": {},
   "outputs": [
    {
     "name": "stdout",
     "output_type": "stream",
     "text": [
      "Tensor(\"Const:0\", shape=(3,), dtype=float32)\n",
      "Tensor(\"Const_1:0\", shape=(17, 3), dtype=float32)\n"
     ]
    }
   ],
   "source": [
    "import os\n",
    "import matplotlib\n",
    "matplotlib.use(\"Agg\")\n",
    "import numpy as np\n",
    "from numpy import pi\n",
    "import tensorflow as tf\n",
    "import matplotlib.pyplot as plt\n",
    "import scipy.io as sio\n",
    "import cv2\n",
    "import logging,argparse\n",
    "from data_loader import Data_loader\n",
    "import model \n",
    "from hyperparams import Hyperparameters\n",
    "import utils\n",
    "from commons import tf_transform\n",
    "import graph\n",
    "from termcolor import colored \n",
    "import model_componets as comps\n",
    "from commons import transform_util\n",
    "import rules_numpy\n",
    "import glob\n",
    "from natsort import natsorted"
   ]
  },
  {
   "cell_type": "code",
   "execution_count": 2,
   "metadata": {},
   "outputs": [
    {
     "name": "stdout",
     "output_type": "stream",
     "text": [
      "\u001b[31mcode started\u001b[0m\n"
     ]
    }
   ],
   "source": [
    "print colored(\"code started\",\"red\")\n",
    "\n",
    "H = Hyperparameters ()\n",
    "D = Data_loader(H.data_path,H.seq_length,H.batch_size)\n",
    "os.environ['CUDA_VISIBLE_DEVICES'] = str(1)\n",
    "config = tf.ConfigProto()\n",
    "config.gpu_options.allow_growth = True\n",
    "sess = tf.InteractiveSession(config=config)"
   ]
  },
  {
   "cell_type": "code",
   "execution_count": null,
   "metadata": {},
   "outputs": [
    {
     "name": "stdout",
     "output_type": "stream",
     "text": [
      "WARNING:tensorflow:From commons/tf_transform.py:17: calling norm (from tensorflow.python.ops.linalg_ops) with keep_dims is deprecated and will be removed in a future version.\n",
      "Instructions for updating:\n",
      "keep_dims is deprecated, use keepdims instead\n",
      "WARNING:tensorflow:From commons/tf_transform.py:21: calling reduce_sum (from tensorflow.python.ops.math_ops) with keep_dims is deprecated and will be removed in a future version.\n",
      "Instructions for updating:\n",
      "keep_dims is deprecated, use keepdims instead\n",
      "\u001b[34mloading weights\u001b[0m\n",
      "INFO:tensorflow:Restoring parameters from ../pose_embedding_training_non_norm_range_ten_vneck/pretrained_weights/encoder_iter-1475001\n",
      "\u001b[33mloaded pose_encoder weights\u001b[0m\n",
      "INFO:tensorflow:Restoring parameters from ../pose_embedding_training_non_norm_range_ten_vneck/pretrained_weights/decoder_iter-1475001\n",
      "\u001b[34mloaded pose_decoder weights\u001b[0m\n",
      "INFO:tensorflow:Restoring parameters from ../motion_embedding_training_non_norm_range_ten_vneck/pretrained_weights/lstm_encoder/motion_net_expt_seq30_HuMaMpi91500\n",
      "\u001b[32mloaded pose lstm_encoder weights\u001b[0m\n",
      "INFO:tensorflow:Restoring parameters from ../motion_embedding_training_non_norm_range_ten_vneck/pretrained_weights/lstm_decoder/motion_net_expt_seq30_HuMaMpi91500\n",
      "\u001b[32mloaded pose lstm_decoder weights\u001b[0m\n",
      "INFO:tensorflow:Restoring parameters from ./weights/FlippedForwardNormalBackward/motion_net_expt_seq30_HuMaMpi2600\n"
     ]
    }
   ],
   "source": [
    "input_ph = tf.placeholder(tf.float32, shape= [None , H.num_joints ,3],name = 'skeleton_input')#without transformation \n",
    "gt_ph = tf.placeholder(tf.float32 , shape = [None, H.num_joints , 3], name = 'gt_input') #with transformation\n",
    "global_step = tf.train.get_or_create_global_step()\n",
    "\n",
    "def build_graph(model_input,rule_name,gt_flag = False ):\n",
    "    encoder_out = graph.apply_pose_encoder(model_input)#root relative\n",
    "    pose_encoder_params = graph.get_network_params(\"Encoder_net\")#embeddings\n",
    "    encoder_input = tf.reshape(encoder_out,(-1,H.seq_length,32))#sequence of embeddings\n",
    "    encoder_lstm_out = model.apply_encoder(encoder_input,name ='motion_encoder')#motion embeddings\n",
    "    z_state = encoder_lstm_out['z_state']\n",
    "    z_outputs = encoder_lstm_out['z_outputs']\n",
    "    if gt_flag == False:\n",
    "        rule_net_out = model.apply_rule_net(z_state,rule_name)  ### NEWLY ADDED\n",
    "        rule_state = rule_net_out['mapped_state'] ### NEWLY ADDED\n",
    "        rule_outputs = rule_net_out['mapped_outputs'] ### NEWLY ADDED\n",
    "    else :\n",
    "        rule_net_out = encoder_lstm_out\n",
    "        rule_state = z_state\n",
    "        rule_outputs = z_outputs\n",
    "    decoder_lstm_out = model.apply_decoder(rule_state,rule_outputs,name = 'motion_decoder')\n",
    "    motion_recon = decoder_lstm_out['x_recon']\n",
    "    motion_recon_reshaped = tf.reshape(motion_recon,((-1,32)))\n",
    "    pose_recon = graph.apply_pose_decoder(motion_recon_reshaped)#view norm\n",
    "    pose_decoder_params = graph.get_network_params(\"Decoder_net\")\n",
    "    rule_meta_outputs = {\n",
    "        'model_input' : model_input,\n",
    "        'encoder_lstm_out' : encoder_lstm_out,\n",
    "        'rule_net_out' : rule_net_out,\n",
    "        'decoder_lstm_out' : decoder_lstm_out,\n",
    "        'pose_recon' : pose_recon,\n",
    "        'pose_encoder_params' : pose_encoder_params,\n",
    "        'pose_decoder_params' : pose_decoder_params\n",
    "    }\n",
    "\n",
    "    return rule_meta_outputs\n",
    "\n",
    "preds = build_graph(input_ph,H.rule_network_name,gt_flag = False)\n",
    "gt = build_graph(gt_ph,H.rule_network_name,gt_flag = True)\n",
    "\n",
    "\n",
    "preds_rule_state = preds['rule_net_out']['mapped_state']\n",
    "preds_enco_state = preds['encoder_lstm_out']['z_state']\n",
    "gt_rule_state = gt['encoder_lstm_out']['z_state']\n",
    "\n",
    "pose_decoder_preds = preds['pose_recon']\n",
    "\n",
    "\n",
    "# loss = tf.reduce_mean((preds_rule_state - gt_rule_state )** 2)\n",
    "# loss_summary = tf.summary.scalar('loss',loss)\n",
    "# summary_op = tf.summary.merge_all()\n",
    "\n",
    "pose_encoder_params = preds['pose_encoder_params']\n",
    "pose_decoder_params = preds['pose_decoder_params']\n",
    "param_lstm_encoder = model.get_network_params('motion_encoder')\n",
    "param_lstm_decoder = model.get_network_params('motion_decoder')\n",
    "rule_network_params = model.get_network_params(H.rule_network_name)\n",
    "\n",
    "vars_to_minimize = tf.get_collection(tf.GraphKeys.TRAINABLE_VARIABLES, scope=H.rule_network_name) \n",
    "# loss_optimizer  = tf.train.RMSPropOptimizer(learning_rate=0.001).minimize(loss =loss,global_step=global_step,var_list = vars_to_minimize)\n",
    "\n",
    "sess.run(tf.global_variables_initializer())\n",
    "\n",
    "print colored(\"loading weights\",\"blue\")\n",
    "\n",
    "tf.train.Saver(pose_encoder_params).restore(sess,'../pose_embedding_training_non_norm_range_ten_vneck/pretrained_weights/encoder_iter-1475001')\n",
    "print colored(\"loaded pose_encoder weights\",\"yellow\")\n",
    "\n",
    "tf.train.Saver(pose_decoder_params).restore(sess,'../pose_embedding_training_non_norm_range_ten_vneck/pretrained_weights/decoder_iter-1475001')\n",
    "print colored(\"loaded pose_decoder weights\",\"blue\")\n",
    "\n",
    "tf.train.Saver(param_lstm_encoder).restore(sess,'../motion_embedding_training_non_norm_range_ten_vneck/pretrained_weights/lstm_encoder/motion_net_expt_seq30_HuMaMpi91500')\n",
    "print colored(\"loaded pose lstm_encoder weights\",\"green\")\n",
    "#\n",
    "tf.train.Saver(param_lstm_decoder).restore(sess,'../motion_embedding_training_non_norm_range_ten_vneck/pretrained_weights/lstm_decoder/motion_net_expt_seq30_HuMaMpi91500')\n",
    "print colored(\"loaded pose lstm_decoder weights\",\"green\")\n",
    "\n",
    "tf.train.Saver(vars_to_minimize).restore(sess,tf.train.latest_checkpoint('./weights/FlippedForwardNormalBackward/'))\n",
    "print colored(\"loaded Rule weights\",\"green\")\n",
    "\n"
   ]
  },
  {
   "cell_type": "code",
   "execution_count": 4,
   "metadata": {},
   "outputs": [],
   "source": [
    "# train_batch = np.asarray(D.get_sequence_batch_train())\n",
    "# # train_batch = np.asarray(utils.augment_pose_seq(train_batch))\n",
    "# train_batch = np.reshape((train_batch[:,0:30]),(-1,H.num_joints , 3))\n",
    "# train_batch_cp = train_batch.reshape((-1,H.seq_length,H.num_joints * 3))\n",
    "# gt_batch_reverse = np.array([list(reversed(i)) for i in train_batch_cp])\n",
    "# gt_batch_reverse_flip = rules_numpy.x_flip(gt_batch_reverse.reshape((-1,H.num_joints,3)))\n",
    "\n",
    "def get_normal_to_flip_data():\n",
    "    train_batch = np.asarray(D.get_sequence_batch_train())\n",
    "    train_batch = np.asarray(utils.augment_pose_seq(train_batch))\n",
    "    train_batch = np.reshape((train_batch[:,0:30]),(-1,H.num_joints , 3))\n",
    "    train_batch_cp = train_batch.reshape((-1,H.seq_length,H.num_joints * 3))\n",
    "    gt_batch_reverse = np.array([list(reversed(i)) for i in train_batch_cp]).reshape((-1,H.num_joints,3))\n",
    "    return train_batch,gt_batch_reverse\n",
    "\n",
    "\n",
    "def get_flipped_forward_to_normal_backward():\n",
    "    train_batch = np.asarray(D.get_sequence_batch_train())\n",
    "    train_batch = np.asarray(utils.augment_pose_seq(train_batch))\n",
    "    train_batch = np.reshape((train_batch[:,0:30]),(-1,H.num_joints , 3))\n",
    "    train_batch_cp = train_batch.reshape((-1,H.seq_length,H.num_joints * 3)).copy()\n",
    "    train_batch_flip = rules_numpy.x_flip(train_batch)\n",
    "    gt_batch_reverse = np.array([list(reversed(i)) for i in train_batch_cp]).reshape((-1,H.num_joints,3))#sequence reverse\n",
    "    return train_batch_flip , gt_batch_reverse\n",
    "\n",
    "train_batch,gt_batch_reverse = get_normal_to_flip_data()\n",
    "train_batch_flip , gt_batch_reverse = get_flipped_forward_to_normal_backward()\n",
    "\n"
   ]
  },
  {
   "cell_type": "code",
   "execution_count": 5,
   "metadata": {},
   "outputs": [
    {
     "ename": "InternalError",
     "evalue": "Blas xGEMMBatched launch failed : a.shape=[1920,3,3], b.shape=[1920,3,1], m=3, n=1, k=3, batch_size=1920\n\t [[Node: MatMul = BatchMatMul[T=DT_FLOAT, adj_x=false, adj_y=false, _device=\"/job:localhost/replica:0/task:0/device:GPU:0\"](concat_1, strided_slice_24)]]\n\t [[Node: motion_encoder/fully_connected/mul/_203 = _Recv[client_terminated=false, recv_device=\"/job:localhost/replica:0/task:0/device:CPU:0\", send_device=\"/job:localhost/replica:0/task:0/device:GPU:0\", send_device_incarnation=1, tensor_name=\"edge_4006_motion_encoder/fully_connected/mul\", tensor_type=DT_FLOAT, _device=\"/job:localhost/replica:0/task:0/device:CPU:0\"]()]]\n\nCaused by op u'MatMul', defined at:\n  File \"/usr/lib/python2.7/runpy.py\", line 174, in _run_module_as_main\n    \"__main__\", fname, loader, pkg_name)\n  File \"/usr/lib/python2.7/runpy.py\", line 72, in _run_code\n    exec code in run_globals\n  File \"/data/vcl/sid/rahul/lib/python2.7/site-packages/ipykernel_launcher.py\", line 16, in <module>\n    app.launch_new_instance()\n  File \"/data/vcl/sid/rahul/local/lib/python2.7/site-packages/traitlets/config/application.py\", line 658, in launch_instance\n    app.start()\n  File \"/data/vcl/sid/rahul/local/lib/python2.7/site-packages/ipykernel/kernelapp.py\", line 499, in start\n    self.io_loop.start()\n  File \"/data/vcl/sid/rahul/local/lib/python2.7/site-packages/tornado/ioloop.py\", line 1017, in start\n    self._run_callback(self._callbacks.popleft())\n  File \"/data/vcl/sid/rahul/local/lib/python2.7/site-packages/tornado/ioloop.py\", line 758, in _run_callback\n    ret = callback()\n  File \"/data/vcl/sid/rahul/local/lib/python2.7/site-packages/tornado/stack_context.py\", line 300, in null_wrapper\n    return fn(*args, **kwargs)\n  File \"/data/vcl/sid/rahul/local/lib/python2.7/site-packages/zmq/eventloop/zmqstream.py\", line 536, in <lambda>\n    self.io_loop.add_callback(lambda : self._handle_events(self.socket, 0))\n  File \"/data/vcl/sid/rahul/local/lib/python2.7/site-packages/zmq/eventloop/zmqstream.py\", line 450, in _handle_events\n    self._handle_recv()\n  File \"/data/vcl/sid/rahul/local/lib/python2.7/site-packages/zmq/eventloop/zmqstream.py\", line 480, in _handle_recv\n    self._run_callback(callback, msg)\n  File \"/data/vcl/sid/rahul/local/lib/python2.7/site-packages/zmq/eventloop/zmqstream.py\", line 432, in _run_callback\n    callback(*args, **kwargs)\n  File \"/data/vcl/sid/rahul/local/lib/python2.7/site-packages/tornado/stack_context.py\", line 300, in null_wrapper\n    return fn(*args, **kwargs)\n  File \"/data/vcl/sid/rahul/local/lib/python2.7/site-packages/ipykernel/kernelbase.py\", line 283, in dispatcher\n    return self.dispatch_shell(stream, msg)\n  File \"/data/vcl/sid/rahul/local/lib/python2.7/site-packages/ipykernel/kernelbase.py\", line 233, in dispatch_shell\n    handler(stream, idents, msg)\n  File \"/data/vcl/sid/rahul/local/lib/python2.7/site-packages/ipykernel/kernelbase.py\", line 399, in execute_request\n    user_expressions, allow_stdin)\n  File \"/data/vcl/sid/rahul/local/lib/python2.7/site-packages/ipykernel/ipkernel.py\", line 208, in do_execute\n    res = shell.run_cell(code, store_history=store_history, silent=silent)\n  File \"/data/vcl/sid/rahul/local/lib/python2.7/site-packages/ipykernel/zmqshell.py\", line 537, in run_cell\n    return super(ZMQInteractiveShell, self).run_cell(*args, **kwargs)\n  File \"/data/vcl/sid/rahul/local/lib/python2.7/site-packages/IPython/core/interactiveshell.py\", line 2714, in run_cell\n    interactivity=interactivity, compiler=compiler, result=result)\n  File \"/data/vcl/sid/rahul/local/lib/python2.7/site-packages/IPython/core/interactiveshell.py\", line 2818, in run_ast_nodes\n    if self.run_code(code, result):\n  File \"/data/vcl/sid/rahul/local/lib/python2.7/site-packages/IPython/core/interactiveshell.py\", line 2878, in run_code\n    exec(code_obj, self.user_global_ns, self.user_ns)\n  File \"<ipython-input-3-bf09378d87bf>\", line 37, in <module>\n    preds = build_graph(input_ph,H.rule_network_name,gt_flag = False)\n  File \"<ipython-input-3-bf09378d87bf>\", line 6, in build_graph\n    encoder_out = graph.apply_pose_encoder(model_input)#root relative\n  File \"graph.py\", line 12, in apply_pose_encoder\n    x_root_relative, x_local_real = comps.root_relative_to_local(x_real)\n  File \"model_componets.py\", line 124, in root_relative_to_local\n    sk_batch_local = tr.tf_global2local(skeleton_batch)\n  File \"commons/tf_transform.py\", line 99, in tf_global2local\n    dSl[i] = tf.matmul(R, dS[i][:, :, None])[:, :, 0]\n  File \"/data/vcl/sid/rahul/local/lib/python2.7/site-packages/tensorflow/python/ops/math_ops.py\", line 1976, in matmul\n    a, b, adj_x=adjoint_a, adj_y=adjoint_b, name=name)\n  File \"/data/vcl/sid/rahul/local/lib/python2.7/site-packages/tensorflow/python/ops/gen_math_ops.py\", line 1236, in batch_mat_mul\n    \"BatchMatMul\", x=x, y=y, adj_x=adj_x, adj_y=adj_y, name=name)\n  File \"/data/vcl/sid/rahul/local/lib/python2.7/site-packages/tensorflow/python/framework/op_def_library.py\", line 787, in _apply_op_helper\n    op_def=op_def)\n  File \"/data/vcl/sid/rahul/local/lib/python2.7/site-packages/tensorflow/python/framework/ops.py\", line 3414, in create_op\n    op_def=op_def)\n  File \"/data/vcl/sid/rahul/local/lib/python2.7/site-packages/tensorflow/python/framework/ops.py\", line 1740, in __init__\n    self._traceback = self._graph._extract_stack()  # pylint: disable=protected-access\n\nInternalError (see above for traceback): Blas xGEMMBatched launch failed : a.shape=[1920,3,3], b.shape=[1920,3,1], m=3, n=1, k=3, batch_size=1920\n\t [[Node: MatMul = BatchMatMul[T=DT_FLOAT, adj_x=false, adj_y=false, _device=\"/job:localhost/replica:0/task:0/device:GPU:0\"](concat_1, strided_slice_24)]]\n\t [[Node: motion_encoder/fully_connected/mul/_203 = _Recv[client_terminated=false, recv_device=\"/job:localhost/replica:0/task:0/device:CPU:0\", send_device=\"/job:localhost/replica:0/task:0/device:GPU:0\", send_device_incarnation=1, tensor_name=\"edge_4006_motion_encoder/fully_connected/mul\", tensor_type=DT_FLOAT, _device=\"/job:localhost/replica:0/task:0/device:CPU:0\"]()]]\n",
     "output_type": "error",
     "traceback": [
      "\u001b[0;31m---------------------------------------------------------------------------\u001b[0m",
      "\u001b[0;31mInternalError\u001b[0m                             Traceback (most recent call last)",
      "\u001b[0;32m<ipython-input-5-9e052d213dfc>\u001b[0m in \u001b[0;36m<module>\u001b[0;34m()\u001b[0m\n\u001b[1;32m      1\u001b[0m \u001b[0mfeed_dict\u001b[0m \u001b[0;34m=\u001b[0m \u001b[0;34m{\u001b[0m\u001b[0minput_ph\u001b[0m \u001b[0;34m:\u001b[0m \u001b[0mtrain_batch_flip\u001b[0m \u001b[0;34m,\u001b[0m \u001b[0mgt_ph\u001b[0m \u001b[0;34m:\u001b[0m \u001b[0mgt_batch_reverse\u001b[0m\u001b[0;34m}\u001b[0m\u001b[0;34m\u001b[0m\u001b[0m\n\u001b[0;32m----> 2\u001b[0;31m \u001b[0mop_train_dict\u001b[0m \u001b[0;34m=\u001b[0m \u001b[0msess\u001b[0m\u001b[0;34m.\u001b[0m\u001b[0mrun\u001b[0m\u001b[0;34m(\u001b[0m\u001b[0;34m{\u001b[0m \u001b[0;34m'preds_rule_state'\u001b[0m\u001b[0;34m:\u001b[0m \u001b[0mpreds_rule_state\u001b[0m \u001b[0;34m,\u001b[0m \u001b[0;34m'preds_enco_state'\u001b[0m\u001b[0;34m:\u001b[0m\u001b[0mpreds_enco_state\u001b[0m\u001b[0;34m}\u001b[0m\u001b[0;34m,\u001b[0m \u001b[0mfeed_dict\u001b[0m\u001b[0;34m=\u001b[0m\u001b[0mfeed_dict\u001b[0m\u001b[0;34m)\u001b[0m\u001b[0;34m\u001b[0m\u001b[0m\n\u001b[0m\u001b[1;32m      3\u001b[0m \u001b[0;34m\u001b[0m\u001b[0m\n\u001b[1;32m      4\u001b[0m \u001b[0;34m\u001b[0m\u001b[0m\n\u001b[1;32m      5\u001b[0m \u001b[0;31m# feed_dict_first = {input_ph : train_batch , gt_ph : train_batch}\u001b[0m\u001b[0;34m\u001b[0m\u001b[0;34m\u001b[0m\u001b[0m\n",
      "\u001b[0;32m/data/vcl/sid/rahul/local/lib/python2.7/site-packages/tensorflow/python/client/session.pyc\u001b[0m in \u001b[0;36mrun\u001b[0;34m(self, fetches, feed_dict, options, run_metadata)\u001b[0m\n\u001b[1;32m    898\u001b[0m     \u001b[0;32mtry\u001b[0m\u001b[0;34m:\u001b[0m\u001b[0;34m\u001b[0m\u001b[0m\n\u001b[1;32m    899\u001b[0m       result = self._run(None, fetches, feed_dict, options_ptr,\n\u001b[0;32m--> 900\u001b[0;31m                          run_metadata_ptr)\n\u001b[0m\u001b[1;32m    901\u001b[0m       \u001b[0;32mif\u001b[0m \u001b[0mrun_metadata\u001b[0m\u001b[0;34m:\u001b[0m\u001b[0;34m\u001b[0m\u001b[0m\n\u001b[1;32m    902\u001b[0m         \u001b[0mproto_data\u001b[0m \u001b[0;34m=\u001b[0m \u001b[0mtf_session\u001b[0m\u001b[0;34m.\u001b[0m\u001b[0mTF_GetBuffer\u001b[0m\u001b[0;34m(\u001b[0m\u001b[0mrun_metadata_ptr\u001b[0m\u001b[0;34m)\u001b[0m\u001b[0;34m\u001b[0m\u001b[0m\n",
      "\u001b[0;32m/data/vcl/sid/rahul/local/lib/python2.7/site-packages/tensorflow/python/client/session.pyc\u001b[0m in \u001b[0;36m_run\u001b[0;34m(self, handle, fetches, feed_dict, options, run_metadata)\u001b[0m\n\u001b[1;32m   1133\u001b[0m     \u001b[0;32mif\u001b[0m \u001b[0mfinal_fetches\u001b[0m \u001b[0;32mor\u001b[0m \u001b[0mfinal_targets\u001b[0m \u001b[0;32mor\u001b[0m \u001b[0;34m(\u001b[0m\u001b[0mhandle\u001b[0m \u001b[0;32mand\u001b[0m \u001b[0mfeed_dict_tensor\u001b[0m\u001b[0;34m)\u001b[0m\u001b[0;34m:\u001b[0m\u001b[0;34m\u001b[0m\u001b[0m\n\u001b[1;32m   1134\u001b[0m       results = self._do_run(handle, final_targets, final_fetches,\n\u001b[0;32m-> 1135\u001b[0;31m                              feed_dict_tensor, options, run_metadata)\n\u001b[0m\u001b[1;32m   1136\u001b[0m     \u001b[0;32melse\u001b[0m\u001b[0;34m:\u001b[0m\u001b[0;34m\u001b[0m\u001b[0m\n\u001b[1;32m   1137\u001b[0m       \u001b[0mresults\u001b[0m \u001b[0;34m=\u001b[0m \u001b[0;34m[\u001b[0m\u001b[0;34m]\u001b[0m\u001b[0;34m\u001b[0m\u001b[0m\n",
      "\u001b[0;32m/data/vcl/sid/rahul/local/lib/python2.7/site-packages/tensorflow/python/client/session.pyc\u001b[0m in \u001b[0;36m_do_run\u001b[0;34m(self, handle, target_list, fetch_list, feed_dict, options, run_metadata)\u001b[0m\n\u001b[1;32m   1314\u001b[0m     \u001b[0;32mif\u001b[0m \u001b[0mhandle\u001b[0m \u001b[0;32mis\u001b[0m \u001b[0mNone\u001b[0m\u001b[0;34m:\u001b[0m\u001b[0;34m\u001b[0m\u001b[0m\n\u001b[1;32m   1315\u001b[0m       return self._do_call(_run_fn, feeds, fetches, targets, options,\n\u001b[0;32m-> 1316\u001b[0;31m                            run_metadata)\n\u001b[0m\u001b[1;32m   1317\u001b[0m     \u001b[0;32melse\u001b[0m\u001b[0;34m:\u001b[0m\u001b[0;34m\u001b[0m\u001b[0m\n\u001b[1;32m   1318\u001b[0m       \u001b[0;32mreturn\u001b[0m \u001b[0mself\u001b[0m\u001b[0;34m.\u001b[0m\u001b[0m_do_call\u001b[0m\u001b[0;34m(\u001b[0m\u001b[0m_prun_fn\u001b[0m\u001b[0;34m,\u001b[0m \u001b[0mhandle\u001b[0m\u001b[0;34m,\u001b[0m \u001b[0mfeeds\u001b[0m\u001b[0;34m,\u001b[0m \u001b[0mfetches\u001b[0m\u001b[0;34m)\u001b[0m\u001b[0;34m\u001b[0m\u001b[0m\n",
      "\u001b[0;32m/data/vcl/sid/rahul/local/lib/python2.7/site-packages/tensorflow/python/client/session.pyc\u001b[0m in \u001b[0;36m_do_call\u001b[0;34m(self, fn, *args)\u001b[0m\n\u001b[1;32m   1333\u001b[0m         \u001b[0;32mexcept\u001b[0m \u001b[0mKeyError\u001b[0m\u001b[0;34m:\u001b[0m\u001b[0;34m\u001b[0m\u001b[0m\n\u001b[1;32m   1334\u001b[0m           \u001b[0;32mpass\u001b[0m\u001b[0;34m\u001b[0m\u001b[0m\n\u001b[0;32m-> 1335\u001b[0;31m       \u001b[0;32mraise\u001b[0m \u001b[0mtype\u001b[0m\u001b[0;34m(\u001b[0m\u001b[0me\u001b[0m\u001b[0;34m)\u001b[0m\u001b[0;34m(\u001b[0m\u001b[0mnode_def\u001b[0m\u001b[0;34m,\u001b[0m \u001b[0mop\u001b[0m\u001b[0;34m,\u001b[0m \u001b[0mmessage\u001b[0m\u001b[0;34m)\u001b[0m\u001b[0;34m\u001b[0m\u001b[0m\n\u001b[0m\u001b[1;32m   1336\u001b[0m \u001b[0;34m\u001b[0m\u001b[0m\n\u001b[1;32m   1337\u001b[0m   \u001b[0;32mdef\u001b[0m \u001b[0m_extend_graph\u001b[0m\u001b[0;34m(\u001b[0m\u001b[0mself\u001b[0m\u001b[0;34m)\u001b[0m\u001b[0;34m:\u001b[0m\u001b[0;34m\u001b[0m\u001b[0m\n",
      "\u001b[0;31mInternalError\u001b[0m: Blas xGEMMBatched launch failed : a.shape=[1920,3,3], b.shape=[1920,3,1], m=3, n=1, k=3, batch_size=1920\n\t [[Node: MatMul = BatchMatMul[T=DT_FLOAT, adj_x=false, adj_y=false, _device=\"/job:localhost/replica:0/task:0/device:GPU:0\"](concat_1, strided_slice_24)]]\n\t [[Node: motion_encoder/fully_connected/mul/_203 = _Recv[client_terminated=false, recv_device=\"/job:localhost/replica:0/task:0/device:CPU:0\", send_device=\"/job:localhost/replica:0/task:0/device:GPU:0\", send_device_incarnation=1, tensor_name=\"edge_4006_motion_encoder/fully_connected/mul\", tensor_type=DT_FLOAT, _device=\"/job:localhost/replica:0/task:0/device:CPU:0\"]()]]\n\nCaused by op u'MatMul', defined at:\n  File \"/usr/lib/python2.7/runpy.py\", line 174, in _run_module_as_main\n    \"__main__\", fname, loader, pkg_name)\n  File \"/usr/lib/python2.7/runpy.py\", line 72, in _run_code\n    exec code in run_globals\n  File \"/data/vcl/sid/rahul/lib/python2.7/site-packages/ipykernel_launcher.py\", line 16, in <module>\n    app.launch_new_instance()\n  File \"/data/vcl/sid/rahul/local/lib/python2.7/site-packages/traitlets/config/application.py\", line 658, in launch_instance\n    app.start()\n  File \"/data/vcl/sid/rahul/local/lib/python2.7/site-packages/ipykernel/kernelapp.py\", line 499, in start\n    self.io_loop.start()\n  File \"/data/vcl/sid/rahul/local/lib/python2.7/site-packages/tornado/ioloop.py\", line 1017, in start\n    self._run_callback(self._callbacks.popleft())\n  File \"/data/vcl/sid/rahul/local/lib/python2.7/site-packages/tornado/ioloop.py\", line 758, in _run_callback\n    ret = callback()\n  File \"/data/vcl/sid/rahul/local/lib/python2.7/site-packages/tornado/stack_context.py\", line 300, in null_wrapper\n    return fn(*args, **kwargs)\n  File \"/data/vcl/sid/rahul/local/lib/python2.7/site-packages/zmq/eventloop/zmqstream.py\", line 536, in <lambda>\n    self.io_loop.add_callback(lambda : self._handle_events(self.socket, 0))\n  File \"/data/vcl/sid/rahul/local/lib/python2.7/site-packages/zmq/eventloop/zmqstream.py\", line 450, in _handle_events\n    self._handle_recv()\n  File \"/data/vcl/sid/rahul/local/lib/python2.7/site-packages/zmq/eventloop/zmqstream.py\", line 480, in _handle_recv\n    self._run_callback(callback, msg)\n  File \"/data/vcl/sid/rahul/local/lib/python2.7/site-packages/zmq/eventloop/zmqstream.py\", line 432, in _run_callback\n    callback(*args, **kwargs)\n  File \"/data/vcl/sid/rahul/local/lib/python2.7/site-packages/tornado/stack_context.py\", line 300, in null_wrapper\n    return fn(*args, **kwargs)\n  File \"/data/vcl/sid/rahul/local/lib/python2.7/site-packages/ipykernel/kernelbase.py\", line 283, in dispatcher\n    return self.dispatch_shell(stream, msg)\n  File \"/data/vcl/sid/rahul/local/lib/python2.7/site-packages/ipykernel/kernelbase.py\", line 233, in dispatch_shell\n    handler(stream, idents, msg)\n  File \"/data/vcl/sid/rahul/local/lib/python2.7/site-packages/ipykernel/kernelbase.py\", line 399, in execute_request\n    user_expressions, allow_stdin)\n  File \"/data/vcl/sid/rahul/local/lib/python2.7/site-packages/ipykernel/ipkernel.py\", line 208, in do_execute\n    res = shell.run_cell(code, store_history=store_history, silent=silent)\n  File \"/data/vcl/sid/rahul/local/lib/python2.7/site-packages/ipykernel/zmqshell.py\", line 537, in run_cell\n    return super(ZMQInteractiveShell, self).run_cell(*args, **kwargs)\n  File \"/data/vcl/sid/rahul/local/lib/python2.7/site-packages/IPython/core/interactiveshell.py\", line 2714, in run_cell\n    interactivity=interactivity, compiler=compiler, result=result)\n  File \"/data/vcl/sid/rahul/local/lib/python2.7/site-packages/IPython/core/interactiveshell.py\", line 2818, in run_ast_nodes\n    if self.run_code(code, result):\n  File \"/data/vcl/sid/rahul/local/lib/python2.7/site-packages/IPython/core/interactiveshell.py\", line 2878, in run_code\n    exec(code_obj, self.user_global_ns, self.user_ns)\n  File \"<ipython-input-3-bf09378d87bf>\", line 37, in <module>\n    preds = build_graph(input_ph,H.rule_network_name,gt_flag = False)\n  File \"<ipython-input-3-bf09378d87bf>\", line 6, in build_graph\n    encoder_out = graph.apply_pose_encoder(model_input)#root relative\n  File \"graph.py\", line 12, in apply_pose_encoder\n    x_root_relative, x_local_real = comps.root_relative_to_local(x_real)\n  File \"model_componets.py\", line 124, in root_relative_to_local\n    sk_batch_local = tr.tf_global2local(skeleton_batch)\n  File \"commons/tf_transform.py\", line 99, in tf_global2local\n    dSl[i] = tf.matmul(R, dS[i][:, :, None])[:, :, 0]\n  File \"/data/vcl/sid/rahul/local/lib/python2.7/site-packages/tensorflow/python/ops/math_ops.py\", line 1976, in matmul\n    a, b, adj_x=adjoint_a, adj_y=adjoint_b, name=name)\n  File \"/data/vcl/sid/rahul/local/lib/python2.7/site-packages/tensorflow/python/ops/gen_math_ops.py\", line 1236, in batch_mat_mul\n    \"BatchMatMul\", x=x, y=y, adj_x=adj_x, adj_y=adj_y, name=name)\n  File \"/data/vcl/sid/rahul/local/lib/python2.7/site-packages/tensorflow/python/framework/op_def_library.py\", line 787, in _apply_op_helper\n    op_def=op_def)\n  File \"/data/vcl/sid/rahul/local/lib/python2.7/site-packages/tensorflow/python/framework/ops.py\", line 3414, in create_op\n    op_def=op_def)\n  File \"/data/vcl/sid/rahul/local/lib/python2.7/site-packages/tensorflow/python/framework/ops.py\", line 1740, in __init__\n    self._traceback = self._graph._extract_stack()  # pylint: disable=protected-access\n\nInternalError (see above for traceback): Blas xGEMMBatched launch failed : a.shape=[1920,3,3], b.shape=[1920,3,1], m=3, n=1, k=3, batch_size=1920\n\t [[Node: MatMul = BatchMatMul[T=DT_FLOAT, adj_x=false, adj_y=false, _device=\"/job:localhost/replica:0/task:0/device:GPU:0\"](concat_1, strided_slice_24)]]\n\t [[Node: motion_encoder/fully_connected/mul/_203 = _Recv[client_terminated=false, recv_device=\"/job:localhost/replica:0/task:0/device:CPU:0\", send_device=\"/job:localhost/replica:0/task:0/device:GPU:0\", send_device_incarnation=1, tensor_name=\"edge_4006_motion_encoder/fully_connected/mul\", tensor_type=DT_FLOAT, _device=\"/job:localhost/replica:0/task:0/device:CPU:0\"]()]]\n"
     ]
    }
   ],
   "source": [
    "feed_dict = {input_ph : train_batch_flip , gt_ph : gt_batch_reverse}\n",
    "op_train_dict = sess.run({ 'preds_rule_state': preds_rule_state , 'preds_enco_state':preds_enco_state}, feed_dict=feed_dict)\n",
    "\n",
    "\n",
    "# feed_dict_first = {input_ph : train_batch , gt_ph : train_batch}\n",
    "# feed_dict_second = {input_ph : gt_batch_reverse , gt_ph : gt_batch_reverse}\n",
    "\n",
    "# op_train_dict_first = sess.run({ 'gt_rule_state': gt_rule_state}, feed_dict=feed_dict)\n",
    "# op_train_dict_second = sess.run({ 'gt_rule_state': gt_rule_state}, feed_dict=feed_dict)\n",
    "\n"
   ]
  },
  {
   "cell_type": "code",
   "execution_count": null,
   "metadata": {},
   "outputs": [],
   "source": [
    "op_train_dict['preds_rule_state'].shape\n",
    "# op_train_dict_first['gt_rule_state'].shape"
   ]
  },
  {
   "cell_type": "code",
   "execution_count": null,
   "metadata": {},
   "outputs": [],
   "source": [
    "op_train_dict['preds_enco_state'].shape"
   ]
  },
  {
   "cell_type": "code",
   "execution_count": null,
   "metadata": {},
   "outputs": [],
   "source": [
    "import matplotlib.pyplot as plt\n",
    "from sklearn.decomposition import PCA"
   ]
  },
  {
   "cell_type": "code",
   "execution_count": null,
   "metadata": {},
   "outputs": [],
   "source": [
    "pca = PCA(n_components=2)\n",
    "X_r = pca.fit(op_train_dict['preds_rule_state']).transform(op_train_dict['preds_rule_state'])\n",
    "%matplotlib inline\n",
    "plt.scatter(X_r[:,0][:2] , X_r[:,1][:2],color = 'red' , lw =2)"
   ]
  },
  {
   "cell_type": "code",
   "execution_count": 10,
   "metadata": {},
   "outputs": [
    {
     "data": {
      "text/plain": [
       "<matplotlib.collections.PathCollection at 0x7f7c36e42390>"
      ]
     },
     "execution_count": 10,
     "metadata": {},
     "output_type": "execute_result"
    },
    {
     "data": {
      "image/png": "[encoded data removed]",
      "text/plain": [
       "<Figure size 432x288 with 1 Axes>"
      ]
     },
     "metadata": {
      "needs_background": "light"
     },
     "output_type": "display_data"
    }
   ],
   "source": [
    "pca = PCA(n_components=2)\n",
    "Y_r = pca.fit(op_train_dict['preds_enco_state']).transform(op_train_dict['preds_enco_state'])\n",
    "%matplotlib inline\n",
    "plt.scatter(Y_r[:,0][:2] , Y_r[:,1][:2] , color = 'turquoise',lw =2 ,marker = '^')"
   ]
  },
  {
   "cell_type": "code",
   "execution_count": 11,
   "metadata": {},
   "outputs": [
    {
     "data": {
      "text/plain": [
       "<matplotlib.collections.PathCollection at 0x7f7c3548cc50>"
      ]
     },
     "execution_count": 11,
     "metadata": {},
     "output_type": "execute_result"
    },
    {
     "data": {
      "image/png": "[encoded data removed]",
      "text/plain": [
       "<Figure size 432x288 with 1 Axes>"
      ]
     },
     "metadata": {
      "needs_background": "light"
     },
     "output_type": "display_data"
    }
   ],
   "source": [
    "plt.scatter(list(X_r[:,0][:2]) + list(Y_r[:,0][:2]) , list(X_r[:,1][:2]) + list(Y_r[:,1][:2]) , color = 'turquoise',lw =2 ,marker = '^')"
   ]
  },
  {
   "cell_type": "code",
   "execution_count": 12,
   "metadata": {},
   "outputs": [
    {
     "data": {
      "text/plain": [
       "[-0.1893407, 1.5100745, -0.46805742, 1.202146]"
      ]
     },
     "execution_count": 12,
     "metadata": {},
     "output_type": "execute_result"
    }
   ],
   "source": [
    "list(X_r[:,0][:2]) + list(Y_r[:,0][:2])"
   ]
  },
  {
   "cell_type": "code",
   "execution_count": 14,
   "metadata": {},
   "outputs": [
    {
     "data": {
      "image/png": "[encoded data removed]",
      "text/plain": [
       "<Figure size 432x288 with 1 Axes>"
      ]
     },
     "metadata": {
      "needs_background": "light"
     },
     "output_type": "display_data"
    }
   ],
   "source": [
    "fig = plt.figure()\n",
    "\n",
    "ax1 = fig.add_subplot(111)\n",
    "\n",
    "ax1.scatter(X_r[:,0][:5] , X_r[:,1][:5],color = 'purple' , lw =4 , marker = '*',label = 'Flipped Forward')\n",
    "ax1.scatter(Y_r[:,0][:5] , Y_r[:,1][:5] , color = 'turquoise',lw =4 ,marker = '^' , label = 'Normal Backward')\n",
    "\n",
    "ax1.annotate(s='', xy=(X_r[0][0],X_r[0][1]), xytext=(Y_r[0][0],Y_r[0][1]), arrowprops=dict(arrowstyle='<->'))\n",
    "ax1.annotate(s='', xy=(X_r[1][0],X_r[1][1]), xytext=(Y_r[1][0],Y_r[1][1]), arrowprops=dict(arrowstyle='<->'))\n",
    "ax1.annotate(s='', xy=(X_r[2][0],X_r[2][1]), xytext=(Y_r[2][0],Y_r[2][1]), arrowprops=dict(arrowstyle='<->'))\n",
    "ax1.annotate(s='', xy=(X_r[3][0],X_r[3][1]), xytext=(Y_r[3][0],Y_r[3][1]), arrowprops=dict(arrowstyle='<->'))\n",
    "ax1.annotate(s='', xy=(X_r[4][0],X_r[4][1]), xytext=(Y_r[4][0],Y_r[4][1]), arrowprops=dict(arrowstyle='<->'))\n",
    "\n",
    "\n",
    "plt.legend(loc='lower left');\n",
    "plt.title('PCA of Motion Embeddings')\n",
    "\n",
    "plt.show()\n",
    "plt.savefig"
   ]
  },
  {
   "cell_type": "code",
   "execution_count": 23,
   "metadata": {},
   "outputs": [
    {
     "data": {
      "text/plain": [
       "array([ 2.2402766 , -0.09671997], dtype=float32)"
      ]
     },
     "execution_count": 23,
     "metadata": {},
     "output_type": "execute_result"
    }
   ],
   "source": [
    "X_r[0]"
   ]
  },
  {
   "cell_type": "code",
   "execution_count": 49,
   "metadata": {},
   "outputs": [
    {
     "data": {
      "text/plain": [
       "array([ 0,  1,  2,  3,  4,  5,  6,  7,  8,  9, 10, 11, 12, 13, 14, 15, 16,\n",
       "       17, 18, 19, 20, 21, 22, 23, 24, 25, 26, 27, 28, 29])"
      ]
     },
     "execution_count": 49,
     "metadata": {},
     "output_type": "execute_result"
    }
   ],
   "source": [
    "np.arange(30)"
   ]
  },
  {
   "cell_type": "code",
   "execution_count": null,
   "metadata": {},
   "outputs": [],
   "source": []
  },
  {
   "cell_type": "code",
   "execution_count": null,
   "metadata": {},
   "outputs": [],
   "source": []
  },
  {
   "cell_type": "code",
   "execution_count": 2,
   "metadata": {},
   "outputs": [],
   "source": [
    "import matplotlib\n",
    "# matplotlib.use('Agg')\n",
    "import glob\n",
    "import scipy.io as sio\n",
    "from natsort import natsorted\n",
    "import os\n",
    "import numpy as np\n",
    "import math\n",
    "import matplotlib.pyplot as plt\n",
    "import matplotlib.gridspec as gridspec\n",
    "import matplotlib.image as mpimg\n",
    "pi = math.pi\n",
    "from commons import transform_util,skeleton_utils,vis_image\n",
    "from termcolor import colored"
   ]
  },
  {
   "cell_type": "code",
   "execution_count": 3,
   "metadata": {},
   "outputs": [],
   "source": [
    "limb_parents = [0, 0, 1, 2, 3, 1, 5, 6, 1, 0, 9, 10, 11, 0, 13, 14, 15]#17joints\n",
    "# limb_parents = [0, 0, 1, 2, 3, 1, 5, 6, 1, 0, 9, 10, 0, 12, 13]#15joints\n",
    "\n",
    "def get_ax(joints_3d, fig, az=0, ele=10, subplot='111'):\n",
    "    x, y, z = subplot\n",
    "    ax = fig.add_subplot(subplot, projection='3d')\n",
    "\n",
    "    lim = np.max(np.abs(joints_3d))\n",
    "    ax.view_init(azim=az, elev=ele)\n",
    "\n",
    "    ax.set_xlim(-lim, lim)\n",
    "    ax.set_ylim(-lim, lim)\n",
    "    ax.set_zlim(-lim, lim)\n",
    "    ax.set_xlabel('x')\n",
    "    ax.set_ylabel('y')\n",
    "    ax.set_zlabel('z')\n",
    "\n",
    "    return ax\n",
    "\n",
    "def plot_skeleton(ax, ske,color_ours,az, ground_size=0.5):\n",
    "        lcolor = color_ours[0]\n",
    "        rcolor = color_ours[1]\n",
    "        ax.grid(False)\n",
    "#         # Hide axes ticks\n",
    "#         ax.set_xticks([])\n",
    "#         ax.set_yticks([])\n",
    "#         ax.set_zticks([])\n",
    "#         plt.axis('off')\n",
    "#         ax.set_aspect('equal')\n",
    "        ax.elev = 10\n",
    "        ax.azim = az\n",
    "#         ax.azim = 0 \n",
    "#         ax.dist = 9\n",
    "#         ax.set_xlim(-10, 10)\n",
    "#         ax.set_ylim(-10, 10)\n",
    "#         ax.set_zlim(-10, 10)\n",
    "        \n",
    "        \n",
    "\n",
    "        lim = np.max(np.abs(ske))\n",
    "#         ax.view_init(azim=az, elev=ele)\n",
    "\n",
    "        ax.set_xlim(-lim, lim)\n",
    "        ax.set_ylim(-lim, lim)\n",
    "        ax.set_zlim(-lim, lim)\n",
    "        \n",
    "        ax.set_xlabel('x',labelpad=-8)\n",
    "        ax.set_ylabel('y',labelpad=-8)\n",
    "        ax.set_zlabel('z',labelpad = -10)\n",
    "        ax.set_yticklabels([])\n",
    "        ax.set_xticklabels([])\n",
    "        ax.set_zticklabels([])\n",
    "        ax.axis('off')       \n",
    "\n",
    "\n",
    "\n",
    "\n",
    "        # ax.set_aspect('equal')\n",
    "\n",
    "#         ax.view_init(azim=90, elev=10)\n",
    "\n",
    "        C = [{0: lcolor,  1: rcolor}[flag] for flag in lr_flags]\n",
    "        P = limb_parents\n",
    "\n",
    "        # Make connection matrix\n",
    "#         joint_lines = []\n",
    "        for i in range(ske.shape[0]):\n",
    "            x = [ske[i, 0], ske[P[i], 0]]\n",
    "            y = [ske[i, 1], ske[P[i], 1]]\n",
    "            z = [ske[i, 2], ske[P[i], 2]]\n",
    "#             x = [ske[i, 0]*1.2, ske[P[i]*1.2, 0]]\n",
    "#             y = [ske[i, 1]*1.2, ske[P[i]*1.2, 1]]\n",
    "#             z = [ske[i, 2]*1.2, ske[P[i]*1.2, 2]]\n",
    "            \n",
    "            # print x,y,z\n",
    "            ax.plot(x, y, z, lw=6, c=C[i])\n",
    "\n",
    "def get_all_plots(skeleton_strips_male,skeleton_strips_female):\n",
    "    m = 15\n",
    "    fig=plt.figure(figsize=(4  * 15 , 4))\n",
    "    gs = gridspec.GridSpec(1, m)\n",
    "    gs.update(wspace=0.05, hspace=0.0005) # set the spacing between axes. \n",
    "\n",
    "#     lcolor, rcolor = colors\n",
    "    for j in range(m):\n",
    "        idx = j\n",
    "        ax = plt.subplot(gs[idx], projection='3d')\n",
    "        color_ours = ['blue',  'green']\n",
    "        plot_skeleton(ax, skeleton_strips_male[j],color_ours)\n",
    "#         color_ours = ['#5879ff',  '#cc2520']\n",
    "        color_ours = ['k','m']\n",
    "        plot_skeleton(ax, skeleton_strips_female[j],color_ours)\n",
    "        \n",
    "\n",
    "    return fig\n",
    "\n",
    "\n",
    "\n",
    "# color_ours = ['blue',  'green']\n",
    "# color_ours = ['#5879ff',  '#cc2520']\n",
    "\n",
    "lr_flags = [\n",
    "    1, 1,\n",
    "    1, 1, 1,\n",
    "    0, 0, 0,\n",
    "    1,\n",
    "    1, 1, 1, 1,\n",
    "    0, 0, 0, 0,\n",
    "]"
   ]
  },
  {
   "cell_type": "code",
   "execution_count": 16,
   "metadata": {},
   "outputs": [
    {
     "name": "stdout",
     "output_type": "stream",
     "text": [
      "30\n",
      "30\n"
     ]
    }
   ],
   "source": [
    "youtube_gt_pose_one = sio.loadmat('/data/vcl/sid/human36_parsed/parsed_data/simulated_3d_poses/S8_Greeting 1_60457274_video_180_270_4.mat')['pose_3d']\n",
    "youtube_gt_images_one = glob.glob('/data/vcl/sid/human36_parsed/parsed_data/center_crops/S8_Greeting 1_60457274_video_180_270_4/*.png')\n",
    "\n",
    "\n",
    "youtube_gt_pose_two = sio.loadmat('/data/vcl/sid/human36_parsed/parsed_data/simulated_3d_poses/S8_Greeting 1_60457274_video_270_360_6.mat')['pose_3d']\n",
    "youtube_gt_images_two = glob.glob('/data/vcl/sid/human36_parsed/parsed_data/center_crops/S8_Greeting 1_60457274_video_270_360_6/*.png')\n",
    "\n",
    "\n",
    "youtube_gt_pose_three = sio.loadmat('/data/vcl/sid/human36_parsed/parsed_data/simulated_3d_poses/S8_Greeting 1_60457274_video_360_450_8.mat')['pose_3d']\n",
    "youtube_gt_images_three = glob.glob('/data/vcl/sid/human36_parsed/parsed_data/center_crops/S8_Greeting 1_60457274_video_360_450_8/*.png')\n",
    "\n",
    "youtube_gt_pose_four = sio.loadmat('/data/vcl/sid/human36_parsed/parsed_data/simulated_3d_poses/S8_Greeting 1_60457274_video_450_540_10.mat')['pose_3d']\n",
    "youtube_gt_images_four = glob.glob('/data/vcl/sid/human36_parsed/parsed_data/center_crops/S8_Greeting 1_60457274_video_450_540_10/*.png')\n",
    "\n",
    "\n",
    "youtube_gt_pose_five = sio.loadmat('/data/vcl/sid/human36_parsed/parsed_data/simulated_3d_poses/S8_Greeting 1_60457274_video_540_630_12.mat')['pose_3d']\n",
    "youtube_gt_images_five = glob.glob('/data/vcl/sid/human36_parsed/parsed_data/center_crops/S8_Greeting 1_60457274_video_540_630_12/*.png')\n",
    "\n",
    "\n",
    "youtube_gt_pose_six = sio.loadmat('/data/vcl/sid/human36_parsed/parsed_data/simulated_3d_poses/S8_Greeting 1_60457274_video_630_720_14.mat')['pose_3d']\n",
    "youtube_gt_images_six = glob.glob('/data/vcl/sid/human36_parsed/parsed_data/center_crops/S8_Greeting 1_60457274_video_630_720_14/*.png')\n",
    "\n",
    "\n",
    "\n",
    "\n",
    "# youtube_gt_pose_one = sio.loadmat('/data/vcl/sid/in_the_w_parsed/simulated_3d_poses_new/dance_16_video_135_225_3.mat')['pose_3d']\n",
    "# youtube_gt_images_one = glob.glob('/data/vcl/sid/in_the_w_parsed/img_normal/dance_16_video_135_225_3/*.png')\n",
    "\n",
    "# youtube_gt_pose_two = sio.loadmat('/data/vcl/sid/in_the_w_parsed/simulated_3d_poses_new/dance_16_video_225_315_5.mat')['pose_3d']\n",
    "# youtube_gt_images_two = glob.glob('/data/vcl/sid/in_the_w_parsed/img_normal/dance_16_video_225_315_5/*.png')\n",
    "\n",
    "# youtube_gt_pose_three = sio.loadmat('/data/vcl/sid/in_the_w_parsed/simulated_3d_poses_new/dance_16_video_315_405_7.mat')['pose_3d']\n",
    "# youtube_gt_images_three = glob.glob('/data/vcl/sid/in_the_w_parsed/img_normal/dance_16_video_315_405_7/*.png')\n",
    "\n",
    "# youtube_gt_pose_four = sio.loadmat('/data/vcl/sid/in_the_w_parsed/simulated_3d_poses_new/dance_16_video_405_495_9.mat')['pose_3d']\n",
    "# youtube_gt_images_four = glob.glob('/data/vcl/sid/in_the_w_parsed/img_normal/dance_16_video_405_495_9/*.png')\n",
    "\n",
    "# youtube_gt_pose_five = sio.loadmat('/data/vcl/sid/in_the_w_parsed/simulated_3d_poses_new/dance_16_video_495_585_11.mat')['pose_3d']\n",
    "# youtube_gt_images_five = glob.glob('/data/vcl/sid/in_the_w_parsed/img_normal/dance_16_video_495_585_11/*.png')\n",
    "\n",
    "# youtube_gt_pose_six = sio.loadmat('/data/vcl/sid/in_the_w_parsed/simulated_3d_poses_new/dance_16_video_585_675_13.mat')['pose_3d']\n",
    "# youtube_gt_images_six = glob.glob('/data/vcl/sid/in_the_w_parsed/img_normal/dance_16_video_585_675_13/*.png')\n",
    "\n",
    "def getint(name):\n",
    "    basename = name.split('_')[-1]\n",
    "    num = basename.split('.')[0]\n",
    "    return int(num)\n",
    "\n",
    "youtube_gt_images_one.sort(key=getint)\n",
    "gt_images_one = list(np.array(youtube_gt_images_one).copy())\n",
    "# gt_images_one = natsorted(youtube_gt_images_one)\n",
    "gt_pose_reshaped_one = youtube_gt_pose_one.reshape((-1,17,3))\n",
    "\n",
    "youtube_gt_images_two.sort(key=getint)\n",
    "gt_images_two = list(np.array(youtube_gt_images_two).copy())\n",
    "# gt_images_two = natsorted(youtube_gt_images_two)\n",
    "gt_pose_reshaped_two = youtube_gt_pose_two.reshape((-1,17,3))\n",
    "\n",
    "youtube_gt_images_three.sort(key=getint)\n",
    "gt_images_three = list(np.array(youtube_gt_images_three).copy())\n",
    "# gt_images_three = natsorted(youtube_gt_images_three)\n",
    "gt_pose_reshaped_three = youtube_gt_pose_three.reshape((-1,17,3))\n",
    "\n",
    "youtube_gt_images_four.sort(key=getint)\n",
    "gt_images_four = list(np.array(youtube_gt_images_four).copy())\n",
    "# gt_images_four = natsorted(youtube_gt_images_four)\n",
    "gt_pose_reshaped_four = youtube_gt_pose_four.reshape((-1,17,3))\n",
    "\n",
    "youtube_gt_images_five.sort(key=getint)\n",
    "gt_images_five = list(np.array(youtube_gt_images_five).copy())\n",
    "# gt_images_five = natsorted(youtube_gt_images_five)\n",
    "gt_pose_reshaped_five = youtube_gt_pose_five.reshape((-1,17,3))\n",
    "\n",
    "youtube_gt_images_six.sort(key=getint)\n",
    "gt_images_six = list(np.array(youtube_gt_images_six).copy())\n",
    "# gt_images_six = natsorted(youtube_gt_images_six)\n",
    "gt_pose_reshaped_six = youtube_gt_pose_six.reshape((-1,17,3))\n",
    "\n",
    "\n",
    "big_image_seq = list(gt_images_one) + list(gt_images_two) + list(gt_images_three) + list(gt_images_four) + list(gt_images_five) + list(gt_images_six)\n",
    "big_pose_seq = list(gt_pose_reshaped_one) + list(gt_pose_reshaped_two) + list(gt_pose_reshaped_three) + list(gt_pose_reshaped_four) +list(gt_pose_reshaped_five) +list(gt_pose_reshaped_six) \n",
    "\n",
    "# gt_images_full = gt_images_or[30:90][::4]\n",
    "# gt_poses_full = gt_pose_reshaped_or[30:90][::4]\n",
    "\n",
    "\n",
    "# gt_images_full_prior = gt_images_prior_or[60:90][::4] + gt_images_or[0:30][::4]\n",
    "# gt_poses_full_prior = gt_pose_reshaped_prior_or[60:90][::4] + gt_pose_reshaped_or[0:30][::4]\n",
    "\n",
    "\n",
    "\n",
    "# gt_images_full_post = gt_images_post_or[0:60][::4]\n",
    "# gt_poses_full_post = gt_pose_reshaped_post_or[0:60][::4]\n",
    "\n",
    "# gt_images_full = big_image_seq[::4][27:42]#mads\n",
    "# gt_poses_full = big_pose_seq[::4][27:42]#mads\n",
    "\n",
    "\n",
    "gt_images_full = big_image_seq[::8][19:49]\n",
    "\n",
    "gt_poses_full = big_pose_seq[::8][19:49]\n",
    "\n",
    "\n",
    "print len(gt_images_full)\n",
    "print len(gt_poses_full)\n"
   ]
  },
  {
   "cell_type": "code",
   "execution_count": 3,
   "metadata": {},
   "outputs": [],
   "source": [
    "def get_sequence_data():\n",
    "    while True :\n",
    "        try :\n",
    "            path = '/data/vcl/sid/human36_parsed/parsed_data/simulated_3d_poses/'\n",
    "            k = natsorted(glob.glob(path+'*'))\n",
    "            categories= [i.split('/')[-1].split('.')[0] for i in k]\n",
    "            videos = [i.split('video')[0] for i in categories]\n",
    "            from collections import Counter \n",
    "            vid_keys = dict(Counter(videos)).keys()\n",
    "\n",
    "            rand_key = np.random.choice(vid_keys)\n",
    "            req_vid = [i for i in k if rand_key in i]\n",
    "            rand_ord = req_vid[np.random.choice([0,1])::2]\n",
    "            arr= []\n",
    "            for i in range(len(rand_ord)-5):\n",
    "                arr.append(rand_ord[i:i+6])\n",
    "            rand_seq = [i.replace('.mat','').split('/')[-1] for i in arr[np.random.choice(np.arange(len(arr)))]]\n",
    "\n",
    "\n",
    "\n",
    "            youtube_gt_pose_one = sio.loadmat('/data/vcl/sid/human36_parsed/parsed_data/simulated_3d_poses/'+rand_seq[0]+'.mat')['pose_3d']\n",
    "            youtube_gt_images_one = glob.glob('/data/vcl/sid/human36_parsed/parsed_data/center_crops/'+rand_seq[0]+'/*.png')\n",
    "\n",
    "\n",
    "            youtube_gt_pose_two = sio.loadmat('/data/vcl/sid/human36_parsed/parsed_data/simulated_3d_poses/'+rand_seq[1]+'.mat')['pose_3d']\n",
    "            youtube_gt_images_two = glob.glob('/data/vcl/sid/human36_parsed/parsed_data/center_crops/'+rand_seq[1]+'/*.png')\n",
    "\n",
    "\n",
    "            youtube_gt_pose_three = sio.loadmat('/data/vcl/sid/human36_parsed/parsed_data/simulated_3d_poses/'+rand_seq[2]+'.mat')['pose_3d']\n",
    "            youtube_gt_images_three = glob.glob('/data/vcl/sid/human36_parsed/parsed_data/center_crops/'+rand_seq[2]+'/*.png')\n",
    "\n",
    "            youtube_gt_pose_four = sio.loadmat('/data/vcl/sid/human36_parsed/parsed_data/simulated_3d_poses/'+rand_seq[3]+'.mat')['pose_3d']\n",
    "            youtube_gt_images_four = glob.glob('/data/vcl/sid/human36_parsed/parsed_data/center_crops/'+rand_seq[3]+'/*.png')\n",
    "\n",
    "\n",
    "            youtube_gt_pose_five = sio.loadmat('/data/vcl/sid/human36_parsed/parsed_data/simulated_3d_poses/'+rand_seq[4]+'.mat')['pose_3d']\n",
    "            youtube_gt_images_five = glob.glob('/data/vcl/sid/human36_parsed/parsed_data/center_crops/'+rand_seq[4]+'/*.png')\n",
    "\n",
    "\n",
    "            youtube_gt_pose_six = sio.loadmat('/data/vcl/sid/human36_parsed/parsed_data/simulated_3d_poses/'+rand_seq[5]+'.mat')['pose_3d']\n",
    "            youtube_gt_images_six = glob.glob('/data/vcl/sid/human36_parsed/parsed_data/center_crops/'+rand_seq[5]+'/*.png')\n",
    "\n",
    "            def getint(name):\n",
    "                basename = name.split('_')[-1]\n",
    "                num = basename.split('.')[0]\n",
    "                return int(num)\n",
    "\n",
    "            youtube_gt_images_one.sort(key=getint)\n",
    "            gt_images_one = list(np.array(youtube_gt_images_one).copy())\n",
    "            # gt_images_one = natsorted(youtube_gt_images_one)\n",
    "            gt_pose_reshaped_one = youtube_gt_pose_one.reshape((-1,17,3))\n",
    "\n",
    "            youtube_gt_images_two.sort(key=getint)\n",
    "            gt_images_two = list(np.array(youtube_gt_images_two).copy())\n",
    "            # gt_images_two = natsorted(youtube_gt_images_two)\n",
    "            gt_pose_reshaped_two = youtube_gt_pose_two.reshape((-1,17,3))\n",
    "\n",
    "            youtube_gt_images_three.sort(key=getint)\n",
    "            gt_images_three = list(np.array(youtube_gt_images_three).copy())\n",
    "            # gt_images_three = natsorted(youtube_gt_images_three)\n",
    "            gt_pose_reshaped_three = youtube_gt_pose_three.reshape((-1,17,3))\n",
    "\n",
    "            youtube_gt_images_four.sort(key=getint)\n",
    "            gt_images_four = list(np.array(youtube_gt_images_four).copy())\n",
    "            # gt_images_four = natsorted(youtube_gt_images_four)\n",
    "            gt_pose_reshaped_four = youtube_gt_pose_four.reshape((-1,17,3))\n",
    "\n",
    "            youtube_gt_images_five.sort(key=getint)\n",
    "            gt_images_five = list(np.array(youtube_gt_images_five).copy())\n",
    "            # gt_images_five = natsorted(youtube_gt_images_five)\n",
    "            gt_pose_reshaped_five = youtube_gt_pose_five.reshape((-1,17,3))\n",
    "\n",
    "            youtube_gt_images_six.sort(key=getint)\n",
    "            gt_images_six = list(np.array(youtube_gt_images_six).copy())\n",
    "            # gt_images_six = natsorted(youtube_gt_images_six)\n",
    "            gt_pose_reshaped_six = youtube_gt_pose_six.reshape((-1,17,3))\n",
    "\n",
    "\n",
    "            big_image_seq = list(gt_images_one) + list(gt_images_two) + list(gt_images_three) + list(gt_images_four) + list(gt_images_five) + list(gt_images_six)\n",
    "            big_pose_seq = list(gt_pose_reshaped_one) + list(gt_pose_reshaped_two) + list(gt_pose_reshaped_three) + list(gt_pose_reshaped_four) +list(gt_pose_reshaped_five) +list(gt_pose_reshaped_six) \n",
    "\n",
    "            gt_images_full = big_image_seq[::8][19:49]\n",
    "\n",
    "            gt_poses_full = big_pose_seq[::8][19:49]\n",
    "\n",
    "            #########################SLOW#####################\n",
    "            def mid(arr, n):\n",
    "                L = len(arr)\n",
    "                if n <= 0:\n",
    "                    return ''\n",
    "                elif n < L:\n",
    "                    Lr = L % 2\n",
    "                    a, ar = divmod(L-n, 2)\n",
    "                    b, br = divmod(L+n, 2)\n",
    "                    a += Lr*ar\n",
    "                    b += Lr*br\n",
    "                    arr = arr[a:b]\n",
    "                return arr\n",
    "\n",
    "\n",
    "            gt_images_all = big_image_seq[::4]\n",
    "            gt_poses_all = big_pose_seq[::4]\n",
    "\n",
    "\n",
    "            gt_images_small = gt_images_all[::2]\n",
    "            gt_poses_small = gt_poses_all[::2]\n",
    "\n",
    "\n",
    "            seq_temp_images = mid(gt_images_small,30)\n",
    "            seq_temp_poses = mid(gt_poses_small,30)\n",
    "            twox_images =  seq_temp_images\n",
    "\n",
    "            twox_poses = seq_temp_poses\n",
    "\n",
    "            seq_twox_images = mid(seq_temp_images,15)\n",
    "            seq_twox_poses = mid(seq_temp_poses,15)\n",
    "            # print len(seq_twox_poses)\n",
    "            index_all_begin =  gt_images_all.index(seq_twox_images[0])\n",
    "\n",
    "            index_all_end =  gt_images_all.index(seq_twox_images[-1]) + 2\n",
    "\n",
    "            seq_onex_images = gt_images_all[index_all_begin:index_all_end ] \n",
    "            seq_onex_poses = gt_poses_all[index_all_begin:index_all_end ] \n",
    "\n",
    "\n",
    "            onex_images = np.array(seq_onex_images)\n",
    "\n",
    "            onex_poses = np.array(seq_onex_poses)\n",
    "\n",
    "            gt_images_all_2 = big_image_seq[::2]\n",
    "            gt_poses_all_2 = big_pose_seq[::2]\n",
    "\n",
    "            seq_halfx_images = mid(onex_images,15)\n",
    "            seq_halfx_poses = mid(onex_poses,15)\n",
    "\n",
    "            index_all_begin =  gt_images_all_2.index(seq_halfx_images[0])\n",
    "\n",
    "            index_all_end =  gt_images_all_2.index(seq_halfx_images[-1]) + 2\n",
    "\n",
    "            seq_halfx_images = gt_images_all_2[index_all_begin:index_all_end ] \n",
    "            seq_halfx_poses = np.array(gt_poses_all_2[index_all_begin:index_all_end ] )\n",
    "            break \n",
    "        except :\n",
    "            pass\n",
    "\n",
    "    return twox_images,twox_poses,onex_images,onex_poses,seq_halfx_images,seq_halfx_poses\n"
   ]
  },
  {
   "cell_type": "code",
   "execution_count": 4,
   "metadata": {},
   "outputs": [],
   "source": [
    "final_data = []\n",
    "\n",
    "for i in range(50):\n",
    "    final_data.append(get_sequence_data())\n",
    "    \n",
    "    "
   ]
  },
  {
   "cell_type": "code",
   "execution_count": 5,
   "metadata": {},
   "outputs": [],
   "source": [
    "twox_images = [i[0] for i in final_data]\n",
    "twox_poses = np.array([i[1] for i in final_data])\n",
    "onex_images = [i[2] for i in final_data]\n",
    "onex_poses = np.array([i[3] for i in final_data])\n",
    "seq_halfx_images = [i[4] for i in final_data]\n",
    "seq_halfx_poses = np.array([i[5] for i in final_data])"
   ]
  },
  {
   "cell_type": "code",
   "execution_count": 6,
   "metadata": {},
   "outputs": [],
   "source": [
    "flipped_forward = np.array(rules_numpy.x_flip(np.reshape((onex_poses),(-1,H.num_joints , 3))))\n",
    "normal_backward = np.array([list(reversed(i)) for i in onex_poses.reshape((-1,H.seq_length,H.num_joints * 3))]).reshape((-1,H.num_joints,3))\n",
    "fast_forward = np.array(twox_poses).reshape((-1,H.num_joints,3))\n",
    "slow_backward = np.array([list(reversed(i)) for i in seq_halfx_poses.reshape((-1,H.seq_length,H.num_joints * 3))]).reshape((-1,H.num_joints,3))\n",
    "original_sequence = onex_poses.reshape((-1,H.num_joints,3))"
   ]
  },
  {
   "cell_type": "code",
   "execution_count": 7,
   "metadata": {},
   "outputs": [],
   "source": [
    "# What are the rules:\n",
    "# Rule 1 - Flipped-forward-to-normal-backward\n",
    "# Rule 2 - Fast-forward-to-slow-backward\n"
   ]
  },
  {
   "cell_type": "code",
   "execution_count": 8,
   "metadata": {},
   "outputs": [
    {
     "name": "stdout",
     "output_type": "stream",
     "text": [
      "WARNING:tensorflow:From commons/tf_transform.py:17: calling norm (from tensorflow.python.ops.linalg_ops) with keep_dims is deprecated and will be removed in a future version.\n",
      "Instructions for updating:\n",
      "keep_dims is deprecated, use keepdims instead\n",
      "WARNING:tensorflow:From commons/tf_transform.py:21: calling reduce_sum (from tensorflow.python.ops.math_ops) with keep_dims is deprecated and will be removed in a future version.\n",
      "Instructions for updating:\n",
      "keep_dims is deprecated, use keepdims instead\n",
      "\u001b[34mloading weights\u001b[0m\n",
      "INFO:tensorflow:Restoring parameters from ../pose_embedding_training_non_norm_range_ten_vneck/pretrained_weights/encoder_iter-1475001\n",
      "\u001b[33mloaded pose_encoder weights\u001b[0m\n",
      "INFO:tensorflow:Restoring parameters from ../pose_embedding_training_non_norm_range_ten_vneck/pretrained_weights/decoder_iter-1475001\n",
      "\u001b[34mloaded pose_decoder weights\u001b[0m\n",
      "INFO:tensorflow:Restoring parameters from ../motion_embedding_training_non_norm_range_ten_vneck/weights/lstm_encoder/motion_net_expt_seq30_HuMaMpi91500\n",
      "\u001b[32mloaded pose lstm_encoder weights\u001b[0m\n",
      "INFO:tensorflow:Restoring parameters from ../motion_embedding_training_non_norm_range_ten_vneck/weights/lstm_decoder/motion_net_expt_seq30_HuMaMpi91500\n",
      "\u001b[31mloaded pose lstm_decoder weights\u001b[0m\n"
     ]
    }
   ],
   "source": [
    "\n",
    "input_ph = tf.placeholder(tf.float32, shape= [None , H.num_joints ,3],name = 'skeleton_input')\n",
    "\n",
    "global_step = tf.train.get_or_create_global_step()\n",
    "\n",
    "encoder_out = graph.apply_pose_encoder(input_ph)#root relative\n",
    "\n",
    "pose_encoder_params = graph.get_network_params(\"Encoder_net\")#embeddings\n",
    "\n",
    "encoder_input = tf.reshape(encoder_out,(-1,H.seq_length,32))#sequence of embeddings\n",
    "\n",
    "encoder_lstm_out = model.apply_encoder(encoder_input,name ='motion_encoder')\n",
    "\n",
    "z_state = encoder_lstm_out['z_state']\n",
    "\n",
    "z_outputs = encoder_lstm_out['z_outputs']\n",
    "\n",
    "decoder_lstm_out = model.apply_decoder(z_state,z_outputs,name = 'motion_decoder')\n",
    "\n",
    "motion_recon = decoder_lstm_out['x_recon']\n",
    "\n",
    "motion_recon_reshaped = tf.reshape(motion_recon,((-1,32)))\n",
    "\n",
    "pose_recon = graph.apply_pose_decoder(motion_recon_reshaped)#view norm\n",
    "\n",
    "pose_decoder_params = graph.get_network_params(\"Decoder_net\")\n",
    "\n",
    "loss_motion = tf.reduce_mean((pose_recon - input_ph)**2)\n",
    "\n",
    "param_lstm_encoder = model.get_network_params('motion_encoder')\n",
    "\n",
    "param_lstm_decoder = model.get_network_params('motion_decoder')\n",
    "\n",
    "sess.run(tf.global_variables_initializer())\n",
    "\n",
    "print colored(\"loading weights\",\"blue\")\n",
    "\n",
    "tf.train.Saver(pose_encoder_params).restore(sess,'../pose_embedding_training_non_norm_range_ten_vneck/pretrained_weights/encoder_iter-1475001')\n",
    "print colored(\"loaded pose_encoder weights\",\"yellow\")\n",
    "\n",
    "tf.train.Saver(pose_decoder_params).restore(sess,'../pose_embedding_training_non_norm_range_ten_vneck/pretrained_weights/decoder_iter-1475001')\n",
    "print colored(\"loaded pose_decoder weights\",\"blue\")\n",
    "\n",
    "tf.train.Saver(param_lstm_encoder).restore(sess,tf.train.latest_checkpoint('../motion_embedding_training_non_norm_range_ten_vneck/weights/lstm_encoder/'))\n",
    "print colored(\"loaded pose lstm_encoder weights\",\"green\")\n",
    "#\n",
    "tf.train.Saver(param_lstm_decoder).restore(sess,tf.train.latest_checkpoint('../motion_embedding_training_non_norm_range_ten_vneck/weights/lstm_decoder/'))\n",
    "print colored(\"loaded pose lstm_decoder weights\",\"red\")\n"
   ]
  },
  {
   "cell_type": "code",
   "execution_count": 9,
   "metadata": {},
   "outputs": [],
   "source": [
    "\n",
    "# feed_dict = {input_ph : original_sequence}\n",
    "\n",
    "# op_train_dict = sess.run({'loss':loss_motion, 'z_state': z_state}, feed_dict=feed_dict)"
   ]
  },
  {
   "cell_type": "code",
   "execution_count": 10,
   "metadata": {},
   "outputs": [],
   "source": [
    "flipped_forward_dict = sess.run({'loss':loss_motion, 'z_state': z_state}, feed_dict={input_ph : flipped_forward})\n",
    "normal_backward_dict = sess.run({'loss':loss_motion, 'z_state': z_state}, feed_dict={input_ph : normal_backward})\n",
    "fast_forward_dict = sess.run({'loss':loss_motion, 'z_state': z_state}, feed_dict={input_ph : fast_forward})\n",
    "slow_backward_dict = sess.run({'loss':loss_motion, 'z_state': z_state}, feed_dict={input_ph : slow_backward})\n",
    "original_sequence_dict = sess.run({'loss':loss_motion, 'z_state': z_state}, feed_dict={input_ph : original_sequence})"
   ]
  },
  {
   "cell_type": "code",
   "execution_count": 20,
   "metadata": {},
   "outputs": [],
   "source": [
    "poses_dict = {'flipped_forward' : flipped_forward,\n",
    "              'normal_backward' : normal_backward,\n",
    "              'fast_forward' : fast_forward,\n",
    "              'slow_backward' : slow_backward,\n",
    "              'original_sequence' : original_sequence}\n",
    "\n",
    "sio.savemat('./pca_poses.mat',poses_dict)"
   ]
  },
  {
   "cell_type": "code",
   "execution_count": 14,
   "metadata": {},
   "outputs": [],
   "source": [
    "import matplotlib.pyplot as plt\n",
    "from sklearn.decomposition import PCA\n",
    "\n",
    "final_dict_ = [flipped_forward_dict,normal_backward_dict,fast_forward_dict,slow_backward_dict,original_sequence_dict]\n",
    "\n",
    "pca_x = []\n",
    "pca_y = []\n",
    "for  i in final_dict_:\n",
    "    pca = PCA(n_components=2)\n",
    "    X_r = pca.fit(i['z_state']).transform(i['z_state'])\n",
    "    pca_x.append(X_r[:,0][0])\n",
    "    pca_y.append(X_r[:,1][0])\n",
    "#     %matplotlib inline\n",
    "#     plt.scatter(X_r[:,0][:1] , X_r[:,1][:1],color = 'red' , lw =2)"
   ]
  },
  {
   "cell_type": "code",
   "execution_count": 19,
   "metadata": {},
   "outputs": [
    {
     "data": {
      "text/plain": [
       "<matplotlib.collections.PathCollection at 0x7f179007ef10>"
      ]
     },
     "execution_count": 19,
     "metadata": {},
     "output_type": "execute_result"
    },
    {
     "data": {
      "image/png": "[encoded data removed]",
      "text/plain": [
       "<Figure size 432x288 with 1 Axes>"
      ]
     },
     "metadata": {
      "needs_background": "light"
     },
     "output_type": "display_data"
    }
   ],
   "source": [
    "%matplotlib inline\n",
    "index = 2\n",
    "plt.scatter(pca_x , pca_y,color = 'red' , lw =2)\n",
    "plt.scatter(pca_x[index] , pca_y[index],color = 'blue' , lw =4)\n"
   ]
  },
  {
   "cell_type": "code",
   "execution_count": 35,
   "metadata": {},
   "outputs": [
    {
     "data": {
      "text/plain": [
       "<matplotlib.collections.PathCollection at 0x7f7fc0eb8090>"
      ]
     },
     "execution_count": 35,
     "metadata": {},
     "output_type": "execute_result"
    },
    {
     "data": {
      "image/png": "[encoded data removed]",
      "text/plain": [
       "<Figure size 432x288 with 1 Axes>"
      ]
     },
     "metadata": {
      "needs_background": "light"
     },
     "output_type": "display_data"
    }
   ],
   "source": [
    "pca = PCA(n_components=2)\n",
    "X_r = pca.fit(normal_backward_dict['z_state']).transform(normal_backward_dict['z_state'])\n",
    "%matplotlib inline\n",
    "plt.scatter(X_r[:,0][:1] , X_r[:,1][:1],color = 'red' , lw =2)"
   ]
  },
  {
   "cell_type": "code",
   "execution_count": 31,
   "metadata": {},
   "outputs": [
    {
     "data": {
      "text/plain": [
       "<matplotlib.collections.PathCollection at 0x7f7fe3b83dd0>"
      ]
     },
     "execution_count": 31,
     "metadata": {},
     "output_type": "execute_result"
    },
    {
     "data": {
      "image/png": "[encoded data removed]",
      "text/plain": [
       "<Figure size 432x288 with 1 Axes>"
      ]
     },
     "metadata": {
      "needs_background": "light"
     },
     "output_type": "display_data"
    }
   ],
   "source": [
    "pca = PCA(n_components=2)\n",
    "X_r = pca.fit(fast_forward_dict['z_state']).transform(fast_forward_dict['z_state'])\n",
    "%matplotlib inline\n",
    "plt.scatter(X_r[:,0][:1] , X_r[:,1][:1],color = 'red' , lw =2)"
   ]
  },
  {
   "cell_type": "code",
   "execution_count": 32,
   "metadata": {},
   "outputs": [
    {
     "data": {
      "text/plain": [
       "<matplotlib.collections.PathCollection at 0x7f7fde85f550>"
      ]
     },
     "execution_count": 32,
     "metadata": {},
     "output_type": "execute_result"
    },
    {
     "data": {
      "image/png": "[encoded data removed]",
      "text/plain": [
       "<Figure size 432x288 with 1 Axes>"
      ]
     },
     "metadata": {
      "needs_background": "light"
     },
     "output_type": "display_data"
    }
   ],
   "source": [
    "pca = PCA(n_components=2)\n",
    "X_r = pca.fit(slow_backward_dict['z_state']).transform(slow_backward_dict['z_state'])\n",
    "%matplotlib inline\n",
    "plt.scatter(X_r[:,0][:1] , X_r[:,1][:1],color = 'red' , lw =2)"
   ]
  },
  {
   "cell_type": "code",
   "execution_count": 33,
   "metadata": {},
   "outputs": [
    {
     "data": {
      "text/plain": [
       "<matplotlib.collections.PathCollection at 0x7f7fc114d1d0>"
      ]
     },
     "execution_count": 33,
     "metadata": {},
     "output_type": "execute_result"
    },
    {
     "data": {
      "image/png": "[encoded data removed]",
      "text/plain": [
       "<Figure size 432x288 with 1 Axes>"
      ]
     },
     "metadata": {
      "needs_background": "light"
     },
     "output_type": "display_data"
    }
   ],
   "source": [
    "pca = PCA(n_components=2)\n",
    "X_r = pca.fit(original_sequence_dict['z_state']).transform(original_sequence_dict['z_state'])\n",
    "%matplotlib inline\n",
    "plt.scatter(X_r[:,0][:1] , X_r[:,1][:1],color = 'red' , lw =2)"
   ]
  },
  {
   "cell_type": "code",
   "execution_count": 47,
   "metadata": {},
   "outputs": [
    {
     "name": "stdout",
     "output_type": "stream",
     "text": [
      "check_data.ipynb  model_componets.py\t\t\t test_train.png\r\n",
      "commons\t\t  model_componets.pyc\t\t\t test_valid.png\r\n",
      "data_loader.py\t  model.py\t\t\t\t train.py\r\n",
      "data_loader.pyc   model.pyc\t\t\t\t utils.py\r\n",
      "graph.py\t  motion_embedding_rules_pca_plot.ipynb  utils.pyc\r\n",
      "graph.pyc\t  pretrained_weights\t\t\t vis_image.py\r\n",
      "hyperparams.py\t  rules_numpy.py\t\t\t vis_image.pyc\r\n",
      "hyperparams.pyc   rules_numpy.pyc\t\t\t visualizations.ipynb\r\n",
      "logs\t\t  scrap_notebook.ipynb\t\t\t weights\r\n"
     ]
    }
   ],
   "source": [
    "!ls\n"
   ]
  },
  {
   "cell_type": "code",
   "execution_count": 48,
   "metadata": {},
   "outputs": [],
   "source": [
    "k= glob.glob('/data/vcl/anirudh_rule_based/codes_2020/reqd/new_sid_plots/new_sid_plots/*/main_fig_3d.png')"
   ]
  },
  {
   "cell_type": "code",
   "execution_count": 51,
   "metadata": {},
   "outputs": [
    {
     "name": "stdout",
     "output_type": "stream",
     "text": [
      "wild_courtyard_capoeira\n",
      "youtube_dance_104\n",
      "mpi_TS1\n",
      "youtube_dance_103\n",
      "youtube_dance_10\n",
      "youtube_dance_8\n",
      "human_S9_Discussion\n",
      "wild_outdoors_climbing\n",
      "wild_courtyard_arguing\n",
      "mpi_TS3\n",
      "human_S11_Posing\n",
      "human_S11_Walking\n",
      "human_S11_Greeting\n",
      "youtube_dance_3\n",
      "wild_courtyard_goodNews\n",
      "mpi_TS4\n",
      "mpi_TS6\n",
      "mpi_TS2\n",
      "mpi_TS5\n",
      "human_S11_Discussion\n",
      "wild_courtyard_bodyScannerMotions\n",
      "human_S9_Smoking\n",
      "wild_outdoors_slalom\n",
      "youtube_dance_24\n",
      "youtube_dance_34\n",
      "youtube_dance_35\n",
      "youtube_dance_110\n",
      "human_S9_WalkDog\n",
      "human_S9_Purchases\n",
      "youtube_dance_102\n"
     ]
    }
   ],
   "source": [
    "for i in k :\n",
    "    file_name = i.split(\"/\")[-2]\n",
    "    print (file_name)\n",
    "    os.system(\"cp -r {} {}\".format(i,'/data/vcl/anirudh_rule_based/codes_2020/reqd/'+file_name+'.png'))"
   ]
  },
  {
   "cell_type": "code",
   "execution_count": null,
   "metadata": {},
   "outputs": [],
   "source": []
  }
 ],
 "metadata": {
  "kernelspec": {
   "display_name": "rahul",
   "language": "python",
   "name": "rahul"
  },
  "language_info": {
   "codemirror_mode": {
    "name": "ipython",
    "version": 2
   },
   "file_extension": ".py",
   "mimetype": "text/x-python",
   "name": "python",
   "nbconvert_exporter": "python",
   "pygments_lexer": "ipython2",
   "version": "2.7.12"
  }
 },
 "nbformat": 4,
 "nbformat_minor": 2
}
